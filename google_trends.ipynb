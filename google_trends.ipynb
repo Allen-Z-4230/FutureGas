{
 "cells": [
  {
   "cell_type": "markdown",
   "metadata": {},
   "source": [
    "# Google trends data exploration"
   ]
  },
  {
   "cell_type": "code",
   "execution_count": 3,
   "metadata": {},
   "outputs": [],
   "source": [
    "import pandas as pd\n",
    "from pytrends.request import TrendReq\n",
    "import matplotlib.pyplot as plt\n",
    "from statsmodels.tsa.arima_model import ARIMA\n",
    "\n",
    "\n",
    "from pandas.plotting import register_matplotlib_converters\n",
    "register_matplotlib_converters()"
   ]
  },
  {
   "cell_type": "code",
   "execution_count": 4,
   "metadata": {},
   "outputs": [],
   "source": [
    "pytrends = TrendReq(hl='en-US', tz=360)"
   ]
  },
  {
   "cell_type": "markdown",
   "metadata": {},
   "source": [
    "### Setup a payload for 'Gas prices' in the US "
   ]
  },
  {
   "cell_type": "code",
   "execution_count": 5,
   "metadata": {},
   "outputs": [],
   "source": [
    "keyword = \"Gas prices\"\n",
    "kw_list = [keyword]\n",
    "pytrends.build_payload(kw_list, cat=0, timeframe='all', geo='US', gprop='')"
   ]
  },
  {
   "cell_type": "code",
   "execution_count": 6,
   "metadata": {},
   "outputs": [
    {
     "data": {
      "text/html": [
       "<div>\n",
       "<style scoped>\n",
       "    .dataframe tbody tr th:only-of-type {\n",
       "        vertical-align: middle;\n",
       "    }\n",
       "\n",
       "    .dataframe tbody tr th {\n",
       "        vertical-align: top;\n",
       "    }\n",
       "\n",
       "    .dataframe thead th {\n",
       "        text-align: right;\n",
       "    }\n",
       "</style>\n",
       "<table border=\"1\" class=\"dataframe\">\n",
       "  <thead>\n",
       "    <tr style=\"text-align: right;\">\n",
       "      <th></th>\n",
       "      <th>Gas prices</th>\n",
       "      <th>isPartial</th>\n",
       "    </tr>\n",
       "    <tr>\n",
       "      <th>date</th>\n",
       "      <th></th>\n",
       "      <th></th>\n",
       "    </tr>\n",
       "  </thead>\n",
       "  <tbody>\n",
       "    <tr>\n",
       "      <th>2004-01-01</th>\n",
       "      <td>5</td>\n",
       "      <td>False</td>\n",
       "    </tr>\n",
       "    <tr>\n",
       "      <th>2004-02-01</th>\n",
       "      <td>6</td>\n",
       "      <td>False</td>\n",
       "    </tr>\n",
       "    <tr>\n",
       "      <th>2004-03-01</th>\n",
       "      <td>11</td>\n",
       "      <td>False</td>\n",
       "    </tr>\n",
       "    <tr>\n",
       "      <th>2004-04-01</th>\n",
       "      <td>12</td>\n",
       "      <td>False</td>\n",
       "    </tr>\n",
       "    <tr>\n",
       "      <th>2004-05-01</th>\n",
       "      <td>32</td>\n",
       "      <td>False</td>\n",
       "    </tr>\n",
       "  </tbody>\n",
       "</table>\n",
       "</div>"
      ],
      "text/plain": [
       "            Gas prices isPartial\n",
       "date                            \n",
       "2004-01-01           5     False\n",
       "2004-02-01           6     False\n",
       "2004-03-01          11     False\n",
       "2004-04-01          12     False\n",
       "2004-05-01          32     False"
      ]
     },
     "execution_count": 6,
     "metadata": {},
     "output_type": "execute_result"
    }
   ],
   "source": [
    "# Get the gasoline interest dataframe.\n",
    "interest_df = pytrends.interest_over_time()\n",
    "interest_df.head()\n",
    "\n",
    "# TODO: List some major economic events in the U.S.\n",
    "# Can even look at data by state - geo = 'US-WA' for example. can do a map visualization over time of state relative queries."
   ]
  },
  {
   "cell_type": "markdown",
   "metadata": {},
   "source": [
    "#### What do the numbers represent?\n",
    "From google trends: \"Numbers represent search interest relative to the highest point on the chart for the given region and time. A value of 100 is the peak popularity for the term. A value of 50 means that the term is half as popular. A score of 0 means there was not enough data for this term.\""
   ]
  },
  {
   "cell_type": "markdown",
   "metadata": {},
   "source": [
    "### Check for null entries"
   ]
  },
  {
   "cell_type": "code",
   "execution_count": 7,
   "metadata": {},
   "outputs": [],
   "source": [
    "has_null = any(interest_df[keyword].isnull())\n",
    "if has_null:\n",
    "    print(\"Null entries found... removing null entries\")\n",
    "    interest_df = interest_df.dropna()\n",
    "    has_null = any(interest_df['Gas prices'].isnull())\n",
    "    \n",
    "assert not has_null"
   ]
  },
  {
   "cell_type": "markdown",
   "metadata": {},
   "source": [
    "### Check that there is consistent time granularity between rows"
   ]
  },
  {
   "cell_type": "code",
   "execution_count": 8,
   "metadata": {},
   "outputs": [
    {
     "name": "stdout",
     "output_type": "stream",
     "text": [
      "Time granularity is approximately: 30 days 00:00:00\n"
     ]
    }
   ],
   "source": [
    "for i in range(interest_df.shape[0] - 1):\n",
    "    entry_time_difference = interest_df.index[i + 1] - interest_df.index[i]\n",
    "    x = list(entry_time_difference.components)\n",
    "    assert sum(x) == max(x)\n",
    "\n",
    "# A sample difference in time between rows.\n",
    "print(\"Time granularity is approximately:\", entry_time_difference)"
   ]
  },
  {
   "cell_type": "markdown",
   "metadata": {},
   "source": [
    "### Describe data"
   ]
  },
  {
   "cell_type": "code",
   "execution_count": 9,
   "metadata": {},
   "outputs": [
    {
     "data": {
      "text/html": [
       "<div>\n",
       "<style scoped>\n",
       "    .dataframe tbody tr th:only-of-type {\n",
       "        vertical-align: middle;\n",
       "    }\n",
       "\n",
       "    .dataframe tbody tr th {\n",
       "        vertical-align: top;\n",
       "    }\n",
       "\n",
       "    .dataframe thead th {\n",
       "        text-align: right;\n",
       "    }\n",
       "</style>\n",
       "<table border=\"1\" class=\"dataframe\">\n",
       "  <thead>\n",
       "    <tr style=\"text-align: right;\">\n",
       "      <th></th>\n",
       "      <th>Gas prices</th>\n",
       "    </tr>\n",
       "  </thead>\n",
       "  <tbody>\n",
       "    <tr>\n",
       "      <th>count</th>\n",
       "      <td>185.000000</td>\n",
       "    </tr>\n",
       "    <tr>\n",
       "      <th>mean</th>\n",
       "      <td>13.616216</td>\n",
       "    </tr>\n",
       "    <tr>\n",
       "      <th>std</th>\n",
       "      <td>11.261649</td>\n",
       "    </tr>\n",
       "    <tr>\n",
       "      <th>min</th>\n",
       "      <td>5.000000</td>\n",
       "    </tr>\n",
       "    <tr>\n",
       "      <th>25%</th>\n",
       "      <td>8.000000</td>\n",
       "    </tr>\n",
       "    <tr>\n",
       "      <th>50%</th>\n",
       "      <td>10.000000</td>\n",
       "    </tr>\n",
       "    <tr>\n",
       "      <th>75%</th>\n",
       "      <td>14.000000</td>\n",
       "    </tr>\n",
       "    <tr>\n",
       "      <th>max</th>\n",
       "      <td>100.000000</td>\n",
       "    </tr>\n",
       "  </tbody>\n",
       "</table>\n",
       "</div>"
      ],
      "text/plain": [
       "       Gas prices\n",
       "count  185.000000\n",
       "mean    13.616216\n",
       "std     11.261649\n",
       "min      5.000000\n",
       "25%      8.000000\n",
       "50%     10.000000\n",
       "75%     14.000000\n",
       "max    100.000000"
      ]
     },
     "execution_count": 9,
     "metadata": {},
     "output_type": "execute_result"
    }
   ],
   "source": [
    "interest_df.describe()"
   ]
  },
  {
   "cell_type": "markdown",
   "metadata": {},
   "source": [
    "### Trend visualization for keywords"
   ]
  },
  {
   "cell_type": "code",
   "execution_count": 10,
   "metadata": {},
   "outputs": [
    {
     "data": {
      "image/png": "[encoded data removed]",
      "text/plain": [
       "<Figure size 432x288 with 1 Axes>"
      ]
     },
     "metadata": {
      "needs_background": "light"
     },
     "output_type": "display_data"
    }
   ],
   "source": [
    "for k_word in interest_df.columns:\n",
    "    if k_word == 'isPartial':\n",
    "        continue\n",
    "        \n",
    "    plt.plot(interest_df.index, interest_df[k_word])\n",
    "    plt.ylabel(\"Relative interest of \\'{}\\' in the US\".format(k_word))\n",
    "    plt.show()"
   ]
  },
  {
   "cell_type": "markdown",
   "metadata": {},
   "source": [
    "### Sample ARIMA model fitting on data"
   ]
  },
  {
   "cell_type": "code",
   "execution_count": 11,
   "metadata": {},
   "outputs": [],
   "source": [
    "# TODO: Check conditions for ARIMA modelling"
   ]
  },
  {
   "cell_type": "code",
   "execution_count": 22,
   "metadata": {},
   "outputs": [
    {
     "name": "stderr",
     "output_type": "stream",
     "text": [
      "/Users/arvinds/anaconda3/envs/future_gas/lib/python3.6/site-packages/statsmodels/tsa/base/tsa_model.py:171: ValueWarning: No frequency information was provided, so inferred frequency MS will be used.\n",
      "  % freq, ValueWarning)\n",
      "/Users/arvinds/anaconda3/envs/future_gas/lib/python3.6/site-packages/statsmodels/tsa/base/tsa_model.py:171: ValueWarning: No frequency information was provided, so inferred frequency MS will be used.\n",
      "  % freq, ValueWarning)\n"
     ]
    }
   ],
   "source": [
    "\n",
    "model = ARIMA(interest_df[keyword], order=(5,1,0), dates=interest_df.index)\n",
    "model_fit = model.fit()"
   ]
  },
  {
   "cell_type": "code",
   "execution_count": null,
   "metadata": {},
   "outputs": [],
   "source": []
  },
  {
   "cell_type": "markdown",
   "metadata": {},
   "source": [
    "### Using related queries as feedback to get more results"
   ]
  },
  {
   "cell_type": "code",
   "execution_count": 70,
   "metadata": {},
   "outputs": [],
   "source": [
    "related = pytrends.related_queries()"
   ]
  },
  {
   "cell_type": "code",
   "execution_count": 76,
   "metadata": {},
   "outputs": [
    {
     "data": {
      "text/plain": [
       "{'top':                     query  value\n",
       " 0               gas price    100\n",
       " 1      gas prices near me     97\n",
       " 2      natural gas prices     90\n",
       " 3             natural gas     86\n",
       " 4              oil prices     70\n",
       " 5       costco gas prices     54\n",
       " 6              costco gas     54\n",
       " 7      average gas prices     46\n",
       " 8         gas prices ohio     43\n",
       " 9               cheap gas     43\n",
       " 10       cheap gas prices     43\n",
       " 11            gas station     40\n",
       " 12     gas station prices     39\n",
       " 13  gas prices california     34\n",
       " 14          us gas prices     32\n",
       " 15        high gas prices     31\n",
       " 16        best gas prices     31\n",
       " 17      lowest gas prices     31\n",
       " 18    cheapest gas prices     29\n",
       " 19           cheapest gas     29\n",
       " 20     current gas prices     28\n",
       " 21          ca gas prices     28\n",
       " 22       state gas prices     25\n",
       " 23       texas gas prices     23\n",
       " 24    michigan gas prices     22,\n",
       " 'rising':                           query   value\n",
       " 0            gas prices near me  534700\n",
       " 1                 nc gas prices  108900\n",
       " 2               gas prices 2008  108650\n",
       " 3            indiana gas prices  102150\n",
       " 4           gas prices going up  101150\n",
       " 5              gas prices today   96800\n",
       " 6                 mi gas prices   82400\n",
       " 7                     gas buddy   79600\n",
       " 8              obama gas prices   78250\n",
       " 9                gas calculator   72650\n",
       " 10                va gas prices   71650\n",
       " 11            kroger gas prices   70950\n",
       " 12          gas station near me   68900\n",
       " 13              sams gas prices   66350\n",
       " 14   gas station prices near me   66150\n",
       " 15           walmart gas prices   65250\n",
       " 16                     gasbuddy   60600\n",
       " 17      are gas prices going up   54950\n",
       " 18           gas prices in 2008   53700\n",
       " 19       gas prices by zip code   52450\n",
       " 20        gas prices in indiana   43650\n",
       " 21  why are gas prices going up   42000\n",
       " 22         sams club gas prices   41400\n",
       " 23          mapquest gas prices   40500\n",
       " 24             costco gas price   35850}"
      ]
     },
     "execution_count": 76,
     "metadata": {},
     "output_type": "execute_result"
    }
   ],
   "source": [
    "related['Gas prices']"
   ]
  },
  {
   "cell_type": "code",
   "execution_count": null,
   "metadata": {},
   "outputs": [],
   "source": []
  }
 ],
 "metadata": {
  "kernelspec": {
   "display_name": "Python 3",
   "language": "python",
   "name": "python3"
  },
  "language_info": {
   "codemirror_mode": {
    "name": "ipython",
    "version": 3
   },
   "file_extension": ".py",
   "mimetype": "text/x-python",
   "name": "python",
   "nbconvert_exporter": "python",
   "pygments_lexer": "ipython3",
   "version": "3.6.8"
  }
 },
 "nbformat": 4,
 "nbformat_minor": 2
}
