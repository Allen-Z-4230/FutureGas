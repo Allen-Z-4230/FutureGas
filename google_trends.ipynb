{
 "cells": [
  {
   "cell_type": "markdown",
   "metadata": {},
   "source": [
    "# Google trends data exploration"
   ]
  },
  {
   "cell_type": "code",
   "execution_count": 17,
   "metadata": {},
   "outputs": [],
   "source": [
    "import pandas as pd\n",
    "from pandas.plotting import autocorrelation_plot\n",
    "from pytrends.request import TrendReq\n",
    "import matplotlib.pyplot as plt\n",
    "from statsmodels.tsa.arima_model import ARIMA\n",
    "from graphviz import Digraph\n",
    "from collections import deque\n",
    "\n",
    "from pandas.plotting import register_matplotlib_converters\n",
    "register_matplotlib_converters()"
   ]
  },
  {
   "cell_type": "code",
   "execution_count": 2,
   "metadata": {},
   "outputs": [],
   "source": [
    "pytrends = TrendReq(hl='en-US', tz=360)"
   ]
  },
  {
   "cell_type": "markdown",
   "metadata": {},
   "source": [
    "### Setup a payload for 'Gas prices' in the US "
   ]
  },
  {
   "cell_type": "code",
   "execution_count": 3,
   "metadata": {},
   "outputs": [],
   "source": [
    "keyword = \"Gas prices\"\n",
    "kw_list = [keyword]\n",
    "pytrends.build_payload(kw_list, cat=0, timeframe='all', geo='US', gprop='')"
   ]
  },
  {
   "cell_type": "code",
   "execution_count": 4,
   "metadata": {},
   "outputs": [
    {
     "data": {
      "text/html": [
       "<div>\n",
       "<style scoped>\n",
       "    .dataframe tbody tr th:only-of-type {\n",
       "        vertical-align: middle;\n",
       "    }\n",
       "\n",
       "    .dataframe tbody tr th {\n",
       "        vertical-align: top;\n",
       "    }\n",
       "\n",
       "    .dataframe thead th {\n",
       "        text-align: right;\n",
       "    }\n",
       "</style>\n",
       "<table border=\"1\" class=\"dataframe\">\n",
       "  <thead>\n",
       "    <tr style=\"text-align: right;\">\n",
       "      <th></th>\n",
       "      <th>Gas prices</th>\n",
       "      <th>isPartial</th>\n",
       "    </tr>\n",
       "    <tr>\n",
       "      <th>date</th>\n",
       "      <th></th>\n",
       "      <th></th>\n",
       "    </tr>\n",
       "  </thead>\n",
       "  <tbody>\n",
       "    <tr>\n",
       "      <th>2004-01-01</th>\n",
       "      <td>5</td>\n",
       "      <td>False</td>\n",
       "    </tr>\n",
       "    <tr>\n",
       "      <th>2004-02-01</th>\n",
       "      <td>6</td>\n",
       "      <td>False</td>\n",
       "    </tr>\n",
       "    <tr>\n",
       "      <th>2004-03-01</th>\n",
       "      <td>11</td>\n",
       "      <td>False</td>\n",
       "    </tr>\n",
       "    <tr>\n",
       "      <th>2004-04-01</th>\n",
       "      <td>11</td>\n",
       "      <td>False</td>\n",
       "    </tr>\n",
       "    <tr>\n",
       "      <th>2004-05-01</th>\n",
       "      <td>32</td>\n",
       "      <td>False</td>\n",
       "    </tr>\n",
       "  </tbody>\n",
       "</table>\n",
       "</div>"
      ],
      "text/plain": [
       "            Gas prices isPartial\n",
       "date                            \n",
       "2004-01-01           5     False\n",
       "2004-02-01           6     False\n",
       "2004-03-01          11     False\n",
       "2004-04-01          11     False\n",
       "2004-05-01          32     False"
      ]
     },
     "execution_count": 4,
     "metadata": {},
     "output_type": "execute_result"
    }
   ],
   "source": [
    "# Get the gasoline interest dataframe.\n",
    "interest_df = pytrends.interest_over_time()\n",
    "interest_df.head()\n",
    "\n",
    "# TODO: List some major economic events in the U.S.\n",
    "# Can even look at data by state - geo = 'US-WA' for example. can do a map visualization over time of state relative queries."
   ]
  },
  {
   "cell_type": "markdown",
   "metadata": {},
   "source": [
    "#### What do the numbers represent?\n",
    "From google trends: \"Numbers represent search interest relative to the highest point on the chart for the given region and time. A value of 100 is the peak popularity for the term. A value of 50 means that the term is half as popular. A score of 0 means there was not enough data for this term.\""
   ]
  },
  {
   "cell_type": "markdown",
   "metadata": {},
   "source": [
    "### Check for null entries"
   ]
  },
  {
   "cell_type": "code",
   "execution_count": 6,
   "metadata": {},
   "outputs": [],
   "source": [
    "has_null = any(interest_df[keyword].isnull())\n",
    "if has_null:\n",
    "    print(\"Null entries found... removing null entries\")\n",
    "    interest_df = interest_df.dropna()\n",
    "    has_null = any(interest_df['Gas prices'].isnull())\n",
    "    \n",
    "assert not has_null"
   ]
  },
  {
   "cell_type": "markdown",
   "metadata": {},
   "source": [
    "### Check that there is consistent time granularity between rows"
   ]
  },
  {
   "cell_type": "code",
   "execution_count": 7,
   "metadata": {},
   "outputs": [
    {
     "name": "stdout",
     "output_type": "stream",
     "text": [
      "Time granularity is approximately: 30 days 00:00:00\n"
     ]
    }
   ],
   "source": [
    "for i in range(interest_df.shape[0] - 1):\n",
    "    entry_time_difference = interest_df.index[i + 1] - interest_df.index[i]\n",
    "    x = list(entry_time_difference.components)\n",
    "    assert sum(x) == max(x)\n",
    "\n",
    "# A sample difference in time between rows.\n",
    "print(\"Time granularity is approximately:\", entry_time_difference)"
   ]
  },
  {
   "cell_type": "markdown",
   "metadata": {},
   "source": [
    "### Describe data"
   ]
  },
  {
   "cell_type": "code",
   "execution_count": 8,
   "metadata": {},
   "outputs": [
    {
     "data": {
      "text/html": [
       "<div>\n",
       "<style scoped>\n",
       "    .dataframe tbody tr th:only-of-type {\n",
       "        vertical-align: middle;\n",
       "    }\n",
       "\n",
       "    .dataframe tbody tr th {\n",
       "        vertical-align: top;\n",
       "    }\n",
       "\n",
       "    .dataframe thead th {\n",
       "        text-align: right;\n",
       "    }\n",
       "</style>\n",
       "<table border=\"1\" class=\"dataframe\">\n",
       "  <thead>\n",
       "    <tr style=\"text-align: right;\">\n",
       "      <th></th>\n",
       "      <th>Gas prices</th>\n",
       "    </tr>\n",
       "  </thead>\n",
       "  <tbody>\n",
       "    <tr>\n",
       "      <th>count</th>\n",
       "      <td>185.000000</td>\n",
       "    </tr>\n",
       "    <tr>\n",
       "      <th>mean</th>\n",
       "      <td>13.632432</td>\n",
       "    </tr>\n",
       "    <tr>\n",
       "      <th>std</th>\n",
       "      <td>11.255193</td>\n",
       "    </tr>\n",
       "    <tr>\n",
       "      <th>min</th>\n",
       "      <td>5.000000</td>\n",
       "    </tr>\n",
       "    <tr>\n",
       "      <th>25%</th>\n",
       "      <td>8.000000</td>\n",
       "    </tr>\n",
       "    <tr>\n",
       "      <th>50%</th>\n",
       "      <td>10.000000</td>\n",
       "    </tr>\n",
       "    <tr>\n",
       "      <th>75%</th>\n",
       "      <td>14.000000</td>\n",
       "    </tr>\n",
       "    <tr>\n",
       "      <th>max</th>\n",
       "      <td>100.000000</td>\n",
       "    </tr>\n",
       "  </tbody>\n",
       "</table>\n",
       "</div>"
      ],
      "text/plain": [
       "       Gas prices\n",
       "count  185.000000\n",
       "mean    13.632432\n",
       "std     11.255193\n",
       "min      5.000000\n",
       "25%      8.000000\n",
       "50%     10.000000\n",
       "75%     14.000000\n",
       "max    100.000000"
      ]
     },
     "execution_count": 8,
     "metadata": {},
     "output_type": "execute_result"
    }
   ],
   "source": [
    "interest_df.describe()"
   ]
  },
  {
   "cell_type": "markdown",
   "metadata": {},
   "source": [
    "### Trend visualization for keywords"
   ]
  },
  {
   "cell_type": "code",
   "execution_count": 9,
   "metadata": {},
   "outputs": [
    {
     "data": {
      "image/png": "[encoded data removed]",
      "text/plain": [
       "<Figure size 432x288 with 1 Axes>"
      ]
     },
     "metadata": {
      "needs_background": "light"
     },
     "output_type": "display_data"
    }
   ],
   "source": [
    "for k_word in interest_df.columns:\n",
    "    if k_word == 'isPartial':\n",
    "        continue\n",
    "        \n",
    "    plt.plot(interest_df.index, interest_df[k_word])\n",
    "    plt.ylabel(\"Relative interest of \\'{}\\' in the US\".format(k_word))\n",
    "    plt.show()"
   ]
  },
  {
   "cell_type": "markdown",
   "metadata": {},
   "source": [
    "## Sample ARIMA model fitting on data"
   ]
  },
  {
   "cell_type": "code",
   "execution_count": 10,
   "metadata": {},
   "outputs": [],
   "source": [
    "# TODO: Check conditions for ARIMA modelling"
   ]
  },
  {
   "cell_type": "markdown",
   "metadata": {},
   "source": [
    "### Autocorrelation plot"
   ]
  },
  {
   "cell_type": "code",
   "execution_count": 11,
   "metadata": {},
   "outputs": [
    {
     "data": {
      "text/plain": [
       "<matplotlib.axes._subplots.AxesSubplot at 0x1c23335da0>"
      ]
     },
     "execution_count": 11,
     "metadata": {},
     "output_type": "execute_result"
    },
    {
     "data": {
      "image/png": "[encoded data removed]",
      "text/plain": [
       "<Figure size 432x288 with 1 Axes>"
      ]
     },
     "metadata": {
      "needs_background": "light"
     },
     "output_type": "display_data"
    }
   ],
   "source": [
    "autocorrelation_plot(interest_df[keyword])"
   ]
  },
  {
   "cell_type": "code",
   "execution_count": 12,
   "metadata": {},
   "outputs": [
    {
     "name": "stderr",
     "output_type": "stream",
     "text": [
      "/Users/arvinds/anaconda3/envs/future_gas/lib/python3.6/site-packages/statsmodels/tsa/base/tsa_model.py:171: ValueWarning: No frequency information was provided, so inferred frequency MS will be used.\n",
      "  % freq, ValueWarning)\n",
      "/Users/arvinds/anaconda3/envs/future_gas/lib/python3.6/site-packages/statsmodels/tsa/base/tsa_model.py:191: FutureWarning: Creating a DatetimeIndex by passing range endpoints is deprecated.  Use `pandas.date_range` instead.\n",
      "  start=index[0], end=index[-1], freq=freq)\n",
      "/Users/arvinds/anaconda3/envs/future_gas/lib/python3.6/site-packages/statsmodels/tsa/base/tsa_model.py:171: ValueWarning: No frequency information was provided, so inferred frequency MS will be used.\n",
      "  % freq, ValueWarning)\n"
     ]
    },
    {
     "data": {
      "text/plain": [
       "(185,)"
      ]
     },
     "execution_count": 12,
     "metadata": {},
     "output_type": "execute_result"
    }
   ],
   "source": [
    "\n",
    "model = ARIMA(interest_df[keyword], order=(7,1,0), dates=interest_df.index)\n",
    "model_fit = model.fit()\n",
    "\n",
    "interest_df[keyword].shape\n",
    "#print(model_fit.summary())"
   ]
  },
  {
   "cell_type": "markdown",
   "metadata": {},
   "source": [
    "### Fitted ARIMA model"
   ]
  },
  {
   "cell_type": "code",
   "execution_count": 30,
   "metadata": {},
   "outputs": [
    {
     "data": {
      "text/plain": [
       "[<matplotlib.lines.Line2D at 0x1c27362ef0>]"
      ]
     },
     "execution_count": 30,
     "metadata": {},
     "output_type": "execute_result"
    },
    {
     "data": {
      "image/png": "[encoded data removed]",
      "text/plain": [
       "<Figure size 432x288 with 1 Axes>"
      ]
     },
     "metadata": {
      "needs_background": "light"
     },
     "output_type": "display_data"
    }
   ],
   "source": [
    "plt.plot(interest_df.index[:-1], model_fit.fittedvalues)"
   ]
  },
  {
   "cell_type": "markdown",
   "metadata": {},
   "source": [
    "### Residuals of model vs. real data"
   ]
  },
  {
   "cell_type": "code",
   "execution_count": 31,
   "metadata": {},
   "outputs": [
    {
     "name": "stdout",
     "output_type": "stream",
     "text": [
      "                0\n",
      "count  184.000000\n",
      "mean     0.043106\n",
      "std      8.667875\n",
      "min    -51.209124\n",
      "25%     -2.318697\n",
      "50%     -0.515718\n",
      "75%      1.621157\n",
      "max     52.536320\n"
     ]
    },
    {
     "data": {
      "image/png": "[encoded data removed]",
      "text/plain": [
       "<Figure size 432x288 with 1 Axes>"
      ]
     },
     "metadata": {
      "needs_background": "light"
     },
     "output_type": "display_data"
    },
    {
     "data": {
      "image/png": "[encoded data removed]",
      "text/plain": [
       "<Figure size 432x288 with 1 Axes>"
      ]
     },
     "metadata": {
      "needs_background": "light"
     },
     "output_type": "display_data"
    }
   ],
   "source": [
    "residuals = pd.DataFrame(model_fit.resid)\n",
    "residuals.plot()\n",
    "residuals.plot(kind='kde')\n",
    "print(residuals.describe())"
   ]
  },
  {
   "cell_type": "markdown",
   "metadata": {},
   "source": [
    "## Using related queries as feedback to get more results"
   ]
  },
  {
   "cell_type": "code",
   "execution_count": 18,
   "metadata": {},
   "outputs": [],
   "source": [
    "def get_related_for_keyword(kw):\n",
    "    kw_list = [kw]\n",
    "    pytrends.build_payload(kw_list, cat=0, timeframe='all', geo='US', gprop='')\n",
    "    interest_df = pytrends.interest_over_time()\n",
    "    return pytrends.related_queries()"
   ]
  },
  {
   "cell_type": "code",
   "execution_count": 30,
   "metadata": {},
   "outputs": [
    {
     "name": "stdout",
     "output_type": "stream",
     "text": [
      "Finding related terms to Gas prices...\n",
      "Finding related terms to gas near me prices...\n",
      "Finding related terms to gas near me...\n",
      "Finding related terms to gas price...\n",
      "Finding related terms to natural gas...\n",
      "Done\n"
     ]
    }
   ],
   "source": [
    "# Modify these to grow the size of the tree and to choose a different starting keyword\n",
    "start_kw = 'Gas prices'\n",
    "num_iters = 5\n",
    "\n",
    "\n",
    "graph_dict = {}\n",
    "q = deque()\n",
    "q.append(start_kw)\n",
    "\n",
    "for i in range(num_iters):\n",
    "    # get the next keyword\n",
    "    kw = q.popleft()\n",
    "    print(\"Finding related terms to {}...\".format(kw))\n",
    "    \n",
    "    # Get related keywords for given keyword\n",
    "    related = get_related_for_keyword(kw)\n",
    "\n",
    "    # Get the top 5 related keywords\n",
    "    top_5 = list(related[kw]['top'][:5]['query'].values)\n",
    "    \n",
    "    # Add to graph data dict\n",
    "    if kw not in graph_dict:\n",
    "        graph_dict[kw] = []\n",
    "    graph_dict[kw] = top_5\n",
    "    \n",
    "    q.extend(top_5)\n",
    "print(\"Done\")"
   ]
  },
  {
   "cell_type": "code",
   "execution_count": 31,
   "metadata": {},
   "outputs": [
    {
     "data": {
      "image/svg+xml": [
       "<?xml version=\"1.0\" encoding=\"UTF-8\" standalone=\"no\"?>\n",
       "<!DOCTYPE svg PUBLIC \"-//W3C//DTD SVG 1.1//EN\"\n",
       " \"http://www.w3.org/Graphics/SVG/1.1/DTD/svg11.dtd\">\n",
       "<!-- Generated by graphviz version 2.40.1 (20161225.0304)\n",
       " -->\n",
       "<!-- Title: %3 Pages: 1 -->\n",
       "<svg width=\"1460pt\" height=\"332pt\"\n",
       " viewBox=\"0.00 0.00 1459.99 332.00\" xmlns=\"http://www.w3.org/2000/svg\" xmlns:xlink=\"http://www.w3.org/1999/xlink\">\n",
       "<g id=\"graph0\" class=\"graph\" transform=\"scale(1 1) rotate(0) translate(4 328)\">\n",
       "<title>%3</title>\n",
       "<polygon fill=\"#ffffff\" stroke=\"transparent\" points=\"-4,4 -4,-328 1455.9873,-328 1455.9873,4 -4,4\"/>\n",
       "<!-- Gas prices -->\n",
       "<g id=\"node1\" class=\"node\">\n",
       "<title>Gas prices</title>\n",
       "<ellipse fill=\"none\" stroke=\"#000000\" cx=\"999.8939\" cy=\"-306\" rx=\"48.9926\" ry=\"18\"/>\n",
       "<text text-anchor=\"middle\" x=\"999.8939\" y=\"-302.3\" font-family=\"Times,serif\" font-size=\"14.00\" fill=\"#000000\">Gas prices</text>\n",
       "</g>\n",
       "<!-- gas near me prices -->\n",
       "<g id=\"node2\" class=\"node\">\n",
       "<title>gas near me prices</title>\n",
       "<ellipse fill=\"none\" stroke=\"#000000\" cx=\"613.8939\" cy=\"-234\" rx=\"77.9862\" ry=\"18\"/>\n",
       "<text text-anchor=\"middle\" x=\"613.8939\" y=\"-230.3\" font-family=\"Times,serif\" font-size=\"14.00\" fill=\"#000000\">gas near me prices</text>\n",
       "</g>\n",
       "<!-- Gas prices&#45;&gt;gas near me prices -->\n",
       "<g id=\"edge1\" class=\"edge\">\n",
       "<title>Gas prices&#45;&gt;gas near me prices</title>\n",
       "<path fill=\"none\" stroke=\"#000000\" d=\"M956.3651,-297.8806C890.2821,-285.5543 763.9596,-261.9915 684.5837,-247.1857\"/>\n",
       "<polygon fill=\"#000000\" stroke=\"#000000\" points=\"685.1373,-243.7286 674.6651,-245.3356 683.8537,-250.61 685.1373,-243.7286\"/>\n",
       "</g>\n",
       "<!-- gas near me -->\n",
       "<g id=\"node3\" class=\"node\">\n",
       "<title>gas near me</title>\n",
       "<ellipse fill=\"none\" stroke=\"#000000\" cx=\"999.8939\" cy=\"-234\" rx=\"53.8905\" ry=\"18\"/>\n",
       "<text text-anchor=\"middle\" x=\"999.8939\" y=\"-230.3\" font-family=\"Times,serif\" font-size=\"14.00\" fill=\"#000000\">gas near me</text>\n",
       "</g>\n",
       "<!-- Gas prices&#45;&gt;gas near me -->\n",
       "<g id=\"edge2\" class=\"edge\">\n",
       "<title>Gas prices&#45;&gt;gas near me</title>\n",
       "<path fill=\"none\" stroke=\"#000000\" d=\"M999.8939,-287.8314C999.8939,-280.131 999.8939,-270.9743 999.8939,-262.4166\"/>\n",
       "<polygon fill=\"#000000\" stroke=\"#000000\" points=\"1003.394,-262.4132 999.8939,-252.4133 996.394,-262.4133 1003.394,-262.4132\"/>\n",
       "</g>\n",
       "<!-- gas price -->\n",
       "<g id=\"node4\" class=\"node\">\n",
       "<title>gas price</title>\n",
       "<ellipse fill=\"none\" stroke=\"#000000\" cx=\"165.8939\" cy=\"-162\" rx=\"43.5923\" ry=\"18\"/>\n",
       "<text text-anchor=\"middle\" x=\"165.8939\" y=\"-158.3\" font-family=\"Times,serif\" font-size=\"14.00\" fill=\"#000000\">gas price</text>\n",
       "</g>\n",
       "<!-- Gas prices&#45;&gt;gas price -->\n",
       "<g id=\"edge3\" class=\"edge\">\n",
       "<title>Gas prices&#45;&gt;gas price</title>\n",
       "<path fill=\"none\" stroke=\"#000000\" d=\"M951.9665,-302.3663C866.2532,-295.4599 681.2261,-278.6986 526.8939,-252 387.9455,-227.9627 353.3721,-219.1165 217.8939,-180 214.7732,-179.099 211.5642,-178.1198 208.3455,-177.0991\"/>\n",
       "<polygon fill=\"#000000\" stroke=\"#000000\" points=\"209.331,-173.7389 198.7382,-173.9491 207.15,-180.3905 209.331,-173.7389\"/>\n",
       "</g>\n",
       "<!-- natural gas -->\n",
       "<g id=\"node5\" class=\"node\">\n",
       "<title>natural gas</title>\n",
       "<ellipse fill=\"none\" stroke=\"#000000\" cx=\"1190.8939\" cy=\"-90\" rx=\"50.8918\" ry=\"18\"/>\n",
       "<text text-anchor=\"middle\" x=\"1190.8939\" y=\"-86.3\" font-family=\"Times,serif\" font-size=\"14.00\" fill=\"#000000\">natural gas</text>\n",
       "</g>\n",
       "<!-- Gas prices&#45;&gt;natural gas -->\n",
       "<g id=\"edge4\" class=\"edge\">\n",
       "<title>Gas prices&#45;&gt;natural gas</title>\n",
       "<path fill=\"none\" stroke=\"#000000\" d=\"M1044.5796,-298.6186C1104.5247,-286.054 1208.768,-254.2411 1254.8939,-180 1263.3377,-166.4095 1261.636,-158.5101 1254.8939,-144 1248.7813,-130.8448 1237.7108,-119.7408 1226.4759,-111.0877\"/>\n",
       "<polygon fill=\"#000000\" stroke=\"#000000\" points=\"1228.495,-108.2287 1218.3346,-105.2257 1224.4047,-113.9093 1228.495,-108.2287\"/>\n",
       "</g>\n",
       "<!-- natural gas prices -->\n",
       "<g id=\"node6\" class=\"node\">\n",
       "<title>natural gas prices</title>\n",
       "<ellipse fill=\"none\" stroke=\"#000000\" cx=\"1377.8939\" cy=\"-18\" rx=\"74.187\" ry=\"18\"/>\n",
       "<text text-anchor=\"middle\" x=\"1377.8939\" y=\"-14.3\" font-family=\"Times,serif\" font-size=\"14.00\" fill=\"#000000\">natural gas prices</text>\n",
       "</g>\n",
       "<!-- Gas prices&#45;&gt;natural gas prices -->\n",
       "<g id=\"edge5\" class=\"edge\">\n",
       "<title>Gas prices&#45;&gt;natural gas prices</title>\n",
       "<path fill=\"none\" stroke=\"#000000\" d=\"M1047.7686,-302.58C1093.3556,-297.4096 1162.3242,-284.4481 1212.8939,-252 1292.9361,-200.6408 1345.4963,-95.3539 1366.9462,-45.4291\"/>\n",
       "<polygon fill=\"#000000\" stroke=\"#000000\" points=\"1370.2885,-46.5098 1370.9353,-35.9347 1363.835,-43.7983 1370.2885,-46.5098\"/>\n",
       "</g>\n",
       "<!-- gas near me prices&#45;&gt;gas price -->\n",
       "<g id=\"edge10\" class=\"edge\">\n",
       "<title>gas near me prices&#45;&gt;gas price</title>\n",
       "<path fill=\"none\" stroke=\"#000000\" d=\"M539.7397,-228.297C459.5646,-221.1119 328.4072,-206.3878 217.8939,-180 214.54,-179.1992 211.0982,-178.2664 207.6599,-177.2547\"/>\n",
       "<polygon fill=\"#000000\" stroke=\"#000000\" points=\"208.6445,-173.8954 198.0553,-174.2389 206.5475,-180.574 208.6445,-173.8954\"/>\n",
       "</g>\n",
       "<!-- gas station prices near me -->\n",
       "<g id=\"node7\" class=\"node\">\n",
       "<title>gas station prices near me</title>\n",
       "<ellipse fill=\"none\" stroke=\"#000000\" cx=\"331.8939\" cy=\"-162\" rx=\"104.7816\" ry=\"18\"/>\n",
       "<text text-anchor=\"middle\" x=\"331.8939\" y=\"-158.3\" font-family=\"Times,serif\" font-size=\"14.00\" fill=\"#000000\">gas station prices near me</text>\n",
       "</g>\n",
       "<!-- gas near me prices&#45;&gt;gas station prices near me -->\n",
       "<g id=\"edge6\" class=\"edge\">\n",
       "<title>gas near me prices&#45;&gt;gas station prices near me</title>\n",
       "<path fill=\"none\" stroke=\"#000000\" d=\"M561.5127,-220.6261C516.1174,-209.0358 450.1127,-192.1835 400.5084,-179.5186\"/>\n",
       "<polygon fill=\"#000000\" stroke=\"#000000\" points=\"401.3722,-176.1269 390.8172,-177.0442 399.6405,-182.9094 401.3722,-176.1269\"/>\n",
       "</g>\n",
       "<!-- gas station near me -->\n",
       "<g id=\"node8\" class=\"node\">\n",
       "<title>gas station near me</title>\n",
       "<ellipse fill=\"none\" stroke=\"#000000\" cx=\"699.8939\" cy=\"-162\" rx=\"80.6858\" ry=\"18\"/>\n",
       "<text text-anchor=\"middle\" x=\"699.8939\" y=\"-158.3\" font-family=\"Times,serif\" font-size=\"14.00\" fill=\"#000000\">gas station near me</text>\n",
       "</g>\n",
       "<!-- gas near me prices&#45;&gt;gas station near me -->\n",
       "<g id=\"edge7\" class=\"edge\">\n",
       "<title>gas near me prices&#45;&gt;gas station near me</title>\n",
       "<path fill=\"none\" stroke=\"#000000\" d=\"M634.7121,-216.5708C645.6174,-207.4408 659.1439,-196.1163 671.0434,-186.1539\"/>\n",
       "<polygon fill=\"#000000\" stroke=\"#000000\" points=\"673.5485,-188.6213 678.9693,-179.5182 669.0549,-183.254 673.5485,-188.6213\"/>\n",
       "</g>\n",
       "<!-- gas station -->\n",
       "<g id=\"node9\" class=\"node\">\n",
       "<title>gas station</title>\n",
       "<ellipse fill=\"none\" stroke=\"#000000\" cx=\"847.8939\" cy=\"-162\" rx=\"49.2915\" ry=\"18\"/>\n",
       "<text text-anchor=\"middle\" x=\"847.8939\" y=\"-158.3\" font-family=\"Times,serif\" font-size=\"14.00\" fill=\"#000000\">gas station</text>\n",
       "</g>\n",
       "<!-- gas near me prices&#45;&gt;gas station -->\n",
       "<g id=\"edge8\" class=\"edge\">\n",
       "<title>gas near me prices&#45;&gt;gas station</title>\n",
       "<path fill=\"none\" stroke=\"#000000\" d=\"M660.9684,-219.6017C696.4222,-208.7468 746.2211,-193.4766 789.8939,-180 793.3727,-178.9265 796.9683,-177.8151 800.586,-176.6956\"/>\n",
       "<polygon fill=\"#000000\" stroke=\"#000000\" points=\"801.6317,-180.0358 810.1482,-173.7335 799.5603,-173.3492 801.6317,-180.0358\"/>\n",
       "</g>\n",
       "<!-- gas station prices -->\n",
       "<g id=\"node10\" class=\"node\">\n",
       "<title>gas station prices</title>\n",
       "<ellipse fill=\"none\" stroke=\"#000000\" cx=\"527.8939\" cy=\"-162\" rx=\"73.387\" ry=\"18\"/>\n",
       "<text text-anchor=\"middle\" x=\"527.8939\" y=\"-158.3\" font-family=\"Times,serif\" font-size=\"14.00\" fill=\"#000000\">gas station prices</text>\n",
       "</g>\n",
       "<!-- gas near me prices&#45;&gt;gas station prices -->\n",
       "<g id=\"edge9\" class=\"edge\">\n",
       "<title>gas near me prices&#45;&gt;gas station prices</title>\n",
       "<path fill=\"none\" stroke=\"#000000\" d=\"M593.0757,-216.5708C582.1704,-207.4408 568.6439,-196.1163 556.7444,-186.1539\"/>\n",
       "<polygon fill=\"#000000\" stroke=\"#000000\" points=\"558.7328,-183.254 548.8184,-179.5182 554.2393,-188.6213 558.7328,-183.254\"/>\n",
       "</g>\n",
       "<!-- gas near me&#45;&gt;gas station near me -->\n",
       "<g id=\"edge11\" class=\"edge\">\n",
       "<title>gas near me&#45;&gt;gas station near me</title>\n",
       "<path fill=\"none\" stroke=\"#000000\" d=\"M955.95,-223.4535C905.5643,-211.3609 822.4918,-191.4235 764.684,-177.5496\"/>\n",
       "<polygon fill=\"#000000\" stroke=\"#000000\" points=\"765.4568,-174.1358 754.9161,-175.2053 763.8232,-180.9425 765.4568,-174.1358\"/>\n",
       "</g>\n",
       "<!-- gas near me&#45;&gt;gas station -->\n",
       "<g id=\"edge12\" class=\"edge\">\n",
       "<title>gas near me&#45;&gt;gas station</title>\n",
       "<path fill=\"none\" stroke=\"#000000\" d=\"M968.7676,-219.256C945.2778,-208.1292 912.8778,-192.7818 887.5347,-180.7772\"/>\n",
       "<polygon fill=\"#000000\" stroke=\"#000000\" points=\"888.7362,-177.4736 878.2005,-176.3558 885.7396,-183.7998 888.7362,-177.4736\"/>\n",
       "</g>\n",
       "<!-- gas stations -->\n",
       "<g id=\"node11\" class=\"node\">\n",
       "<title>gas stations</title>\n",
       "<ellipse fill=\"none\" stroke=\"#000000\" cx=\"1192.8939\" cy=\"-162\" rx=\"52.7911\" ry=\"18\"/>\n",
       "<text text-anchor=\"middle\" x=\"1192.8939\" y=\"-158.3\" font-family=\"Times,serif\" font-size=\"14.00\" fill=\"#000000\">gas stations</text>\n",
       "</g>\n",
       "<!-- gas near me&#45;&gt;gas stations -->\n",
       "<g id=\"edge13\" class=\"edge\">\n",
       "<title>gas near me&#45;&gt;gas stations</title>\n",
       "<path fill=\"none\" stroke=\"#000000\" d=\"M1036.1957,-220.4574C1067.7003,-208.7043 1113.4577,-191.6342 1147.4002,-178.9717\"/>\n",
       "<polygon fill=\"#000000\" stroke=\"#000000\" points=\"1148.9355,-182.1347 1157.0814,-175.3601 1146.4888,-175.5762 1148.9355,-182.1347\"/>\n",
       "</g>\n",
       "<!-- gas stations near me -->\n",
       "<g id=\"node12\" class=\"node\">\n",
       "<title>gas stations near me</title>\n",
       "<ellipse fill=\"none\" stroke=\"#000000\" cx=\"999.8939\" cy=\"-162\" rx=\"84.485\" ry=\"18\"/>\n",
       "<text text-anchor=\"middle\" x=\"999.8939\" y=\"-158.3\" font-family=\"Times,serif\" font-size=\"14.00\" fill=\"#000000\">gas stations near me</text>\n",
       "</g>\n",
       "<!-- gas near me&#45;&gt;gas stations near me -->\n",
       "<g id=\"edge14\" class=\"edge\">\n",
       "<title>gas near me&#45;&gt;gas stations near me</title>\n",
       "<path fill=\"none\" stroke=\"#000000\" d=\"M999.8939,-215.8314C999.8939,-208.131 999.8939,-198.9743 999.8939,-190.4166\"/>\n",
       "<polygon fill=\"#000000\" stroke=\"#000000\" points=\"1003.394,-190.4132 999.8939,-180.4133 996.394,-190.4133 1003.394,-190.4132\"/>\n",
       "</g>\n",
       "<!-- gas prices -->\n",
       "<g id=\"node13\" class=\"node\">\n",
       "<title>gas prices</title>\n",
       "<ellipse fill=\"none\" stroke=\"#000000\" cx=\"866.8939\" cy=\"-18\" rx=\"46.5926\" ry=\"18\"/>\n",
       "<text text-anchor=\"middle\" x=\"866.8939\" y=\"-14.3\" font-family=\"Times,serif\" font-size=\"14.00\" fill=\"#000000\">gas prices</text>\n",
       "</g>\n",
       "<!-- gas near me&#45;&gt;gas prices -->\n",
       "<g id=\"edge15\" class=\"edge\">\n",
       "<title>gas near me&#45;&gt;gas prices</title>\n",
       "<path fill=\"none\" stroke=\"#000000\" d=\"M1039.8394,-221.5341C1059.5196,-213.1453 1081.4362,-199.9019 1092.8939,-180 1100.8768,-166.1337 1100.9976,-157.796 1092.8939,-144 1072.3653,-109.0514 968.4825,-60.7661 908.9583,-35.3115\"/>\n",
       "<polygon fill=\"#000000\" stroke=\"#000000\" points=\"910.0244,-31.9619 899.4516,-31.2788 907.2908,-38.406 910.0244,-31.9619\"/>\n",
       "</g>\n",
       "<!-- gas price&#45;&gt;natural gas -->\n",
       "<g id=\"edge20\" class=\"edge\">\n",
       "<title>gas price&#45;&gt;natural gas</title>\n",
       "<path fill=\"none\" stroke=\"#000000\" d=\"M197.4083,-149.5293C204.079,-147.3334 211.145,-145.3284 217.8939,-144 393.846,-109.3678 945.6136,-95.0631 1130.1178,-91.1684\"/>\n",
       "<polygon fill=\"#000000\" stroke=\"#000000\" points=\"1130.2585,-94.6663 1140.1834,-90.9586 1130.1126,-87.6678 1130.2585,-94.6663\"/>\n",
       "</g>\n",
       "<!-- gas price&#45;&gt;gas prices -->\n",
       "<g id=\"edge17\" class=\"edge\">\n",
       "<title>gas price&#45;&gt;gas prices</title>\n",
       "<path fill=\"none\" stroke=\"#000000\" d=\"M163.9412,-143.6845C162.8552,-122.934 164.7395,-89.708 184.8939,-72 231.3667,-31.168 653.8895,-21.0314 809.6089,-18.6723\"/>\n",
       "<polygon fill=\"#000000\" stroke=\"#000000\" points=\"809.9647,-22.1676 819.9125,-18.5218 809.8623,-15.1684 809.9647,-22.1676\"/>\n",
       "</g>\n",
       "<!-- price of gas -->\n",
       "<g id=\"node14\" class=\"node\">\n",
       "<title>price of gas</title>\n",
       "<ellipse fill=\"none\" stroke=\"#000000\" cx=\"246.8939\" cy=\"-90\" rx=\"53.0913\" ry=\"18\"/>\n",
       "<text text-anchor=\"middle\" x=\"246.8939\" y=\"-86.3\" font-family=\"Times,serif\" font-size=\"14.00\" fill=\"#000000\">price of gas</text>\n",
       "</g>\n",
       "<!-- gas price&#45;&gt;price of gas -->\n",
       "<g id=\"edge16\" class=\"edge\">\n",
       "<title>gas price&#45;&gt;price of gas</title>\n",
       "<path fill=\"none\" stroke=\"#000000\" d=\"M184.274,-145.6621C194.8171,-136.2905 208.2451,-124.3545 219.9606,-113.9407\"/>\n",
       "<polygon fill=\"#000000\" stroke=\"#000000\" points=\"222.5925,-116.2841 227.7413,-107.0245 217.9419,-111.0522 222.5925,-116.2841\"/>\n",
       "</g>\n",
       "<!-- average gas price -->\n",
       "<g id=\"node15\" class=\"node\">\n",
       "<title>average gas price</title>\n",
       "<ellipse fill=\"none\" stroke=\"#000000\" cx=\"391.8939\" cy=\"-90\" rx=\"74.187\" ry=\"18\"/>\n",
       "<text text-anchor=\"middle\" x=\"391.8939\" y=\"-86.3\" font-family=\"Times,serif\" font-size=\"14.00\" fill=\"#000000\">average gas price</text>\n",
       "</g>\n",
       "<!-- gas price&#45;&gt;average gas price -->\n",
       "<g id=\"edge18\" class=\"edge\">\n",
       "<title>gas price&#45;&gt;average gas price</title>\n",
       "<path fill=\"none\" stroke=\"#000000\" d=\"M199.1282,-150.3168C205.3521,-148.1798 211.8122,-145.9957 217.8939,-144 257.0084,-131.1644 301.3259,-117.4224 335.4457,-107.0134\"/>\n",
       "<polygon fill=\"#000000\" stroke=\"#000000\" points=\"336.6899,-110.2933 345.2369,-104.0324 334.651,-103.5968 336.6899,-110.2933\"/>\n",
       "</g>\n",
       "<!-- costco gas price -->\n",
       "<g id=\"node16\" class=\"node\">\n",
       "<title>costco gas price</title>\n",
       "<ellipse fill=\"none\" stroke=\"#000000\" cx=\"68.8939\" cy=\"-90\" rx=\"68.7879\" ry=\"18\"/>\n",
       "<text text-anchor=\"middle\" x=\"68.8939\" y=\"-86.3\" font-family=\"Times,serif\" font-size=\"14.00\" fill=\"#000000\">costco gas price</text>\n",
       "</g>\n",
       "<!-- gas price&#45;&gt;costco gas price -->\n",
       "<g id=\"edge19\" class=\"edge\">\n",
       "<title>gas price&#45;&gt;costco gas price</title>\n",
       "<path fill=\"none\" stroke=\"#000000\" d=\"M144.3664,-146.0209C131.3957,-136.3931 114.6511,-123.9641 100.2305,-113.2602\"/>\n",
       "<polygon fill=\"#000000\" stroke=\"#000000\" points=\"102.1704,-110.3413 92.0546,-107.1915 97.9982,-115.9621 102.1704,-110.3413\"/>\n",
       "</g>\n",
       "<!-- natural gas&#45;&gt;natural gas prices -->\n",
       "<g id=\"edge23\" class=\"edge\">\n",
       "<title>natural gas&#45;&gt;natural gas prices</title>\n",
       "<path fill=\"none\" stroke=\"#000000\" d=\"M1225.6289,-76.6261C1254.5366,-65.4959 1296.0474,-49.5131 1328.4274,-37.0459\"/>\n",
       "<polygon fill=\"#000000\" stroke=\"#000000\" points=\"1330.0846,-40.1584 1338.1591,-33.2989 1327.5693,-33.6259 1330.0846,-40.1584\"/>\n",
       "</g>\n",
       "<!-- natural gas&#45;&gt;gas prices -->\n",
       "<g id=\"edge24\" class=\"edge\">\n",
       "<title>natural gas&#45;&gt;gas prices</title>\n",
       "<path fill=\"none\" stroke=\"#000000\" d=\"M1151.5157,-78.4521C1143.0979,-76.1644 1134.2304,-73.889 1125.8939,-72 1036.5295,-51.7503 1011.8261,-58.0704 922.8939,-36 919.2607,-35.0984 915.5198,-34.0859 911.7766,-33.0128\"/>\n",
       "<polygon fill=\"#000000\" stroke=\"#000000\" points=\"912.5186,-29.5814 901.9348,-30.0651 910.5102,-36.2872 912.5186,-29.5814\"/>\n",
       "</g>\n",
       "<!-- piedmont natural gas -->\n",
       "<g id=\"node17\" class=\"node\">\n",
       "<title>piedmont natural gas</title>\n",
       "<ellipse fill=\"none\" stroke=\"#000000\" cx=\"1018.8939\" cy=\"-18\" rx=\"87.1846\" ry=\"18\"/>\n",
       "<text text-anchor=\"middle\" x=\"1018.8939\" y=\"-14.3\" font-family=\"Times,serif\" font-size=\"14.00\" fill=\"#000000\">piedmont natural gas</text>\n",
       "</g>\n",
       "<!-- natural gas&#45;&gt;piedmont natural gas -->\n",
       "<g id=\"edge21\" class=\"edge\">\n",
       "<title>natural gas&#45;&gt;piedmont natural gas</title>\n",
       "<path fill=\"none\" stroke=\"#000000\" d=\"M1157.7306,-76.1177C1132.033,-65.3605 1096.0592,-50.3018 1067.1691,-38.2082\"/>\n",
       "<polygon fill=\"#000000\" stroke=\"#000000\" points=\"1068.2442,-34.864 1057.6683,-34.2311 1065.5412,-41.3211 1068.2442,-34.864\"/>\n",
       "</g>\n",
       "<!-- piedmont -->\n",
       "<g id=\"node18\" class=\"node\">\n",
       "<title>piedmont</title>\n",
       "<ellipse fill=\"none\" stroke=\"#000000\" cx=\"1168.8939\" cy=\"-18\" rx=\"44.6926\" ry=\"18\"/>\n",
       "<text text-anchor=\"middle\" x=\"1168.8939\" y=\"-14.3\" font-family=\"Times,serif\" font-size=\"14.00\" fill=\"#000000\">piedmont</text>\n",
       "</g>\n",
       "<!-- natural gas&#45;&gt;piedmont -->\n",
       "<g id=\"edge22\" class=\"edge\">\n",
       "<title>natural gas&#45;&gt;piedmont</title>\n",
       "<path fill=\"none\" stroke=\"#000000\" d=\"M1185.3424,-71.8314C1182.927,-63.9266 1180.0428,-54.4872 1177.3689,-45.7365\"/>\n",
       "<polygon fill=\"#000000\" stroke=\"#000000\" points=\"1180.6369,-44.4541 1174.3674,-35.9134 1173.9425,-46.4997 1180.6369,-44.4541\"/>\n",
       "</g>\n",
       "<!-- oil -->\n",
       "<g id=\"node19\" class=\"node\">\n",
       "<title>oil</title>\n",
       "<ellipse fill=\"none\" stroke=\"#000000\" cx=\"1258.8939\" cy=\"-18\" rx=\"27\" ry=\"18\"/>\n",
       "<text text-anchor=\"middle\" x=\"1258.8939\" y=\"-14.3\" font-family=\"Times,serif\" font-size=\"14.00\" fill=\"#000000\">oil</text>\n",
       "</g>\n",
       "<!-- natural gas&#45;&gt;oil -->\n",
       "<g id=\"edge25\" class=\"edge\">\n",
       "<title>natural gas&#45;&gt;oil</title>\n",
       "<path fill=\"none\" stroke=\"#000000\" d=\"M1207.3548,-72.5708C1216.3756,-63.0194 1227.6647,-51.0662 1237.3761,-40.7836\"/>\n",
       "<polygon fill=\"#000000\" stroke=\"#000000\" points=\"1240.1095,-42.9868 1244.4312,-33.3134 1235.0204,-38.1804 1240.1095,-42.9868\"/>\n",
       "</g>\n",
       "</g>\n",
       "</svg>\n"
      ],
      "text/plain": [
       "<graphviz.dot.Digraph at 0x1c23e810f0>"
      ]
     },
     "execution_count": 31,
     "metadata": {},
     "output_type": "execute_result"
    }
   ],
   "source": [
    "dot = Digraph()\n",
    "\n",
    "for kw in graph_dict:\n",
    "    dot.node(kw, kw)\n",
    "    for child in graph_dict[kw]:\n",
    "        dot.node(child, child)\n",
    "        dot.edge(kw, child)\n",
    "#dot.render('test', view=True, cleanup=True)\n",
    "dot"
   ]
  },
  {
   "cell_type": "code",
   "execution_count": null,
   "metadata": {},
   "outputs": [],
   "source": []
  }
 ],
 "metadata": {
  "kernelspec": {
   "display_name": "Python 3",
   "language": "python",
   "name": "python3"
  },
  "language_info": {
   "codemirror_mode": {
    "name": "ipython",
    "version": 3
   },
   "file_extension": ".py",
   "mimetype": "text/x-python",
   "name": "python",
   "nbconvert_exporter": "python",
   "pygments_lexer": "ipython3",
   "version": "3.6.8"
  }
 },
 "nbformat": 4,
 "nbformat_minor": 2
}
