{
 "cells": [
  {
   "cell_type": "markdown",
   "metadata": {},
   "source": [
    "# COGS 108 - Final Project Team 40"
   ]
  },
  {
   "cell_type": "markdown",
   "metadata": {},
   "source": [
    "# Overview ***"
   ]
  },
  {
   "cell_type": "markdown",
   "metadata": {},
   "source": [
    "*Fill in your overview here*\n",
    "*Include 3-4 sentences summarizing your group’s project*"
   ]
  },
  {
   "cell_type": "markdown",
   "metadata": {},
   "source": [
    "# Names\n",
    "\n",
    "- Fenglin Zhang\n",
    "- Justin Villafuerte\n",
    "- Natapong Stephen Jarrell\n",
    "- Ananya Narurkar\n",
    "- Arvind Saripalli"
   ]
  },
  {
   "cell_type": "markdown",
   "metadata": {},
   "source": [
    "# Group Members IDs ***\n",
    "\n",
    "- A15624955\n",
    "- A########\n",
    "- A14929717\n",
    "- A13520437\n",
    "- A14981787"
   ]
  },
  {
   "cell_type": "markdown",
   "metadata": {},
   "source": [
    "# Research Question"
   ]
  },
  {
   "cell_type": "markdown",
   "metadata": {},
   "source": [
    "Can we predict future gasoline prices in the United States? What are some measures that are correlated with United States gas prices?"
   ]
  },
  {
   "cell_type": "markdown",
   "metadata": {},
   "source": [
    "## Background and Prior Work"
   ]
  },
  {
   "cell_type": "markdown",
   "metadata": {},
   "source": [
    "Economic forecasting is a common predictive technique applied to different economic measures to help policy-makers decide how to adjust different parameters so that it grows the economy. It is also used by corporations and investors to make business decisions. In this project, we want to create a model that forecasts gas prices, something very relevant to almost everyone. We have a 2-fold objective:\n",
    "- Analyze how the state of the US economy affects gas prices.\n",
    "- Try to predict gas prices from different indicators of economic condition. \n",
    "\n",
    "There are a lot of variables that drive petroleum prices, they group into the following categories:\n",
    "- Supply driven changes: the supply chain of oil includes extraction, transportation, and distribution. Increases in supply will likely lead to decreases in prices.\n",
    "- Demand driven changes: during periods of inflation, the disposable income of consumers will increase. This will likely drive up automobile sales and subsequently gas prices. They are also more likely to use their cars more often for purposes such as shopping. We expect the inverse to happen during periods of deflation.\n",
    "\n",
    "We’ve chosen to use a few measures to act as our indicators: Dow Jones, S&P 500, and NASDAQ.  The Dow Jones Industrial Average (DJIA) is an index of 30 of the largest publicly traded companies on the American Stock Exchange. This sum is used as a gauge of the industrial sector of the American economy, but is often influenced by political changes and things that could lead to economic harm. The S&P 500 Index stands for Standard & Poor’s 500 Index Definition. It is a weighted index of the 500 biggest US public companies. The larger market share a company has, the more weight it has in the S&P 500. Finally, the NASDAQ composite index is another very broad weighted index reported every second. It takes into account many industries, like finance, technology, utilities, and more. \n",
    "\n",
    "Here are some examples ([1](https://www.nber.org/papers/w14450), [2](https://www.nber.org/papers/w17891), [3](https://files.stlouisfed.org/files/htdocs/publications/review/06/11/Kliesen.pdf)) of research papers that try to predict gas prices or are using similar data to come to different conclusions that we drew as inspiration for this project."
   ]
  },
  {
   "cell_type": "markdown",
   "metadata": {},
   "source": [
    "# Hypothesis\n"
   ]
  },
  {
   "cell_type": "markdown",
   "metadata": {},
   "source": [
    "We expect to be able to fit an accurate model to historical gasoline prices. We also expect that gasoline prices may be highly correlated with various measures of the economy as well as google trends data."
   ]
  },
  {
   "cell_type": "markdown",
   "metadata": {},
   "source": [
    "# Datasets ***"
   ]
  },
  {
   "cell_type": "markdown",
   "metadata": {},
   "source": [
    "## Gas Prices Dataset"
   ]
  },
  {
   "cell_type": "markdown",
   "metadata": {},
   "source": [
    "The US Energy Information Administration ([EIA](https://www.eia.gov)) provides data for gasoline prices in the United States. Our goal in this project is to use this dataset to predict future Gas Prices.\n",
    "\n",
    "- Dataset Name: Weekly Retail Gasoline and Desiel Prices from the US Energy Information Administration \n",
    "- Link to the dataset: [Gas prices dataset](https://www.eia.gov/dnav/pet/pet_pri_gnd_dcus_nus_m.htm)\n",
    "- Number of observations: 1361 weekly data points from 1993 to 2019."
   ]
  },
  {
   "cell_type": "markdown",
   "metadata": {},
   "source": [
    "## S&P 500"
   ]
  },
  {
   "cell_type": "markdown",
   "metadata": {},
   "source": [
    "The S&P 500 which is a stock that measures 500 large companies and is used as a measure of the strength of the economy. The dataset goes as far back as 1950-01-03 to present day and has measures for everyday that the stock market was open.\n",
    "\n",
    "- Dataset Name: S&P 500\n",
    "- Link to the dataset: [Yahoo Finance S&P](https://finance.yahoo.com/quote/%5EGSPC/history?period1=-630950400&period2=1556262000&interval=1d&filter=history&frequency=1d)\n",
    "- Number of observations: ~17000 data points"
   ]
  },
  {
   "cell_type": "markdown",
   "metadata": {},
   "source": [
    "## NASDAQ"
   ]
  },
  {
   "cell_type": "markdown",
   "metadata": {},
   "source": [
    "The NASDAQ dataset contains values for Open, High, Low, Close, Adj Close, and Volume on a daily basis from 1971 to present.\n",
    "\n",
    "- Dataset Name: NASDAQ 100 stock data\n",
    "- Link to the dataset: [UCSD CSE Dataset](http://cseweb.ucsd.edu/~yaq007/NASDAQ100_stock_data.html)\n",
    "- Number of observations: ~12000 data points from Feb 1971 to present."
   ]
  },
  {
   "cell_type": "markdown",
   "metadata": {},
   "source": [
    "## Dow Jones Industrial Average"
   ]
  },
  {
   "cell_type": "markdown",
   "metadata": {},
   "source": [
    "The [Dow Jones Industrial Average](https://en.wikipedia.org/wiki/Dow_Jones_Industrial_Average) is a stock market index that indicates the value of 30 large, publicly owned companies based in the United States, and how they have traded in the stock market during various periods of time. The dataset that we found from Yahoo Finance containes weekly measures of the Dow Jones Industrial Averiage from January 1985 to the present. We take this data as a crude estimation of [how the economy is doing](https://www.forbes.com/sites/mikepatton/2016/01/27/the-dow-jones-industrial-average-and-gdp-from-1930-to-2015/#6f3faf23067d).\n",
    "\n",
    "- Dataset Name: Dow Jones Industrial Average\n",
    "- Link to the dataset: [Yahoo Finance DJIA](https://finance.yahoo.com/quote/%5EDJI/history?period1=475833600&period2=1555398000&interval=1mo&filter=history&frequency=1mo)\n",
    "- Number of observations: Weekly data since 1985 is ~1700 data points"
   ]
  },
  {
   "cell_type": "markdown",
   "metadata": {},
   "source": [
    "## Google Trends Data"
   ]
  },
  {
   "cell_type": "markdown",
   "metadata": {},
   "source": [
    "Google trends is a service from Google that provides insight into popularity of search terms on Google search. For this project, we queried relative popularity over time of some specified search terms. For example, we retrieved relative popularity of the search term *Gas prices* monthly starting from Jan 1st 2004 until present.\n",
    "\n",
    "\n",
    "- Dataset Name: Google Trends\n",
    "- Link to the dataset: [Google Trends](http://trends.google.com/), [Pytrends API wrapper](https://github.com/GeneralMills/pytrends)\n",
    "- Number of observations: Depends on the keyword being queried. Typically monthly data from Jan 1st 2004 which is ~185 data points per query."
   ]
  },
  {
   "cell_type": "markdown",
   "metadata": {},
   "source": [
    "## Combining Our Data ***"
   ]
  },
  {
   "cell_type": "markdown",
   "metadata": {},
   "source": [
    "We use the datasets are largely separately in this project with the exception of finding correlation between economic measures and gas prices. When combining data, we take into account the different granularities and time ranges in orer to make a fair comparison of data."
   ]
  },
  {
   "cell_type": "markdown",
   "metadata": {},
   "source": [
    "# Setup ***"
   ]
  },
  {
   "cell_type": "code",
   "execution_count": 2,
   "metadata": {},
   "outputs": [],
   "source": [
    "import matplotlib.pyplot as plt\n",
    "import pandas as pd\n",
    "import numpy as np\n",
    "import scipy as sp\n",
    "\n",
    "# Gas Prices Dataset\n",
    "\n",
    "# S&P 500\n",
    "\n",
    "# NASDAQ\n",
    "\n",
    "# DJIA\n",
    "\n",
    "# Google Trends\n",
    "from pytrends.request import TrendReq\n",
    "from graphviz import Digraph\n",
    "from collections import deque\n",
    "from pandas.plotting import register_matplotlib_converters\n",
    "register_matplotlib_converters()"
   ]
  },
  {
   "cell_type": "markdown",
   "metadata": {},
   "source": [
    "# Data Cleaning ***"
   ]
  },
  {
   "cell_type": "markdown",
   "metadata": {},
   "source": [
    "What methods did you use to analyze your data? Briefly explain what steps you had to take\n",
    "before you were able to use the datasets you chose to answer your question of interest.\n",
    "- How 'clean' is the data?\n",
    "- What did you have to do to get the data into a usable format?\n",
    "- What pre-processing steps that were required for your methods (for example, checking data distributions\n",
    "and performing any transformations that may be required)"
   ]
  },
  {
   "cell_type": "markdown",
   "metadata": {},
   "source": [
    "## Gas Prices Dataset ***"
   ]
  },
  {
   "cell_type": "code",
   "execution_count": null,
   "metadata": {},
   "outputs": [],
   "source": []
  },
  {
   "cell_type": "markdown",
   "metadata": {},
   "source": [
    "## S&P 500 ***"
   ]
  },
  {
   "cell_type": "code",
   "execution_count": null,
   "metadata": {},
   "outputs": [],
   "source": []
  },
  {
   "cell_type": "markdown",
   "metadata": {},
   "source": [
    "## NASDAQ"
   ]
  },
  {
   "cell_type": "markdown",
   "metadata": {},
   "source": [
    "The provided data from UCSD is very clean, but we go through the data cleaning steps as a precaution."
   ]
  },
  {
   "cell_type": "code",
   "execution_count": 3,
   "metadata": {},
   "outputs": [],
   "source": [
    "nasdaq = \"future_gas_folder/data/NASDAQ.csv\"\n",
    "df_nasdaq = pd.read_csv(nasdaq)"
   ]
  },
  {
   "cell_type": "code",
   "execution_count": 4,
   "metadata": {},
   "outputs": [],
   "source": [
    "#drop uneccesary columns\n",
    "df_nasdaq.drop('High', axis = 1, inplace = True)\n",
    "df_nasdaq.drop('Low', axis = 1, inplace = True)\n",
    "df_nasdaq.drop('Volume', axis = 1, inplace = True)"
   ]
  },
  {
   "cell_type": "code",
   "execution_count": 5,
   "metadata": {},
   "outputs": [
    {
     "data": {
      "text/html": [
       "<div>\n",
       "<style scoped>\n",
       "    .dataframe tbody tr th:only-of-type {\n",
       "        vertical-align: middle;\n",
       "    }\n",
       "\n",
       "    .dataframe tbody tr th {\n",
       "        vertical-align: top;\n",
       "    }\n",
       "\n",
       "    .dataframe thead th {\n",
       "        text-align: right;\n",
       "    }\n",
       "</style>\n",
       "<table border=\"1\" class=\"dataframe\">\n",
       "  <thead>\n",
       "    <tr style=\"text-align: right;\">\n",
       "      <th></th>\n",
       "      <th>Date</th>\n",
       "      <th>Open</th>\n",
       "      <th>Close</th>\n",
       "      <th>Adj Close</th>\n",
       "    </tr>\n",
       "  </thead>\n",
       "  <tbody>\n",
       "    <tr>\n",
       "      <th>0</th>\n",
       "      <td>1971-02-05</td>\n",
       "      <td>100.000000</td>\n",
       "      <td>100.000000</td>\n",
       "      <td>100.000000</td>\n",
       "    </tr>\n",
       "    <tr>\n",
       "      <th>1</th>\n",
       "      <td>1971-02-08</td>\n",
       "      <td>100.839996</td>\n",
       "      <td>100.839996</td>\n",
       "      <td>100.839996</td>\n",
       "    </tr>\n",
       "    <tr>\n",
       "      <th>2</th>\n",
       "      <td>1971-02-09</td>\n",
       "      <td>100.760002</td>\n",
       "      <td>100.760002</td>\n",
       "      <td>100.760002</td>\n",
       "    </tr>\n",
       "    <tr>\n",
       "      <th>3</th>\n",
       "      <td>1971-02-10</td>\n",
       "      <td>100.690002</td>\n",
       "      <td>100.690002</td>\n",
       "      <td>100.690002</td>\n",
       "    </tr>\n",
       "    <tr>\n",
       "      <th>4</th>\n",
       "      <td>1971-02-11</td>\n",
       "      <td>101.449997</td>\n",
       "      <td>101.449997</td>\n",
       "      <td>101.449997</td>\n",
       "    </tr>\n",
       "  </tbody>\n",
       "</table>\n",
       "</div>"
      ],
      "text/plain": [
       "         Date        Open       Close   Adj Close\n",
       "0  1971-02-05  100.000000  100.000000  100.000000\n",
       "1  1971-02-08  100.839996  100.839996  100.839996\n",
       "2  1971-02-09  100.760002  100.760002  100.760002\n",
       "3  1971-02-10  100.690002  100.690002  100.690002\n",
       "4  1971-02-11  101.449997  101.449997  101.449997"
      ]
     },
     "execution_count": 5,
     "metadata": {},
     "output_type": "execute_result"
    }
   ],
   "source": [
    "df_nasdaq.head()"
   ]
  },
  {
   "cell_type": "markdown",
   "metadata": {},
   "source": [
    "Let's take a look at the data"
   ]
  },
  {
   "cell_type": "markdown",
   "metadata": {},
   "source": [
    "### Convert date column to pandas datetime"
   ]
  },
  {
   "cell_type": "code",
   "execution_count": 6,
   "metadata": {},
   "outputs": [],
   "source": [
    "df_nasdaq.index = pd.DatetimeIndex(df_nasdaq.Date)"
   ]
  },
  {
   "cell_type": "markdown",
   "metadata": {},
   "source": [
    "### Drop empty columns"
   ]
  },
  {
   "cell_type": "code",
   "execution_count": 17,
   "metadata": {},
   "outputs": [],
   "source": [
    "def drop_empty_from_col(col_name, df):\n",
    "     null = any(df[col_name].isnull())\n",
    "     if null:\n",
    "         print(\"Removing null entries from {} Stocks\".format(col_name))\n",
    "         df = df.dropna()  \n",
    "\n",
    "     assert not null"
   ]
  },
  {
   "cell_type": "code",
   "execution_count": 18,
   "metadata": {},
   "outputs": [],
   "source": [
    "#drop empty columns in open, close, and adj close\n",
    "drop_empty_from_col('Open', df_nasdaq)\n",
    "drop_empty_from_col('Close', df_nasdaq)\n",
    "drop_empty_from_col('Adj Close', df_nasdaq)"
   ]
  },
  {
   "cell_type": "markdown",
   "metadata": {},
   "source": [
    "### Describe dataset"
   ]
  },
  {
   "cell_type": "code",
   "execution_count": 9,
   "metadata": {},
   "outputs": [
    {
     "data": {
      "text/html": [
       "<div>\n",
       "<style scoped>\n",
       "    .dataframe tbody tr th:only-of-type {\n",
       "        vertical-align: middle;\n",
       "    }\n",
       "\n",
       "    .dataframe tbody tr th {\n",
       "        vertical-align: top;\n",
       "    }\n",
       "\n",
       "    .dataframe thead th {\n",
       "        text-align: right;\n",
       "    }\n",
       "</style>\n",
       "<table border=\"1\" class=\"dataframe\">\n",
       "  <thead>\n",
       "    <tr style=\"text-align: right;\">\n",
       "      <th></th>\n",
       "      <th>Open</th>\n",
       "      <th>Close</th>\n",
       "      <th>Adj Close</th>\n",
       "    </tr>\n",
       "  </thead>\n",
       "  <tbody>\n",
       "    <tr>\n",
       "      <th>count</th>\n",
       "      <td>12168.000000</td>\n",
       "      <td>12168.000000</td>\n",
       "      <td>12168.000000</td>\n",
       "    </tr>\n",
       "    <tr>\n",
       "      <th>mean</th>\n",
       "      <td>1633.183298</td>\n",
       "      <td>1632.965611</td>\n",
       "      <td>1632.965611</td>\n",
       "    </tr>\n",
       "    <tr>\n",
       "      <th>std</th>\n",
       "      <td>1807.721775</td>\n",
       "      <td>1807.523459</td>\n",
       "      <td>1807.523459</td>\n",
       "    </tr>\n",
       "    <tr>\n",
       "      <th>min</th>\n",
       "      <td>54.869999</td>\n",
       "      <td>54.869999</td>\n",
       "      <td>54.869999</td>\n",
       "    </tr>\n",
       "    <tr>\n",
       "      <th>25%</th>\n",
       "      <td>237.900002</td>\n",
       "      <td>237.900002</td>\n",
       "      <td>237.900002</td>\n",
       "    </tr>\n",
       "    <tr>\n",
       "      <th>50%</th>\n",
       "      <td>798.429993</td>\n",
       "      <td>799.279999</td>\n",
       "      <td>799.279999</td>\n",
       "    </tr>\n",
       "    <tr>\n",
       "      <th>75%</th>\n",
       "      <td>2388.755005</td>\n",
       "      <td>2380.719910</td>\n",
       "      <td>2380.719910</td>\n",
       "    </tr>\n",
       "    <tr>\n",
       "      <th>max</th>\n",
       "      <td>8150.850098</td>\n",
       "      <td>8164.000000</td>\n",
       "      <td>8164.000000</td>\n",
       "    </tr>\n",
       "  </tbody>\n",
       "</table>\n",
       "</div>"
      ],
      "text/plain": [
       "               Open         Close     Adj Close\n",
       "count  12168.000000  12168.000000  12168.000000\n",
       "mean    1633.183298   1632.965611   1632.965611\n",
       "std     1807.721775   1807.523459   1807.523459\n",
       "min       54.869999     54.869999     54.869999\n",
       "25%      237.900002    237.900002    237.900002\n",
       "50%      798.429993    799.279999    799.279999\n",
       "75%     2388.755005   2380.719910   2380.719910\n",
       "max     8150.850098   8164.000000   8164.000000"
      ]
     },
     "execution_count": 9,
     "metadata": {},
     "output_type": "execute_result"
    }
   ],
   "source": [
    "df_nasdaq.describe()"
   ]
  },
  {
   "cell_type": "markdown",
   "metadata": {},
   "source": [
    "We see that the open, close, and adjacent close values are all very similar, and since the granularity for the data is daily, we will opt to just use the open values from here."
   ]
  },
  {
   "cell_type": "markdown",
   "metadata": {},
   "source": [
    "## Dow Jones Industrial Average"
   ]
  },
  {
   "cell_type": "code",
   "execution_count": 21,
   "metadata": {},
   "outputs": [
    {
     "data": {
      "text/html": [
       "<div>\n",
       "<style scoped>\n",
       "    .dataframe tbody tr th:only-of-type {\n",
       "        vertical-align: middle;\n",
       "    }\n",
       "\n",
       "    .dataframe tbody tr th {\n",
       "        vertical-align: top;\n",
       "    }\n",
       "\n",
       "    .dataframe thead th {\n",
       "        text-align: right;\n",
       "    }\n",
       "</style>\n",
       "<table border=\"1\" class=\"dataframe\">\n",
       "  <thead>\n",
       "    <tr style=\"text-align: right;\">\n",
       "      <th></th>\n",
       "      <th>Date</th>\n",
       "      <th>Open</th>\n",
       "      <th>High</th>\n",
       "      <th>Low</th>\n",
       "      <th>Close</th>\n",
       "      <th>Adj Close</th>\n",
       "      <th>Volume</th>\n",
       "    </tr>\n",
       "  </thead>\n",
       "  <tbody>\n",
       "    <tr>\n",
       "      <th>0</th>\n",
       "      <td>1985-01-29</td>\n",
       "      <td>1277.719971</td>\n",
       "      <td>1295.489990</td>\n",
       "      <td>1266.890015</td>\n",
       "      <td>1292.619995</td>\n",
       "      <td>1292.619995</td>\n",
       "      <td>13560000</td>\n",
       "    </tr>\n",
       "    <tr>\n",
       "      <th>1</th>\n",
       "      <td>1985-01-30</td>\n",
       "      <td>1297.369995</td>\n",
       "      <td>1305.099976</td>\n",
       "      <td>1278.930054</td>\n",
       "      <td>1287.880005</td>\n",
       "      <td>1287.880005</td>\n",
       "      <td>16820000</td>\n",
       "    </tr>\n",
       "    <tr>\n",
       "      <th>2</th>\n",
       "      <td>1985-01-31</td>\n",
       "      <td>1283.239990</td>\n",
       "      <td>1293.400024</td>\n",
       "      <td>1272.640015</td>\n",
       "      <td>1286.770020</td>\n",
       "      <td>1286.770020</td>\n",
       "      <td>14070000</td>\n",
       "    </tr>\n",
       "    <tr>\n",
       "      <th>3</th>\n",
       "      <td>1985-02-01</td>\n",
       "      <td>1276.939941</td>\n",
       "      <td>1286.109985</td>\n",
       "      <td>1269.770020</td>\n",
       "      <td>1277.719971</td>\n",
       "      <td>1277.719971</td>\n",
       "      <td>10980000</td>\n",
       "    </tr>\n",
       "    <tr>\n",
       "      <th>4</th>\n",
       "      <td>1985-02-04</td>\n",
       "      <td>1272.079956</td>\n",
       "      <td>1294.939941</td>\n",
       "      <td>1268.989990</td>\n",
       "      <td>1290.079956</td>\n",
       "      <td>1290.079956</td>\n",
       "      <td>11630000</td>\n",
       "    </tr>\n",
       "  </tbody>\n",
       "</table>\n",
       "</div>"
      ],
      "text/plain": [
       "         Date         Open         High          Low        Close  \\\n",
       "0  1985-01-29  1277.719971  1295.489990  1266.890015  1292.619995   \n",
       "1  1985-01-30  1297.369995  1305.099976  1278.930054  1287.880005   \n",
       "2  1985-01-31  1283.239990  1293.400024  1272.640015  1286.770020   \n",
       "3  1985-02-01  1276.939941  1286.109985  1269.770020  1277.719971   \n",
       "4  1985-02-04  1272.079956  1294.939941  1268.989990  1290.079956   \n",
       "\n",
       "     Adj Close    Volume  \n",
       "0  1292.619995  13560000  \n",
       "1  1287.880005  16820000  \n",
       "2  1286.770020  14070000  \n",
       "3  1277.719971  10980000  \n",
       "4  1290.079956  11630000  "
      ]
     },
     "execution_count": 21,
     "metadata": {},
     "output_type": "execute_result"
    }
   ],
   "source": [
    "df_dji = pd.read_csv(\"future_gas_folder/data/DJI.csv\") ## Reading DJI\n",
    "df_dji.head()"
   ]
  },
  {
   "cell_type": "markdown",
   "metadata": {},
   "source": [
    "Similarly to NASDAQ, the various measures the are provided in the full DJIA dataset are very similar to one another. We choose to use the close values as a result"
   ]
  },
  {
   "cell_type": "code",
   "execution_count": 31,
   "metadata": {},
   "outputs": [],
   "source": [
    "df_dji = df_dji[['Date', 'Close']]\n",
    "df_dji.index = pd.DatetimeIndex(df_dji.Date)"
   ]
  },
  {
   "cell_type": "markdown",
   "metadata": {},
   "source": [
    "### Drop empty columns"
   ]
  },
  {
   "cell_type": "code",
   "execution_count": 32,
   "metadata": {},
   "outputs": [],
   "source": [
    "drop_empty_from_col('Close', df_dji)"
   ]
  },
  {
   "cell_type": "markdown",
   "metadata": {},
   "source": [
    "## Google Trends Data"
   ]
  },
  {
   "cell_type": "markdown",
   "metadata": {},
   "source": [
    "The data provided by [pytrends](https://github.com/GeneralMills/pytrends) is very clean as it is a wrapper for the Google Trends API that provides pandas dataframes for queried information. Nevertheless, we check to make sure that the requested data is indeed clean."
   ]
  },
  {
   "cell_type": "markdown",
   "metadata": {},
   "source": [
    "### Setup a payload for 'Gas prices' in the US "
   ]
  },
  {
   "cell_type": "code",
   "execution_count": 29,
   "metadata": {},
   "outputs": [],
   "source": [
    "pytrends = TrendReq(hl='en-US', tz=360)"
   ]
  },
  {
   "cell_type": "code",
   "execution_count": 30,
   "metadata": {},
   "outputs": [],
   "source": [
    "kw = \"Gas prices\"\n",
    "kw_list = [kw]\n",
    "pytrends.build_payload(kw_list, cat=0, timeframe='all', geo='US', gprop='')"
   ]
  },
  {
   "cell_type": "code",
   "execution_count": 31,
   "metadata": {},
   "outputs": [
    {
     "data": {
      "text/html": [
       "<div>\n",
       "<style scoped>\n",
       "    .dataframe tbody tr th:only-of-type {\n",
       "        vertical-align: middle;\n",
       "    }\n",
       "\n",
       "    .dataframe tbody tr th {\n",
       "        vertical-align: top;\n",
       "    }\n",
       "\n",
       "    .dataframe thead th {\n",
       "        text-align: right;\n",
       "    }\n",
       "</style>\n",
       "<table border=\"1\" class=\"dataframe\">\n",
       "  <thead>\n",
       "    <tr style=\"text-align: right;\">\n",
       "      <th></th>\n",
       "      <th>Gas prices</th>\n",
       "      <th>isPartial</th>\n",
       "    </tr>\n",
       "    <tr>\n",
       "      <th>date</th>\n",
       "      <th></th>\n",
       "      <th></th>\n",
       "    </tr>\n",
       "  </thead>\n",
       "  <tbody>\n",
       "    <tr>\n",
       "      <th>2004-01-01</th>\n",
       "      <td>4</td>\n",
       "      <td>False</td>\n",
       "    </tr>\n",
       "    <tr>\n",
       "      <th>2004-02-01</th>\n",
       "      <td>6</td>\n",
       "      <td>False</td>\n",
       "    </tr>\n",
       "    <tr>\n",
       "      <th>2004-03-01</th>\n",
       "      <td>10</td>\n",
       "      <td>False</td>\n",
       "    </tr>\n",
       "    <tr>\n",
       "      <th>2004-04-01</th>\n",
       "      <td>11</td>\n",
       "      <td>False</td>\n",
       "    </tr>\n",
       "    <tr>\n",
       "      <th>2004-05-01</th>\n",
       "      <td>32</td>\n",
       "      <td>False</td>\n",
       "    </tr>\n",
       "  </tbody>\n",
       "</table>\n",
       "</div>"
      ],
      "text/plain": [
       "            Gas prices isPartial\n",
       "date                            \n",
       "2004-01-01           4     False\n",
       "2004-02-01           6     False\n",
       "2004-03-01          10     False\n",
       "2004-04-01          11     False\n",
       "2004-05-01          32     False"
      ]
     },
     "execution_count": 31,
     "metadata": {},
     "output_type": "execute_result"
    }
   ],
   "source": [
    "# Get the gasoline interest dataframe.\n",
    "interest_df = pytrends.interest_over_time()\n",
    "interest_df.head()"
   ]
  },
  {
   "cell_type": "markdown",
   "metadata": {},
   "source": [
    "#### What do the values here represent?\n",
    "From google trends: \"Numbers represent search interest relative to the highest point on the chart for the given region and time. A value of 100 is the peak popularity for the term. A value of 50 means that the term is half as popular. A score of 0 means there was not enough data for this term.\""
   ]
  },
  {
   "cell_type": "markdown",
   "metadata": {},
   "source": [
    "### Check for null entries"
   ]
  },
  {
   "cell_type": "code",
   "execution_count": 32,
   "metadata": {},
   "outputs": [
    {
     "name": "stdout",
     "output_type": "stream",
     "text": [
      "No null entries found!\n"
     ]
    }
   ],
   "source": [
    "has_null = any(interest_df[kw].isnull())\n",
    "if has_null:\n",
    "    print(\"Null entries found... removing null entries\")\n",
    "    interest_df = interest_df.dropna()\n",
    "    has_null = any(interest_df['Gas prices'].isnull())\n",
    "    \n",
    "if has_null:\n",
    "    print(\"The data frame had null entries that were removed\")\n",
    "else:\n",
    "    print(\"No null entries found!\")"
   ]
  },
  {
   "cell_type": "markdown",
   "metadata": {},
   "source": [
    "### Check that there is consistent time granularity between rows"
   ]
  },
  {
   "cell_type": "code",
   "execution_count": 33,
   "metadata": {},
   "outputs": [
    {
     "name": "stdout",
     "output_type": "stream",
     "text": [
      "Time granularity is approximately: 30 days 00:00:00\n"
     ]
    }
   ],
   "source": [
    "for i in range(interest_df.shape[0] - 1):\n",
    "    entry_time_difference = interest_df.index[i + 1] - interest_df.index[i]\n",
    "    x = list(entry_time_difference.components)\n",
    "    assert sum(x) == max(x)\n",
    "\n",
    "# A sample difference in time between rows.\n",
    "print(\"Time granularity is approximately:\", entry_time_difference)"
   ]
  },
  {
   "cell_type": "markdown",
   "metadata": {},
   "source": [
    "# Data Analysis & Results ***"
   ]
  },
  {
   "cell_type": "markdown",
   "metadata": {},
   "source": [
    "## Exploratory Data Analysis***"
   ]
  },
  {
   "cell_type": "markdown",
   "metadata": {},
   "source": [
    "- What distributions do your variables take?\n",
    "- Are there any outliers?\n",
    "- Relationship between variables?"
   ]
  },
  {
   "cell_type": "markdown",
   "metadata": {},
   "source": [
    "### Gas Prices Dataset ***"
   ]
  },
  {
   "cell_type": "code",
   "execution_count": null,
   "metadata": {},
   "outputs": [],
   "source": []
  },
  {
   "cell_type": "markdown",
   "metadata": {},
   "source": [
    "### S&P 500 ***"
   ]
  },
  {
   "cell_type": "code",
   "execution_count": null,
   "metadata": {},
   "outputs": [],
   "source": []
  },
  {
   "cell_type": "markdown",
   "metadata": {},
   "source": [
    "### NASDAQ"
   ]
  },
  {
   "cell_type": "markdown",
   "metadata": {},
   "source": [
    "#### Plotting and resampling"
   ]
  },
  {
   "cell_type": "markdown",
   "metadata": {},
   "source": [
    "Here, we resample the NASDAQ data points to average by week in order to be able to actually plot them efficiently. We see that the NASDAQ open stock prices have been increasing over time with corresponding local rises and dips in the market."
   ]
  },
  {
   "cell_type": "code",
   "execution_count": 34,
   "metadata": {},
   "outputs": [
    {
     "data": {
      "image/png": "[encoded data removed]",
      "text/plain": [
       "<Figure size 720x216 with 1 Axes>"
      ]
     },
     "metadata": {
      "needs_background": "light"
     },
     "output_type": "display_data"
    }
   ],
   "source": [
    "df_nasdaq_weekly = df_nasdaq['Open'].resample('W').mean()\n",
    "\n",
    "plt.figure(figsize=(10, 3))\n",
    "plt.plot(df_nasdaq_weekly.index, df_nasdaq_weekly)\n",
    "plt.xlabel('Date')\n",
    "plt.ylabel('Open Stock Price')\n",
    "plt.title('NASDAQ Stock Data')\n",
    "plt.show()"
   ]
  },
  {
   "cell_type": "markdown",
   "metadata": {},
   "source": [
    "### Dow Jones Industrial Average"
   ]
  },
  {
   "cell_type": "markdown",
   "metadata": {},
   "source": [
    "#### Plotting"
   ]
  },
  {
   "cell_type": "code",
   "execution_count": 35,
   "metadata": {},
   "outputs": [
    {
     "data": {
      "image/png": "[encoded data removed]",
      "text/plain": [
       "<Figure size 720x216 with 1 Axes>"
      ]
     },
     "metadata": {
      "needs_background": "light"
     },
     "output_type": "display_data"
    }
   ],
   "source": [
    "plt.figure(figsize=(10, 3))\n",
    "plt.plot(df_dji.index, df_dji['Close'])\n",
    "plt.xlabel('Date')\n",
    "plt.ylabel('Close Stock Price')\n",
    "plt.title('DJIA Stock Data')\n",
    "plt.show()"
   ]
  },
  {
   "cell_type": "code",
   "execution_count": 36,
   "metadata": {},
   "outputs": [
    {
     "data": {
      "text/html": [
       "<div>\n",
       "<style scoped>\n",
       "    .dataframe tbody tr th:only-of-type {\n",
       "        vertical-align: middle;\n",
       "    }\n",
       "\n",
       "    .dataframe tbody tr th {\n",
       "        vertical-align: top;\n",
       "    }\n",
       "\n",
       "    .dataframe thead th {\n",
       "        text-align: right;\n",
       "    }\n",
       "</style>\n",
       "<table border=\"1\" class=\"dataframe\">\n",
       "  <thead>\n",
       "    <tr style=\"text-align: right;\">\n",
       "      <th></th>\n",
       "      <th>Close</th>\n",
       "    </tr>\n",
       "  </thead>\n",
       "  <tbody>\n",
       "    <tr>\n",
       "      <th>count</th>\n",
       "      <td>8636.000000</td>\n",
       "    </tr>\n",
       "    <tr>\n",
       "      <th>mean</th>\n",
       "      <td>9500.461189</td>\n",
       "    </tr>\n",
       "    <tr>\n",
       "      <th>std</th>\n",
       "      <td>6096.591724</td>\n",
       "    </tr>\n",
       "    <tr>\n",
       "      <th>min</th>\n",
       "      <td>1242.050049</td>\n",
       "    </tr>\n",
       "    <tr>\n",
       "      <th>25%</th>\n",
       "      <td>3566.230042</td>\n",
       "    </tr>\n",
       "    <tr>\n",
       "      <th>50%</th>\n",
       "      <td>9870.679688</td>\n",
       "    </tr>\n",
       "    <tr>\n",
       "      <th>75%</th>\n",
       "      <td>12453.862549</td>\n",
       "    </tr>\n",
       "    <tr>\n",
       "      <th>max</th>\n",
       "      <td>26828.390625</td>\n",
       "    </tr>\n",
       "  </tbody>\n",
       "</table>\n",
       "</div>"
      ],
      "text/plain": [
       "              Close\n",
       "count   8636.000000\n",
       "mean    9500.461189\n",
       "std     6096.591724\n",
       "min     1242.050049\n",
       "25%     3566.230042\n",
       "50%     9870.679688\n",
       "75%    12453.862549\n",
       "max    26828.390625"
      ]
     },
     "execution_count": 36,
     "metadata": {},
     "output_type": "execute_result"
    }
   ],
   "source": [
    "df_dji.describe()"
   ]
  },
  {
   "cell_type": "markdown",
   "metadata": {},
   "source": [
    "#### Structure: \n",
    "DOW Jones Industrial Average Data came from a CSV. Each observation is in a seperate row. There is daily a data observation for approximately 70% of days in the 34 year span of 1985 to 2019. The data is 70% of days because it is only collected on the weekdays. The data is not spread across multiple tables.\n",
    "\n",
    "#### Granularity: \n",
    "Each row (observation) represents the market value of the Dow Jones at the end of the weekday. The data is not summarized or aggregated, but instead used as a time-series model for its rate of change.\n",
    "\n",
    "#### Scope: \n",
    "Data is comprehensive of the last 34 years, with the exception of weekend observations because the stock market is open 9:30am - 4pm Eastern, Monday - Friday.\n",
    "\n",
    "#### Temporality: \n",
    "The date in the dataset represents the market value of the DOW at 4pm on weekdays (closing time). It is represented in YYYY-MM-DD. We plan to use this data as the x axis of our plot.\n",
    "\n",
    "#### Faithfulness: \n",
    "The data is reasonable and to be expected. The data was measured by a computer and remains consistent across time. There are no obvious signs of falsification or any reason to disbelieve the data."
   ]
  },
  {
   "cell_type": "markdown",
   "metadata": {},
   "source": [
    "### Google Trends Data"
   ]
  },
  {
   "cell_type": "markdown",
   "metadata": {},
   "source": [
    "#### Typical Values for relative interest in the term 'Gas Prices'"
   ]
  },
  {
   "cell_type": "code",
   "execution_count": 19,
   "metadata": {},
   "outputs": [
    {
     "data": {
      "text/html": [
       "<div>\n",
       "<style scoped>\n",
       "    .dataframe tbody tr th:only-of-type {\n",
       "        vertical-align: middle;\n",
       "    }\n",
       "\n",
       "    .dataframe tbody tr th {\n",
       "        vertical-align: top;\n",
       "    }\n",
       "\n",
       "    .dataframe thead th {\n",
       "        text-align: right;\n",
       "    }\n",
       "</style>\n",
       "<table border=\"1\" class=\"dataframe\">\n",
       "  <thead>\n",
       "    <tr style=\"text-align: right;\">\n",
       "      <th></th>\n",
       "      <th>Gas prices</th>\n",
       "    </tr>\n",
       "  </thead>\n",
       "  <tbody>\n",
       "    <tr>\n",
       "      <th>count</th>\n",
       "      <td>185.000000</td>\n",
       "    </tr>\n",
       "    <tr>\n",
       "      <th>mean</th>\n",
       "      <td>13.529730</td>\n",
       "    </tr>\n",
       "    <tr>\n",
       "      <th>std</th>\n",
       "      <td>11.233705</td>\n",
       "    </tr>\n",
       "    <tr>\n",
       "      <th>min</th>\n",
       "      <td>5.000000</td>\n",
       "    </tr>\n",
       "    <tr>\n",
       "      <th>25%</th>\n",
       "      <td>8.000000</td>\n",
       "    </tr>\n",
       "    <tr>\n",
       "      <th>50%</th>\n",
       "      <td>10.000000</td>\n",
       "    </tr>\n",
       "    <tr>\n",
       "      <th>75%</th>\n",
       "      <td>14.000000</td>\n",
       "    </tr>\n",
       "    <tr>\n",
       "      <th>max</th>\n",
       "      <td>100.000000</td>\n",
       "    </tr>\n",
       "  </tbody>\n",
       "</table>\n",
       "</div>"
      ],
      "text/plain": [
       "       Gas prices\n",
       "count  185.000000\n",
       "mean    13.529730\n",
       "std     11.233705\n",
       "min      5.000000\n",
       "25%      8.000000\n",
       "50%     10.000000\n",
       "75%     14.000000\n",
       "max    100.000000"
      ]
     },
     "execution_count": 19,
     "metadata": {},
     "output_type": "execute_result"
    }
   ],
   "source": [
    "interest_df.describe()"
   ]
  },
  {
   "cell_type": "markdown",
   "metadata": {},
   "source": [
    "We see that on average, the relative interest in 'Gas prices' is 13.5. It is important to note that this is unitless and represents a some normalized value in the range [0, 100], although Google states that a score of 0 means that there isn't enough data for a term. We see that the minimum value for this dataset is 5, so there was always enough data for this particular search term.\n",
    "\n",
    "Raw search values are preferable but Google does not provide this information for privacy reasons."
   ]
  },
  {
   "cell_type": "markdown",
   "metadata": {},
   "source": [
    "#### Visualizing relative interest in term 'Gas Prices' over time"
   ]
  },
  {
   "cell_type": "code",
   "execution_count": 34,
   "metadata": {},
   "outputs": [
    {
     "data": {
      "image/png": "[encoded data removed]",
      "text/plain": [
       "<Figure size 432x288 with 1 Axes>"
      ]
     },
     "metadata": {
      "needs_background": "light"
     },
     "output_type": "display_data"
    }
   ],
   "source": [
    "plt.plot(interest_df[kw])\n",
    "plt.ylabel('Relative interest in \\'{}\\''.format(kw))\n",
    "plt.show()"
   ]
  },
  {
   "cell_type": "markdown",
   "metadata": {},
   "source": [
    "We see that the most queried period of time for 'Gas prices' was in 2005 with a second after the recession in 2008."
   ]
  },
  {
   "cell_type": "markdown",
   "metadata": {},
   "source": [
    "#### Using related queries as feedback to get more data"
   ]
  },
  {
   "cell_type": "markdown",
   "metadata": {},
   "source": [
    "Google trends also provides keywords that it thinks are relevant to the provided keyword. This is useful because we can gather multiple keywords' worth of data and combine them to reduce the variance in any one search result."
   ]
  },
  {
   "cell_type": "code",
   "execution_count": 26,
   "metadata": {},
   "outputs": [],
   "source": [
    "def get_related_for_keyword(kw):\n",
    "    kw_list = [kw]\n",
    "    pytrends.build_payload(kw_list, cat=0, timeframe='all', geo='US', gprop='')\n",
    "    related_df = pytrends.interest_over_time()\n",
    "    return pytrends.related_queries()"
   ]
  },
  {
   "cell_type": "code",
   "execution_count": 27,
   "metadata": {},
   "outputs": [
    {
     "name": "stdout",
     "output_type": "stream",
     "text": [
      "Finding related terms to Gas prices...\n",
      "Finding related terms to gas near me...\n",
      "Finding related terms to gas prices near me...\n",
      "Finding related terms to gas price...\n",
      "Finding related terms to near me gas station...\n",
      "Done\n"
     ]
    }
   ],
   "source": [
    "# Modify these to grow the size of the tree and to choose a different starting keyword\n",
    "start_kw = 'Gas prices'\n",
    "num_iters = 5\n",
    "k = 3 # Top-k related keywords to find per word\n",
    "\n",
    "\n",
    "graph_dict = {}\n",
    "q = deque()\n",
    "q.append(start_kw)\n",
    "\n",
    "for i in range(num_iters):\n",
    "    # get the next keyword\n",
    "    kw = q.popleft()\n",
    "    print(\"Finding related terms to {}...\".format(kw))\n",
    "    \n",
    "    # Get related keywords for given keyword\n",
    "    related = get_related_for_keyword(kw)\n",
    "\n",
    "    # Get the top k related keywords\n",
    "    top_k = list(related[kw]['top'][:k]['query'].values)\n",
    "    \n",
    "    # Add to graph data dict\n",
    "    if kw not in graph_dict:\n",
    "        graph_dict[kw] = []\n",
    "    graph_dict[kw] = top_k\n",
    "    \n",
    "    q.extend(top_k)\n",
    "print(\"Done\")"
   ]
  },
  {
   "cell_type": "code",
   "execution_count": 28,
   "metadata": {},
   "outputs": [
    {
     "data": {
      "image/svg+xml": [
       "<?xml version=\"1.0\" encoding=\"UTF-8\" standalone=\"no\"?>\n",
       "<!DOCTYPE svg PUBLIC \"-//W3C//DTD SVG 1.1//EN\"\n",
       " \"http://www.w3.org/Graphics/SVG/1.1/DTD/svg11.dtd\">\n",
       "<!-- Generated by graphviz version 2.40.1 (20161225.0304)\n",
       " -->\n",
       "<!-- Title: %3 Pages: 1 -->\n",
       "<svg width=\"729pt\" height=\"589pt\"\n",
       " viewBox=\"0.00 0.00 729.02 588.73\" xmlns=\"http://www.w3.org/2000/svg\" xmlns:xlink=\"http://www.w3.org/1999/xlink\">\n",
       "<g id=\"graph0\" class=\"graph\" transform=\"scale(1 1) rotate(0) translate(4 584.7281)\">\n",
       "<title>%3</title>\n",
       "<polygon fill=\"#ffffff\" stroke=\"transparent\" points=\"-4,4 -4,-584.7281 725.0188,-584.7281 725.0188,4 -4,4\"/>\n",
       "<!-- Gas prices -->\n",
       "<g id=\"node1\" class=\"node\">\n",
       "<title>Gas prices</title>\n",
       "<ellipse fill=\"#b2dfee\" stroke=\"#b2dfee\" cx=\"320.132\" cy=\"-282.1735\" rx=\"48.9926\" ry=\"18\"/>\n",
       "<text text-anchor=\"middle\" x=\"320.132\" y=\"-278.4735\" font-family=\"Times,serif\" font-size=\"14.00\" fill=\"#000000\">Gas prices</text>\n",
       "</g>\n",
       "<!-- gas near me -->\n",
       "<g id=\"node2\" class=\"node\">\n",
       "<title>gas near me</title>\n",
       "<ellipse fill=\"#b2dfee\" stroke=\"#b2dfee\" cx=\"454.8735\" cy=\"-325.2147\" rx=\"53.8905\" ry=\"18\"/>\n",
       "<text text-anchor=\"middle\" x=\"454.8735\" y=\"-321.5147\" font-family=\"Times,serif\" font-size=\"14.00\" fill=\"#000000\">gas near me</text>\n",
       "</g>\n",
       "<!-- Gas prices&#45;&gt;gas near me -->\n",
       "<g id=\"edge1\" class=\"edge\">\n",
       "<title>Gas prices&#45;&gt;gas near me</title>\n",
       "<path fill=\"none\" stroke=\"#000000\" d=\"M357.3074,-294.0487C372.2732,-298.8292 389.7454,-304.4105 405.7357,-309.5184\"/>\n",
       "<polygon fill=\"#000000\" stroke=\"#000000\" points=\"404.874,-312.9173 415.4648,-312.6262 407.004,-306.2492 404.874,-312.9173\"/>\n",
       "</g>\n",
       "<!-- gas prices near me -->\n",
       "<g id=\"node3\" class=\"node\">\n",
       "<title>gas prices near me</title>\n",
       "<ellipse fill=\"#b2dfee\" stroke=\"#b2dfee\" cx=\"335.204\" cy=\"-141.5356\" rx=\"77.9862\" ry=\"18\"/>\n",
       "<text text-anchor=\"middle\" x=\"335.204\" y=\"-137.8356\" font-family=\"Times,serif\" font-size=\"14.00\" fill=\"#000000\">gas prices near me</text>\n",
       "</g>\n",
       "<!-- Gas prices&#45;&gt;gas prices near me -->\n",
       "<g id=\"edge2\" class=\"edge\">\n",
       "<title>Gas prices&#45;&gt;gas prices near me</title>\n",
       "<path fill=\"none\" stroke=\"#000000\" d=\"M322.0716,-264.0755C324.6378,-240.1303 329.1874,-197.6772 332.1999,-169.567\"/>\n",
       "<polygon fill=\"#000000\" stroke=\"#000000\" points=\"335.6863,-169.8803 333.2719,-159.5642 328.7261,-169.1343 335.6863,-169.8803\"/>\n",
       "</g>\n",
       "<!-- gas price -->\n",
       "<g id=\"node4\" class=\"node\">\n",
       "<title>gas price</title>\n",
       "<ellipse fill=\"#b2dfee\" stroke=\"#b2dfee\" cx=\"193.2197\" cy=\"-338.158\" rx=\"43.5923\" ry=\"18\"/>\n",
       "<text text-anchor=\"middle\" x=\"193.2197\" y=\"-334.458\" font-family=\"Times,serif\" font-size=\"14.00\" fill=\"#000000\">gas price</text>\n",
       "</g>\n",
       "<!-- Gas prices&#45;&gt;gas price -->\n",
       "<g id=\"edge3\" class=\"edge\">\n",
       "<title>Gas prices&#45;&gt;gas price</title>\n",
       "<path fill=\"none\" stroke=\"#000000\" d=\"M288.7604,-296.0124C271.9144,-303.4436 250.9745,-312.6808 232.9954,-320.6119\"/>\n",
       "<polygon fill=\"#000000\" stroke=\"#000000\" points=\"231.0932,-317.6255 223.3565,-324.8639 233.9185,-324.0301 231.0932,-317.6255\"/>\n",
       "</g>\n",
       "<!-- near me gas station -->\n",
       "<g id=\"node5\" class=\"node\">\n",
       "<title>near me gas station</title>\n",
       "<ellipse fill=\"#b2dfee\" stroke=\"#b2dfee\" cx=\"536.6421\" cy=\"-436.9205\" rx=\"80.6858\" ry=\"18\"/>\n",
       "<text text-anchor=\"middle\" x=\"536.6421\" y=\"-433.2205\" font-family=\"Times,serif\" font-size=\"14.00\" fill=\"#000000\">near me gas station</text>\n",
       "</g>\n",
       "<!-- gas near me&#45;&gt;near me gas station -->\n",
       "<g id=\"edge4\" class=\"edge\">\n",
       "<title>gas near me&#45;&gt;near me gas station</title>\n",
       "<path fill=\"none\" stroke=\"#000000\" d=\"M468.0111,-343.1622C481.4222,-361.4834 502.3753,-390.1078 517.6036,-410.9115\"/>\n",
       "<polygon fill=\"#000000\" stroke=\"#000000\" points=\"514.8063,-413.0157 523.5372,-419.0175 520.4547,-408.881 514.8063,-413.0157\"/>\n",
       "</g>\n",
       "<!-- gas station -->\n",
       "<g id=\"node6\" class=\"node\">\n",
       "<title>gas station</title>\n",
       "<ellipse fill=\"#b2dfee\" stroke=\"#b2dfee\" cx=\"451.4758\" cy=\"-193.599\" rx=\"49.2915\" ry=\"18\"/>\n",
       "<text text-anchor=\"middle\" x=\"451.4758\" y=\"-189.899\" font-family=\"Times,serif\" font-size=\"14.00\" fill=\"#000000\">gas station</text>\n",
       "</g>\n",
       "<!-- gas near me&#45;&gt;gas station -->\n",
       "<g id=\"edge5\" class=\"edge\">\n",
       "<title>gas near me&#45;&gt;gas station</title>\n",
       "<path fill=\"none\" stroke=\"#000000\" d=\"M454.4082,-307.1901C453.8421,-285.2596 452.8794,-247.9685 452.2122,-222.125\"/>\n",
       "<polygon fill=\"#000000\" stroke=\"#000000\" points=\"455.7034,-221.7346 451.9464,-211.8283 448.7057,-221.9153 455.7034,-221.7346\"/>\n",
       "</g>\n",
       "<!-- gas stations near me -->\n",
       "<g id=\"node7\" class=\"node\">\n",
       "<title>gas stations near me</title>\n",
       "<ellipse fill=\"#b2dfee\" stroke=\"#b2dfee\" cx=\"571.1379\" cy=\"-258.1084\" rx=\"84.485\" ry=\"18\"/>\n",
       "<text text-anchor=\"middle\" x=\"571.1379\" y=\"-254.4084\" font-family=\"Times,serif\" font-size=\"14.00\" fill=\"#000000\">gas stations near me</text>\n",
       "</g>\n",
       "<!-- gas near me&#45;&gt;gas stations near me -->\n",
       "<g id=\"edge6\" class=\"edge\">\n",
       "<title>gas near me&#45;&gt;gas stations near me</title>\n",
       "<path fill=\"none\" stroke=\"#000000\" d=\"M482.1324,-309.4813C497.1961,-300.7867 516.1562,-289.8432 532.702,-280.2931\"/>\n",
       "<polygon fill=\"#000000\" stroke=\"#000000\" points=\"534.6945,-283.1843 541.6057,-275.154 531.1952,-277.1217 534.6945,-283.1843\"/>\n",
       "</g>\n",
       "<!-- gas prices near me&#45;&gt;gas station -->\n",
       "<g id=\"edge7\" class=\"edge\">\n",
       "<title>gas prices near me&#45;&gt;gas station</title>\n",
       "<path fill=\"none\" stroke=\"#000000\" d=\"M371.0381,-157.5812C383.7097,-163.2552 398.0474,-169.6752 411.072,-175.5073\"/>\n",
       "<polygon fill=\"#000000\" stroke=\"#000000\" points=\"409.724,-178.7385 420.2812,-179.6309 412.5848,-172.3497 409.724,-178.7385\"/>\n",
       "</g>\n",
       "<!-- gas station near me prices -->\n",
       "<g id=\"node8\" class=\"node\">\n",
       "<title>gas station near me prices</title>\n",
       "<ellipse fill=\"#b2dfee\" stroke=\"#b2dfee\" cx=\"386.9655\" cy=\"-18\" rx=\"104.7816\" ry=\"18\"/>\n",
       "<text text-anchor=\"middle\" x=\"386.9655\" y=\"-14.3\" font-family=\"Times,serif\" font-size=\"14.00\" fill=\"#000000\">gas station near me prices</text>\n",
       "</g>\n",
       "<!-- gas prices near me&#45;&gt;gas station near me prices -->\n",
       "<g id=\"edge8\" class=\"edge\">\n",
       "<title>gas prices near me&#45;&gt;gas station near me prices</title>\n",
       "<path fill=\"none\" stroke=\"#000000\" d=\"M342.7306,-123.5725C351.3175,-103.0787 365.4582,-69.33 375.4366,-45.5153\"/>\n",
       "<polygon fill=\"#000000\" stroke=\"#000000\" points=\"378.7934,-46.5605 379.4299,-35.9848 372.3372,-43.8553 378.7934,-46.5605\"/>\n",
       "</g>\n",
       "<!-- gas station prices -->\n",
       "<g id=\"node9\" class=\"node\">\n",
       "<title>gas station prices</title>\n",
       "<ellipse fill=\"#b2dfee\" stroke=\"#b2dfee\" cx=\"250.7933\" cy=\"-44.5288\" rx=\"73.387\" ry=\"18\"/>\n",
       "<text text-anchor=\"middle\" x=\"250.7933\" y=\"-40.8288\" font-family=\"Times,serif\" font-size=\"14.00\" fill=\"#000000\">gas station prices</text>\n",
       "</g>\n",
       "<!-- gas prices near me&#45;&gt;gas station prices -->\n",
       "<g id=\"edge9\" class=\"edge\">\n",
       "<title>gas prices near me&#45;&gt;gas station prices</title>\n",
       "<path fill=\"none\" stroke=\"#000000\" d=\"M319.7218,-123.7431C306.6331,-108.7013 287.7196,-86.9654 273.0143,-70.0657\"/>\n",
       "<polygon fill=\"#000000\" stroke=\"#000000\" points=\"275.3821,-67.4549 266.1774,-62.2085 270.1014,-72.0499 275.3821,-67.4549\"/>\n",
       "</g>\n",
       "<!-- price of gas -->\n",
       "<g id=\"node10\" class=\"node\">\n",
       "<title>price of gas</title>\n",
       "<ellipse fill=\"#b2dfee\" stroke=\"#b2dfee\" cx=\"167.1333\" cy=\"-467.6158\" rx=\"53.0913\" ry=\"18\"/>\n",
       "<text text-anchor=\"middle\" x=\"167.1333\" y=\"-463.9158\" font-family=\"Times,serif\" font-size=\"14.00\" fill=\"#000000\">price of gas</text>\n",
       "</g>\n",
       "<!-- gas price&#45;&gt;price of gas -->\n",
       "<g id=\"edge10\" class=\"edge\">\n",
       "<title>gas price&#45;&gt;price of gas</title>\n",
       "<path fill=\"none\" stroke=\"#000000\" d=\"M189.5925,-356.1586C185.2561,-377.6786 177.9465,-413.9538 172.8482,-439.2545\"/>\n",
       "<polygon fill=\"#000000\" stroke=\"#000000\" points=\"169.3581,-438.8564 170.8138,-449.3508 176.2202,-440.2392 169.3581,-438.8564\"/>\n",
       "</g>\n",
       "<!-- gas prices -->\n",
       "<g id=\"node11\" class=\"node\">\n",
       "<title>gas prices</title>\n",
       "<ellipse fill=\"#b2dfee\" stroke=\"#b2dfee\" cx=\"85.5234\" cy=\"-260.0194\" rx=\"46.5926\" ry=\"18\"/>\n",
       "<text text-anchor=\"middle\" x=\"85.5234\" y=\"-256.3194\" font-family=\"Times,serif\" font-size=\"14.00\" fill=\"#000000\">gas prices</text>\n",
       "</g>\n",
       "<!-- gas price&#45;&gt;gas prices -->\n",
       "<g id=\"edge11\" class=\"edge\">\n",
       "<title>gas price&#45;&gt;gas prices</title>\n",
       "<path fill=\"none\" stroke=\"#000000\" d=\"M171.4257,-322.3455C155.4741,-310.7719 133.622,-294.9171 115.95,-282.0953\"/>\n",
       "<polygon fill=\"#000000\" stroke=\"#000000\" points=\"117.804,-279.1163 107.6546,-276.0766 113.6932,-284.7821 117.804,-279.1163\"/>\n",
       "</g>\n",
       "<!-- average gas price -->\n",
       "<g id=\"node12\" class=\"node\">\n",
       "<title>average gas price</title>\n",
       "<ellipse fill=\"#b2dfee\" stroke=\"#b2dfee\" cx=\"74.0934\" cy=\"-386.2071\" rx=\"74.187\" ry=\"18\"/>\n",
       "<text text-anchor=\"middle\" x=\"74.0934\" y=\"-382.5071\" font-family=\"Times,serif\" font-size=\"14.00\" fill=\"#000000\">average gas price</text>\n",
       "</g>\n",
       "<!-- gas price&#45;&gt;average gas price -->\n",
       "<g id=\"edge12\" class=\"edge\">\n",
       "<title>gas price&#45;&gt;average gas price</title>\n",
       "<path fill=\"none\" stroke=\"#000000\" d=\"M161.9207,-350.7824C149.7169,-355.7047 135.4524,-361.4582 122.0112,-366.8797\"/>\n",
       "<polygon fill=\"#000000\" stroke=\"#000000\" points=\"120.3755,-363.7654 112.4107,-370.752 122.9939,-370.2572 120.3755,-363.7654\"/>\n",
       "</g>\n",
       "<!-- shell gas -->\n",
       "<g id=\"node13\" class=\"node\">\n",
       "<title>shell gas</title>\n",
       "<ellipse fill=\"#b2dfee\" stroke=\"#b2dfee\" cx=\"671.6825\" cy=\"-412.9191\" rx=\"42.4939\" ry=\"18\"/>\n",
       "<text text-anchor=\"middle\" x=\"671.6825\" y=\"-409.2191\" font-family=\"Times,serif\" font-size=\"14.00\" fill=\"#000000\">shell gas</text>\n",
       "</g>\n",
       "<!-- near me gas station&#45;&gt;shell gas -->\n",
       "<g id=\"edge13\" class=\"edge\">\n",
       "<title>near me gas station&#45;&gt;shell gas</title>\n",
       "<path fill=\"none\" stroke=\"#000000\" d=\"M599.8131,-425.6928C607.4583,-424.334 615.1782,-422.9619 622.5785,-421.6466\"/>\n",
       "<polygon fill=\"#000000\" stroke=\"#000000\" points=\"623.2015,-425.0908 632.4347,-419.8948 621.9765,-418.1988 623.2015,-425.0908\"/>\n",
       "</g>\n",
       "<!-- shell gas station near me -->\n",
       "<g id=\"node14\" class=\"node\">\n",
       "<title>shell gas station near me</title>\n",
       "<ellipse fill=\"#b2dfee\" stroke=\"#b2dfee\" cx=\"620.9277\" cy=\"-532.057\" rx=\"100.1823\" ry=\"18\"/>\n",
       "<text text-anchor=\"middle\" x=\"620.9277\" y=\"-528.357\" font-family=\"Times,serif\" font-size=\"14.00\" fill=\"#000000\">shell gas station near me</text>\n",
       "</g>\n",
       "<!-- near me gas station&#45;&gt;shell gas station near me -->\n",
       "<g id=\"edge14\" class=\"edge\">\n",
       "<title>near me gas station&#45;&gt;shell gas station near me</title>\n",
       "<path fill=\"none\" stroke=\"#000000\" d=\"M552.4956,-454.8149C565.4455,-469.4319 583.9095,-490.273 598.3953,-506.6237\"/>\n",
       "<polygon fill=\"#000000\" stroke=\"#000000\" points=\"595.8942,-509.0787 605.1453,-514.2427 601.1338,-504.4367 595.8942,-509.0787\"/>\n",
       "</g>\n",
       "<!-- shell -->\n",
       "<g id=\"node15\" class=\"node\">\n",
       "<title>shell</title>\n",
       "<ellipse fill=\"#b2dfee\" stroke=\"#b2dfee\" cx=\"496.4358\" cy=\"-562.7281\" rx=\"27.8951\" ry=\"18\"/>\n",
       "<text text-anchor=\"middle\" x=\"496.4358\" y=\"-559.0281\" font-family=\"Times,serif\" font-size=\"14.00\" fill=\"#000000\">shell</text>\n",
       "</g>\n",
       "<!-- near me gas station&#45;&gt;shell -->\n",
       "<g id=\"edge15\" class=\"edge\">\n",
       "<title>near me gas station&#45;&gt;shell</title>\n",
       "<path fill=\"none\" stroke=\"#000000\" d=\"M530.8816,-454.9456C524.1937,-475.8721 513.0871,-510.6255 505.2981,-534.9974\"/>\n",
       "<polygon fill=\"#000000\" stroke=\"#000000\" points=\"501.8961,-534.1455 502.1857,-544.7363 508.5639,-536.2764 501.8961,-534.1455\"/>\n",
       "</g>\n",
       "</g>\n",
       "</svg>\n"
      ],
      "text/plain": [
       "<graphviz.dot.Digraph at 0x11eea26d8>"
      ]
     },
     "execution_count": 28,
     "metadata": {},
     "output_type": "execute_result"
    }
   ],
   "source": [
    "dot = Digraph(engine='neato')\n",
    "dot.node_attr.update(color='lightblue2', style='filled')\n",
    "dot.edge_attr.update(len='1.6')\n",
    "\n",
    "for kw in graph_dict:\n",
    "    dot.node(kw, kw)\n",
    "    for child in graph_dict[kw]:\n",
    "        dot.node(child, child)\n",
    "        dot.edge(kw, child, length='1')\n",
    "dot"
   ]
  },
  {
   "cell_type": "markdown",
   "metadata": {},
   "source": [
    "From this graph, we can use any of the suggested keywords in combination with the existing keyword. We didn't include this in the project as it is somewhat tangential but this can be included in a future iteration that focuses more explicitly on the relationship between google trends data and gas prices."
   ]
  },
  {
   "cell_type": "markdown",
   "metadata": {},
   "source": [
    "## ARIMA"
   ]
  },
  {
   "cell_type": "code",
   "execution_count": null,
   "metadata": {},
   "outputs": [],
   "source": []
  },
  {
   "cell_type": "markdown",
   "metadata": {},
   "source": [
    "## Automatic Parameter Selection"
   ]
  },
  {
   "cell_type": "code",
   "execution_count": null,
   "metadata": {},
   "outputs": [],
   "source": []
  },
  {
   "cell_type": "markdown",
   "metadata": {},
   "source": [
    "## Cross Correlation"
   ]
  },
  {
   "cell_type": "code",
   "execution_count": null,
   "metadata": {},
   "outputs": [],
   "source": []
  },
  {
   "cell_type": "markdown",
   "metadata": {},
   "source": [
    "# Ethics & Privacy"
   ]
  },
  {
   "cell_type": "markdown",
   "metadata": {},
   "source": [
    "*Fill in your ethics & privacy discussion here*"
   ]
  },
  {
   "cell_type": "markdown",
   "metadata": {},
   "source": [
    "# Conclusion & Discussion"
   ]
  },
  {
   "cell_type": "markdown",
   "metadata": {},
   "source": [
    "*Fill in your discussion information here*"
   ]
  }
 ],
 "metadata": {
  "kernelspec": {
   "display_name": "Python 3",
   "language": "python",
   "name": "python3"
  },
  "language_info": {
   "codemirror_mode": {
    "name": "ipython",
    "version": 3
   },
   "file_extension": ".py",
   "mimetype": "text/x-python",
   "name": "python",
   "nbconvert_exporter": "python",
   "pygments_lexer": "ipython3",
   "version": "3.6.8"
  }
 },
 "nbformat": 4,
 "nbformat_minor": 2
}
