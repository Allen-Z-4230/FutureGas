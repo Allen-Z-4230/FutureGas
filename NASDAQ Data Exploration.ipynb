{
 "cells": [
  {
   "cell_type": "markdown",
   "metadata": {},
   "source": [
    "# NASDAQ Data Exploration "
   ]
  },
  {
   "cell_type": "markdown",
   "metadata": {},
   "source": [
    "# Import Python Packages"
   ]
  },
  {
   "cell_type": "code",
   "execution_count": null,
   "metadata": {},
   "outputs": [],
   "source": [
    "import pandas as pd\n",
    "from pandas.plotting import autocorrelation_plot\n",
    "import matplotlib.pyplot as plt\n",
    "from statsmodels.tsa.arima_model import ARIMA\n",
    "\n",
    "\n",
    "from pandas.plotting import register_matplotlib_converters\n",
    "register_matplotlib_converters()"
   ]
  },
  {
   "cell_type": "code",
   "execution_count": null,
   "metadata": {},
   "outputs": [],
   "source": [
    "import warnings\n",
    "import itertools\n",
    "import numpy as np\n",
    "warnings.filterwarnings(\"ignore\")\n",
    "plt.style.use('fivethirtyeight')\n",
    "\n",
    "import statsmodels.api as sm\n",
    "import matplotlib\n",
    "matplotlib.rcParams['axes.labelsize'] = 18\n",
    "matplotlib.rcParams['xtick.labelsize'] = 16\n",
    "matplotlib.rcParams['ytick.labelsize'] = 16\n",
    "matplotlib.rcParams['text.color'] = 'k'"
   ]
  },
  {
   "cell_type": "markdown",
   "metadata": {},
   "source": [
    "# Import and Clean Data"
   ]
  },
  {
   "cell_type": "code",
   "execution_count": null,
   "metadata": {},
   "outputs": [],
   "source": [
    "nasdaq = \"NASDAQ.csv\"\n",
    "df_nasdaq = pd.read_csv(nasdaq)\n"
   ]
  },
  {
   "cell_type": "code",
   "execution_count": null,
   "metadata": {},
   "outputs": [],
   "source": [
    "#drop uneccesary columns\n",
    "\n",
    "df_nasdaq.drop('High', axis = 1, inplace = True)\n",
    "df_nasdaq.drop('Low', axis = 1, inplace = True)\n",
    "df_nasdaq.drop('Volume', axis = 1, inplace = True)"
   ]
  },
  {
   "cell_type": "code",
   "execution_count": null,
   "metadata": {},
   "outputs": [],
   "source": [
    "#check  dataframe\n",
    "print(df_nasdaq)"
   ]
  },
  {
   "cell_type": "markdown",
   "metadata": {},
   "source": [
    "# Drop Empty Columns"
   ]
  },
  {
   "cell_type": "code",
   "execution_count": null,
   "metadata": {},
   "outputs": [],
   "source": [
    "#drop empty columns in open\n",
    "null_open = any(df_nasdaq['Open'].isnull())\n",
    "if null_open:\n",
    "    print(\"Removing null entries from Open Stocks\")\n",
    "    df_nasdaq = df_nasdaq.dropna()  \n",
    "    \n",
    "assert not null_open"
   ]
  },
  {
   "cell_type": "code",
   "execution_count": null,
   "metadata": {},
   "outputs": [],
   "source": [
    "#drop empty columns in close\n",
    "null_close= any(df_nasdaq['Close'].isnull())\n",
    "if null_close:\n",
    "    print(\"Removing null entries from Close Stocks\")\n",
    "    df_nasdaq = df_nasdaq.dropna()  \n",
    "    \n",
    "assert not null_close"
   ]
  },
  {
   "cell_type": "code",
   "execution_count": null,
   "metadata": {},
   "outputs": [],
   "source": [
    "#drop empty columns in adj close\n",
    "null_adjclose= any(df_nasdaq['Adj Close'].isnull())\n",
    "if null_adjclose:\n",
    "    print(\"Removing null entries from Adj Close Stocks\")\n",
    "    df_nasdaq = df_nasdaq.dropna()  \n",
    "    \n",
    "assert not null_adjclose"
   ]
  },
  {
   "cell_type": "code",
   "execution_count": null,
   "metadata": {},
   "outputs": [],
   "source": [
    "df_nasdaq.describe()"
   ]
  },
  {
   "cell_type": "markdown",
   "metadata": {},
   "source": [
    "# Setting Indexes and Labels"
   ]
  },
  {
   "cell_type": "code",
   "execution_count": null,
   "metadata": {},
   "outputs": [],
   "source": [
    "#df_nasdaq.set_index('Date')\n",
    "#df_nasdaq = df_nasdaq.reset_index()\n",
    "#df_nasdaq = df_nasdaq.drop(['index'], axis = 1)\n",
    "\n",
    "#df_nasdaq['Date'] = pd.to_datetime(df_nasdaq['Date'])\n",
    "df_nasdaq.set_index('Date', inplace = True)\n",
    "print(df_nasdaq.index)\n"
   ]
  },
  {
   "cell_type": "code",
   "execution_count": null,
   "metadata": {},
   "outputs": [],
   "source": [
    "plt.figure(figsize=(20, 10))\n",
    "plt.plot(df_nasdaq.index, df_nasdaq['Open'])\n",
    "#df_nasdaq['Open'].plot(figsize=(15, 6))\n",
    "plt.xlabel('Date')\n",
    "plt.ylabel('Stock Price')\n",
    "plt.show()"
   ]
  },
  {
   "cell_type": "code",
   "execution_count": null,
   "metadata": {},
   "outputs": [],
   "source": [
    "plt.figure(figsize=(20, 10))\n",
    "plt.plot(df_nasdaq.index, df_nasdaq['Close'])\n",
    "\n",
    "#df_nasdaq['Open'].plot(figsize=(15, 6))\n",
    "plt.xlabel('Date')\n",
    "plt.ylabel('Stock Price')\n",
    "plt.show()"
   ]
  },
  {
   "cell_type": "code",
   "execution_count": null,
   "metadata": {},
   "outputs": [],
   "source": [
    "plt.figure(figsize=(20, 10))\n",
    "plt.plot(df_nasdaq['D, df_nasdaq['Adj Close'])\n",
    "\n",
    "#df_nasdaq['Open'].plot(figsize=(15, 6))\n",
    "plt.xlabel('Date')\n",
    "plt.ylabel('Stock Price')\n",
    "plt.show()"
   ]
  },
  {
   "cell_type": "markdown",
   "metadata": {},
   "source": [
    "# Autocorrelation Plot"
   ]
  },
  {
   "cell_type": "code",
   "execution_count": null,
   "metadata": {},
   "outputs": [],
   "source": [
    "#autocorrelation plot for Open\n",
    "autocorrelation_plot(df_nasdaq['Open'])\n"
   ]
  },
  {
   "cell_type": "code",
   "execution_count": null,
   "metadata": {},
   "outputs": [],
   "source": [
    "#autocorrelation plot for Close\n",
    "autocorrelation_plot(df_nasdaq['Close'])"
   ]
  },
  {
   "cell_type": "code",
   "execution_count": null,
   "metadata": {},
   "outputs": [],
   "source": [
    "#autocorrelation plot for Adj Close\n",
    "autocorrelation_plot(df_nasdaq['Adj Close'])"
   ]
  },
  {
   "cell_type": "code",
   "execution_count": null,
   "metadata": {},
   "outputs": [],
   "source": [
    "#code idea from https://www.machinelearningplus.com/time-series/arima-model-time-series-forecasting-python/\n",
    "from statsmodels.tsa.stattools import adfuller\n",
    "from numpy import log\n",
    "result = adfuller(df_nasdaq['Open'].dropna())\n",
    "print('ADF Statistic: %f' % result[0])\n",
    "print('p-value: %f' % result[1])"
   ]
  },
  {
   "cell_type": "markdown",
   "metadata": {},
   "source": [
    "# Differencing Plots"
   ]
  },
  {
   "cell_type": "code",
   "execution_count": null,
   "metadata": {},
   "outputs": [],
   "source": [
    "import numpy as np, pandas as pd\n",
    "from statsmodels.graphics.tsaplots import plot_acf\n",
    "import matplotlib.pyplot as plt\n",
    "plt.rcParams.update({'figure.figsize':(15,7), 'figure.dpi':120})\n",
    "\n",
    "fig, axes = plt.subplots(3, 2, sharex=True)\n",
    "axes[0, 0].plot(df_nasdaq['Open']); axes[0, 0].set_title('Original Series')\n",
    "plot_acf(df_nasdaq['Open'], ax=axes[0, 1])\n",
    "\n",
    "# 1st Differencing\n",
    "axes[1, 0].plot(df_nasdaq['Open'].diff()); axes[1, 0].set_title('1st Order Differencing')\n",
    "plot_acf(df_nasdaq['Open'].diff().dropna(), ax=axes[1, 1])\n",
    "\n",
    "plt.show()"
   ]
  },
  {
   "cell_type": "markdown",
   "metadata": {},
   "source": [
    "# ARIMA Models"
   ]
  },
  {
   "cell_type": "code",
   "execution_count": null,
   "metadata": {},
   "outputs": [],
   "source": [
    "model = ARIMA(df_nasdaq['Open'], order=np.array([1, 1, 1]), freq='W')\n",
    "model_fit = model.fit()\n",
    "print(model_fit.summary())"
   ]
  },
  {
   "cell_type": "code",
   "execution_count": null,
   "metadata": {},
   "outputs": [],
   "source": [
    "residuals = pd.DataFrame(model_fit.resid)\n",
    "residuals.plot()\n",
    "pyplot.show()\n",
    "residuals.plot(kind='kde')\n",
    "pyplot.show()\n",
    "print(residuals.describe())"
   ]
  },
  {
   "cell_type": "code",
   "execution_count": null,
   "metadata": {},
   "outputs": [],
   "source": [
    "model2 = ARIMA(df_nasdaq['Close'], order=np.array([1, 1, 1]), freq='W')\n",
    "model2_fit = model2.fit()\n",
    "print(model2_fit.summary())"
   ]
  },
  {
   "cell_type": "code",
   "execution_count": null,
   "metadata": {},
   "outputs": [],
   "source": [
    "residuals2 = pd.DataFrame(model2_fit.resid)\n",
    "residuals2.plot()\n",
    "pyplot.show()\n",
    "residuals2.plot(kind='kde')\n",
    "pyplot.show()\n",
    "print(residuals2.describe())"
   ]
  },
  {
   "cell_type": "code",
   "execution_count": null,
   "metadata": {},
   "outputs": [],
   "source": [
    "model3 = ARIMA(df_nasdaq['Adj Close'], order=np.array([1, 1, 1]), freq='W')\n",
    "model3_fit = model3.fit()\n",
    "print(model3_fit.summary())"
   ]
  },
  {
   "cell_type": "code",
   "execution_count": null,
   "metadata": {},
   "outputs": [],
   "source": [
    "residuals3 = pd.DataFrame(model3_fit.resid)\n",
    "residuals3.plot()\n",
    "pyplot.show()\n",
    "residuals3.plot(kind='kde')\n",
    "pyplot.show()\n",
    "print(residuals3.describe())"
   ]
  }
 ],
 "metadata": {
  "kernelspec": {
   "display_name": "Python 3",
   "language": "python",
   "name": "python3"
  },
  "language_info": {
   "codemirror_mode": {
    "name": "ipython",
    "version": 3
   },
   "file_extension": ".py",
   "mimetype": "text/x-python",
   "name": "python",
   "nbconvert_exporter": "python",
   "pygments_lexer": "ipython3",
   "version": "3.7.3"
  }
 },
 "nbformat": 4,
 "nbformat_minor": 2
}
