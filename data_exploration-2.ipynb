{
 "cells": [
  {
   "cell_type": "markdown",
   "metadata": {},
   "source": [
    "# NASDAQ Data Exploration "
   ]
  },
  {
   "cell_type": "code",
   "execution_count": 1,
   "metadata": {},
   "outputs": [],
   "source": [
    "import pandas as pd\n",
    "from pandas import Series\n",
    "from pandas.plotting import autocorrelation_plot\n",
    "import matplotlib.pyplot as plt\n",
    "from statsmodels.tsa.arima_model import ARIMA\n",
    "\n",
    "\n",
    "from pandas.plotting import register_matplotlib_converters\n",
    "register_matplotlib_converters()"
   ]
  },
  {
   "cell_type": "code",
   "execution_count": 2,
   "metadata": {},
   "outputs": [],
   "source": [
    "import warnings\n",
    "import itertools\n",
    "import numpy as np\n",
    "warnings.filterwarnings(\"ignore\")\n",
    "plt.style.use('fivethirtyeight')\n",
    "\n",
    "import statsmodels.api as sm\n",
    "import matplotlib\n",
    "matplotlib.rcParams['axes.labelsize'] = 18\n",
    "matplotlib.rcParams['xtick.labelsize'] = 16\n",
    "matplotlib.rcParams['ytick.labelsize'] = 16\n",
    "matplotlib.rcParams['text.color'] = 'k'"
   ]
  },
  {
   "cell_type": "markdown",
   "metadata": {},
   "source": [
    "Load NASDAQ file into DataFrame"
   ]
  },
  {
   "cell_type": "code",
   "execution_count": 3,
   "metadata": {},
   "outputs": [],
   "source": [
    "nasdaq = \"NASDAQ.csv\"\n",
    "df_nasdaq = pd.read_csv(nasdaq)\n"
   ]
  },
  {
   "cell_type": "code",
   "execution_count": 4,
   "metadata": {},
   "outputs": [],
   "source": [
    "#drop uneccesary columns\n",
    "\n",
    "df_nasdaq.drop('High', axis = 1, inplace = True)\n",
    "df_nasdaq.drop('Low', axis = 1, inplace = True)\n",
    "df_nasdaq.drop('Volume', axis = 1, inplace = True)"
   ]
  },
  {
   "cell_type": "code",
   "execution_count": 5,
   "metadata": {},
   "outputs": [
    {
     "name": "stdout",
     "output_type": "stream",
     "text": [
      "             Date         Open        Close    Adj Close\n",
      "0      1971-02-05   100.000000   100.000000   100.000000\n",
      "1      1971-02-08   100.839996   100.839996   100.839996\n",
      "2      1971-02-09   100.760002   100.760002   100.760002\n",
      "3      1971-02-10   100.690002   100.690002   100.690002\n",
      "4      1971-02-11   101.449997   101.449997   101.449997\n",
      "5      1971-02-12   102.050003   102.050003   102.050003\n",
      "6      1971-02-16   102.190002   102.190002   102.190002\n",
      "7      1971-02-17   101.739998   101.739998   101.739998\n",
      "8      1971-02-18   101.419998   101.419998   101.419998\n",
      "9      1971-02-19   100.699997   100.699997   100.699997\n",
      "10     1971-02-22    99.680000    99.680000    99.680000\n",
      "11     1971-02-23    99.720001    99.720001    99.720001\n",
      "12     1971-02-24   100.639999   100.639999   100.639999\n",
      "13     1971-02-25   101.230003   101.230003   101.230003\n",
      "14     1971-02-26   101.339996   101.339996   101.339996\n",
      "15     1971-03-01   101.779999   101.779999   101.779999\n",
      "16     1971-03-02   101.839996   101.839996   101.839996\n",
      "17     1971-03-03   102.070000   102.070000   102.070000\n",
      "18     1971-03-04   102.779999   102.779999   102.779999\n",
      "19     1971-03-05   103.000000   103.000000   103.000000\n",
      "20     1971-03-08   104.230003   104.230003   104.230003\n",
      "21     1971-03-09   104.410004   104.410004   104.410004\n",
      "22     1971-03-10   104.139999   104.139999   104.139999\n",
      "23     1971-03-11   104.260002   104.260002   104.260002\n",
      "24     1971-03-12   104.500000   104.500000   104.500000\n",
      "25     1971-03-15   105.129997   105.129997   105.129997\n",
      "26     1971-03-16   105.559998   105.559998   105.559998\n",
      "27     1971-03-17   105.500000   105.500000   105.500000\n",
      "28     1971-03-18   105.879997   105.879997   105.879997\n",
      "29     1971-03-19   105.769997   105.769997   105.769997\n",
      "...           ...          ...          ...          ...\n",
      "12138  2019-03-22  7800.250000  7642.669922  7642.669922\n",
      "12139  2019-03-25  7618.979980  7637.540039  7637.540039\n",
      "12140  2019-03-26  7700.000000  7691.520020  7691.520020\n",
      "12141  2019-03-27  7702.049805  7643.379883  7643.379883\n",
      "12142  2019-03-28  7660.069824  7669.169922  7669.169922\n",
      "12143  2019-03-29  7726.709961  7729.319824  7729.319824\n",
      "12144  2019-04-01  7800.240234  7828.910156  7828.910156\n",
      "12145  2019-04-02  7824.609863  7848.689941  7848.689941\n",
      "12146  2019-04-03  7891.180176  7895.549805  7895.549805\n",
      "12147  2019-04-04  7894.259766  7891.779785  7891.779785\n",
      "12148  2019-04-05  7914.509766  7938.689941  7938.689941\n",
      "12149  2019-04-08  7924.890137  7953.879883  7953.879883\n",
      "12150  2019-04-09  7924.770020  7909.279785  7909.279785\n",
      "12151  2019-04-10  7922.729980  7964.240234  7964.240234\n",
      "12152  2019-04-11  7975.200195  7947.359863  7947.359863\n",
      "12153  2019-04-12  7984.149902  7984.160156  7984.160156\n",
      "12154  2019-04-15  7987.160156  7976.009766  7976.009766\n",
      "12155  2019-04-16  8000.569824  8000.229980  8000.229980\n",
      "12156  2019-04-17  8044.970215  7996.080078  7996.080078\n",
      "12157  2019-04-18  7998.450195  7998.060059  7998.060059\n",
      "12158  2019-04-22  7969.370117  8015.270020  8015.270020\n",
      "12159  2019-04-23  8026.750000  8120.819824  8120.819824\n",
      "12160  2019-04-24  8122.879883  8102.009766  8102.009766\n",
      "12161  2019-04-25  8150.850098  8118.680176  8118.680176\n",
      "12162  2019-04-26  8100.279785  8146.399902  8146.399902\n",
      "12163  2019-04-29  8147.649902  8161.850098  8161.850098\n",
      "12164  2019-04-30  8104.910156  8095.390137  8095.390137\n",
      "12165  2019-05-01  8132.930176  8049.640137  8049.640137\n",
      "12166  2019-05-02  8046.479980  8036.770020  8036.770020\n",
      "12167  2019-05-03  8092.879883  8164.000000  8164.000000\n",
      "\n",
      "[12168 rows x 4 columns]\n"
     ]
    }
   ],
   "source": [
    "#check  dataframe\n",
    "print(df_nasdaq)"
   ]
  },
  {
   "cell_type": "markdown",
   "metadata": {},
   "source": [
    "Drop empty Columns"
   ]
  },
  {
   "cell_type": "code",
   "execution_count": 6,
   "metadata": {},
   "outputs": [],
   "source": [
    "null_open = any(df_nasdaq['Open'].isnull())\n",
    "if null_open:\n",
    "    print(\"Removing null entries from Open Stocks\")\n",
    "    df_nasdaq = df_nasdaq.dropna()  \n",
    "    \n",
    "assert not null_open"
   ]
  },
  {
   "cell_type": "code",
   "execution_count": 7,
   "metadata": {},
   "outputs": [],
   "source": [
    "null_close= any(df_nasdaq['Close'].isnull())\n",
    "if null_close:\n",
    "    print(\"Removing null entries from Close Stocks\")\n",
    "    df_nasdaq = df_nasdaq.dropna()  \n",
    "    \n",
    "assert not null_close"
   ]
  },
  {
   "cell_type": "code",
   "execution_count": 8,
   "metadata": {},
   "outputs": [],
   "source": [
    "null_adjclose= any(df_nasdaq['Adj Close'].isnull())\n",
    "if null_adjclose:\n",
    "    print(\"Removing null entries from Adj Close Stocks\")\n",
    "    df_nasdaq = df_nasdaq.dropna()  \n",
    "    \n",
    "assert not null_adjclose"
   ]
  },
  {
   "cell_type": "code",
   "execution_count": null,
   "metadata": {},
   "outputs": [
    {
     "data": {
      "text/html": [
       "<div>\n",
       "<style scoped>\n",
       "    .dataframe tbody tr th:only-of-type {\n",
       "        vertical-align: middle;\n",
       "    }\n",
       "\n",
       "    .dataframe tbody tr th {\n",
       "        vertical-align: top;\n",
       "    }\n",
       "\n",
       "    .dataframe thead th {\n",
       "        text-align: right;\n",
       "    }\n",
       "</style>\n",
       "<table border=\"1\" class=\"dataframe\">\n",
       "  <thead>\n",
       "    <tr style=\"text-align: right;\">\n",
       "      <th></th>\n",
       "      <th>Open</th>\n",
       "      <th>Close</th>\n",
       "      <th>Adj Close</th>\n",
       "    </tr>\n",
       "  </thead>\n",
       "  <tbody>\n",
       "    <tr>\n",
       "      <th>count</th>\n",
       "      <td>12168.000000</td>\n",
       "      <td>12168.000000</td>\n",
       "      <td>12168.000000</td>\n",
       "    </tr>\n",
       "    <tr>\n",
       "      <th>mean</th>\n",
       "      <td>1633.183298</td>\n",
       "      <td>1632.965611</td>\n",
       "      <td>1632.965611</td>\n",
       "    </tr>\n",
       "    <tr>\n",
       "      <th>std</th>\n",
       "      <td>1807.721775</td>\n",
       "      <td>1807.523459</td>\n",
       "      <td>1807.523459</td>\n",
       "    </tr>\n",
       "    <tr>\n",
       "      <th>min</th>\n",
       "      <td>54.869999</td>\n",
       "      <td>54.869999</td>\n",
       "      <td>54.869999</td>\n",
       "    </tr>\n",
       "    <tr>\n",
       "      <th>25%</th>\n",
       "      <td>237.900002</td>\n",
       "      <td>237.900002</td>\n",
       "      <td>237.900002</td>\n",
       "    </tr>\n",
       "    <tr>\n",
       "      <th>50%</th>\n",
       "      <td>798.429993</td>\n",
       "      <td>799.279999</td>\n",
       "      <td>799.279999</td>\n",
       "    </tr>\n",
       "    <tr>\n",
       "      <th>75%</th>\n",
       "      <td>2388.755005</td>\n",
       "      <td>2380.719910</td>\n",
       "      <td>2380.719910</td>\n",
       "    </tr>\n",
       "    <tr>\n",
       "      <th>max</th>\n",
       "      <td>8150.850098</td>\n",
       "      <td>8164.000000</td>\n",
       "      <td>8164.000000</td>\n",
       "    </tr>\n",
       "  </tbody>\n",
       "</table>\n",
       "</div>"
      ],
      "text/plain": [
       "               Open         Close     Adj Close\n",
       "count  12168.000000  12168.000000  12168.000000\n",
       "mean    1633.183298   1632.965611   1632.965611\n",
       "std     1807.721775   1807.523459   1807.523459\n",
       "min       54.869999     54.869999     54.869999\n",
       "25%      237.900002    237.900002    237.900002\n",
       "50%      798.429993    799.279999    799.279999\n",
       "75%     2388.755005   2380.719910   2380.719910\n",
       "max     8150.850098   8164.000000   8164.000000"
      ]
     },
     "execution_count": 9,
     "metadata": {},
     "output_type": "execute_result"
    }
   ],
   "source": [
    "df_nasdaq.describe()"
   ]
  },
  {
   "cell_type": "code",
   "execution_count": null,
   "metadata": {},
   "outputs": [
    {
     "name": "stdout",
     "output_type": "stream",
     "text": [
      "Index(['1971-02-05', '1971-02-08', '1971-02-09', '1971-02-10', '1971-02-11',\n",
      "       '1971-02-12', '1971-02-16', '1971-02-17', '1971-02-18', '1971-02-19',\n",
      "       ...\n",
      "       '2019-04-22', '2019-04-23', '2019-04-24', '2019-04-25', '2019-04-26',\n",
      "       '2019-04-29', '2019-04-30', '2019-05-01', '2019-05-02', '2019-05-03'],\n",
      "      dtype='object', name='Date', length=12168)\n"
     ]
    }
   ],
   "source": [
    "#setting index as date\n",
    "df_nasdaq.set_index('Date', inplace = True)\n",
    "print(df_nasdaq.index)\n"
   ]
  },
  {
   "cell_type": "code",
   "execution_count": null,
   "metadata": {},
   "outputs": [],
   "source": [
    "plt.figure(figsize=(20, 10))\n",
    "plt.plot(df_nasdaq.index, df_nasdaq['Open'])\n",
    "#df_nasdaq['Open'].plot(figsize=(15, 6))\n",
    "plt.xlabel('Date')\n",
    "plt.ylabel('Stock Price')\n",
    "plt.show()"
   ]
  },
  {
   "cell_type": "code",
   "execution_count": null,
   "metadata": {},
   "outputs": [],
   "source": [
    "plt.figure(figsize=(20, 10))\n",
    "plt.plot(df_nasdaq.index, df_nasdaq['Close'])\n",
    "\n",
    "#df_nasdaq['Open'].plot(figsize=(15, 6))\n",
    "plt.xlabel('Date')\n",
    "plt.ylabel('Stock Price')\n",
    "plt.show()"
   ]
  },
  {
   "cell_type": "code",
   "execution_count": null,
   "metadata": {},
   "outputs": [],
   "source": [
    "plt.figure(figsize=(20, 10))\n",
    "plt.plot(df_nasdaq.index, df_nasdaq['Adj Close'])\n",
    "\n",
    "#df_nasdaq['Open'].plot(figsize=(15, 6))\n",
    "plt.xlabel('Date')\n",
    "plt.ylabel('Stock Price')\n",
    "plt.show()"
   ]
  },
  {
   "cell_type": "code",
   "execution_count": null,
   "metadata": {},
   "outputs": [],
   "source": [
    "autocorrelation_plot(df_nasdaq['Open'])\n"
   ]
  },
  {
   "cell_type": "code",
   "execution_count": null,
   "metadata": {},
   "outputs": [],
   "source": [
    "autocorrelation_plot(df_nasdaq['Close'])"
   ]
  },
  {
   "cell_type": "code",
   "execution_count": null,
   "metadata": {},
   "outputs": [],
   "source": [
    "autocorrelation_plot(df_nasdaq['Adj Close'])"
   ]
  },
  {
   "cell_type": "code",
   "execution_count": null,
   "metadata": {},
   "outputs": [],
   "source": [
    "#code idea from https://www.machinelearningplus.com/time-series/arima-model-time-series-forecasting-python/\n",
    "from statsmodels.tsa.stattools import adfuller\n",
    "from numpy import log\n",
    "result = adfuller(df_nasdaq['Open'].dropna())\n",
    "print('ADF Statistic: %f' % result[0])\n",
    "print('p-value: %f' % result[1])"
   ]
  },
  {
   "cell_type": "code",
   "execution_count": null,
   "metadata": {},
   "outputs": [],
   "source": [
    "#code idea from https://www.machinelearningplus.com/time-series/arima-model-time-series-forecasting-python/\n",
    "import numpy as np, pandas as pd\n",
    "from statsmodels.graphics.tsaplots import plot_acf, plot_pacf\n",
    "import matplotlib.pyplot as plt\n",
    "plt.rcParams.update({'figure.figsize':(15,7), 'figure.dpi':120})\n",
    "\n",
    "fig, axes = plt.subplots(3, 2, sharex=True)\n",
    "axes[0, 0].plot(df_nasdaq['Open']); axes[0, 0].set_title('Original Series')\n",
    "plot_acf(df_nasdaq['Open'], ax=axes[0, 1])\n",
    "\n",
    "# 1st Differencing\n",
    "axes[1, 0].plot(df_nasdaq['Open'].diff()); axes[1, 0].set_title('1st Order Differencing')\n",
    "plot_acf(df_nasdaq['Open'].diff().dropna(), ax=axes[1, 1])\n",
    "\n",
    "plt.show()"
   ]
  },
  {
   "cell_type": "code",
   "execution_count": null,
   "metadata": {},
   "outputs": [],
   "source": [
    "series = Series.df_nasdaq['Open']\n",
    "series.plot()\n",
    "pyplot.show()"
   ]
  },
  {
   "cell_type": "code",
   "execution_count": null,
   "metadata": {},
   "outputs": [],
   "source": [
    "#model = ARIMA(df_nasdaq['Open'], order=(,,), dates=df_nasdaq.index)\n",
    "#model_ARIMA = model.fit()\n",
    "#print(model_ARIMA.summary())"
   ]
  },
  {
   "cell_type": "code",
   "execution_count": null,
   "metadata": {},
   "outputs": [],
   "source": [
    "#residuals = DataFrame(model_ARIMA.resid)\n",
    "#residuals.plot()\n",
    "#pyplot.show()\n",
    "#residuals.plot(kind='kde')\n",
    "#pyplot.show()\n",
    "#print(residuals.describe())"
   ]
  }
 ],
 "metadata": {
  "kernelspec": {
   "display_name": "Python 3",
   "language": "python",
   "name": "python3"
  },
  "language_info": {
   "codemirror_mode": {
    "name": "ipython",
    "version": 3
   },
   "file_extension": ".py",
   "mimetype": "text/x-python",
   "name": "python",
   "nbconvert_exporter": "python",
   "pygments_lexer": "ipython3",
   "version": "3.7.3"
  }
 },
 "nbformat": 4,
 "nbformat_minor": 2
}
