{
 "cells": [
  {
   "cell_type": "markdown",
   "metadata": {},
   "source": [
    "In order to check the effectiveness of our model, we want to now how correlated our data is to gas. To do that we want a dataframe that holds all the data in a pairwise fasion (this means that the data points line up to one another), then we can check how correlated the data is."
   ]
  },
  {
   "cell_type": "code",
   "execution_count": 1,
   "metadata": {},
   "outputs": [],
   "source": [
    "import pandas as pd\n",
    "import numpy as np\n",
    "import scipy as sp\n",
    "import datetime\n",
    "\n",
    "from pytrends.request import TrendReq\n",
    "\n",
    "from pandas.plotting import autocorrelation_plot\n",
    "from statsmodels.graphics.tsaplots import plot_acf, plot_pacf\n",
    "from statsmodels.tsa.arima_model import ARIMA\n",
    "from statsmodels.tsa.stattools import adfuller\n",
    "from scipy.stats.stats import pearsonr\n",
    "\n",
    "import matplotlib.pyplot as plt\n",
    "from graphviz import Digraph\n",
    "from collections import deque\n",
    "from pandas.plotting import register_matplotlib_converters\n",
    "register_matplotlib_converters()"
   ]
  },
  {
   "cell_type": "code",
   "execution_count": 2,
   "metadata": {},
   "outputs": [
    {
     "data": {
      "text/html": [
       "<div>\n",
       "<style scoped>\n",
       "    .dataframe tbody tr th:only-of-type {\n",
       "        vertical-align: middle;\n",
       "    }\n",
       "\n",
       "    .dataframe tbody tr th {\n",
       "        vertical-align: top;\n",
       "    }\n",
       "\n",
       "    .dataframe thead th {\n",
       "        text-align: right;\n",
       "    }\n",
       "</style>\n",
       "<table border=\"1\" class=\"dataframe\">\n",
       "  <thead>\n",
       "    <tr style=\"text-align: right;\">\n",
       "      <th></th>\n",
       "      <th>Gas prices</th>\n",
       "      <th>isPartial</th>\n",
       "    </tr>\n",
       "    <tr>\n",
       "      <th>date</th>\n",
       "      <th></th>\n",
       "      <th></th>\n",
       "    </tr>\n",
       "  </thead>\n",
       "  <tbody>\n",
       "    <tr>\n",
       "      <th>2004-01-01</th>\n",
       "      <td>5</td>\n",
       "      <td>False</td>\n",
       "    </tr>\n",
       "    <tr>\n",
       "      <th>2004-02-01</th>\n",
       "      <td>6</td>\n",
       "      <td>False</td>\n",
       "    </tr>\n",
       "    <tr>\n",
       "      <th>2004-03-01</th>\n",
       "      <td>11</td>\n",
       "      <td>False</td>\n",
       "    </tr>\n",
       "    <tr>\n",
       "      <th>2004-04-01</th>\n",
       "      <td>12</td>\n",
       "      <td>False</td>\n",
       "    </tr>\n",
       "    <tr>\n",
       "      <th>2004-05-01</th>\n",
       "      <td>32</td>\n",
       "      <td>False</td>\n",
       "    </tr>\n",
       "  </tbody>\n",
       "</table>\n",
       "</div>"
      ],
      "text/plain": [
       "            Gas prices isPartial\n",
       "date                            \n",
       "2004-01-01           5     False\n",
       "2004-02-01           6     False\n",
       "2004-03-01          11     False\n",
       "2004-04-01          12     False\n",
       "2004-05-01          32     False"
      ]
     },
     "execution_count": 2,
     "metadata": {},
     "output_type": "execute_result"
    }
   ],
   "source": [
    "pytrends = TrendReq(hl='en-US', tz=360)\n",
    "kw = \"Gas prices\"\n",
    "kw_list = [kw]\n",
    "pytrends.build_payload(kw_list, cat=0, timeframe='all', geo='US', gprop='')\n",
    "\n",
    "# Get the gasoline interest dataframe.\n",
    "interest_df = pytrends.interest_over_time()\n",
    "interest_df.head()"
   ]
  },
  {
   "cell_type": "code",
   "execution_count": 3,
   "metadata": {},
   "outputs": [],
   "source": [
    "df_dji = pd.read_csv(\"data/DJI.csv\") ## Reading DJI\n",
    "df_sp500 = pd.read_csv('data/S&P500.csv')\n",
    "file = pd.ExcelFile(\"data/GAS.xls\")   ## Load the gas prices database\n",
    "df_nas = pd.read_csv('data/NASDAQ.csv')\n",
    "\n",
    "#Column selection\n",
    "df_gas= file.parse('Data 1', header=2, ncolumns=2) # Parse the file, saving as our database\n",
    "df_gas = df_gas[['Date', 'Weekly U.S. All Grades All Formulations Retail Gasoline Prices  (Dollars per Gallon)']]\n",
    "df_gas = df_gas.rename(index=str, columns={\"Weekly U.S. All Grades All Formulations Retail Gasoline Prices  (Dollars per Gallon)\": \"gas_price\"})\n",
    "df_nas = df_nas[['Date', 'Close']]\n",
    "df_interest = interest_df[['Gas prices']]\n",
    "#Stocks\n",
    "df_dji = df_dji[['Date', 'Close']]\n",
    "df_sp500 = df_sp500[['Date', 'Close']]\n",
    "\n",
    "#Dropping NaN values\n",
    "df_gas.dropna(axis=0, inplace=True)\n",
    "df_sp500.dropna(axis=0, inplace=True)\n",
    "df_dji.dropna(axis=0, inplace=True)\n",
    "df_nas.dropna(axis=0, inplace=True)\n",
    "\n",
    "#Converting dates from string to datetime\n",
    "df_dji['Date'] = pd.to_datetime(df_dji.Date)\n",
    "df_sp500['Date'] = pd.to_datetime(df_sp500.Date)\n",
    "df_gas['Date'] = pd.to_datetime(df_gas.Date)\n",
    "df_nas['Date'] = pd.to_datetime(df_nas.Date)\n",
    "\n",
    "#Set indexes\n",
    "df_dji.set_index('Date', inplace = True)\n",
    "df_gas.set_index('Date', inplace = True)\n",
    "df_sp500.set_index('Date', inplace = True)\n",
    "df_nas.set_index('Date', inplace = True)\n",
    "\n",
    "#Rename Columns for our Master/Cross-Correlational Dataframe\n",
    "df_dji = df_dji.rename(columns ={'Close': \"DJI\"})\n",
    "df_sp500 = df_sp500.rename(columns ={'Close': \"SP500\"})\n",
    "df_nas = df_nas.rename(columns ={'Close': \"NASDAQ\"})"
   ]
  },
  {
   "cell_type": "code",
   "execution_count": 4,
   "metadata": {},
   "outputs": [],
   "source": [
    "#Upsampling Google Trends Data\n",
    "upsample = df_interest.resample('D')\n",
    "interpolated = upsample.interpolate(method='linear')\n",
    "df_interest = interpolated"
   ]
  },
  {
   "cell_type": "code",
   "execution_count": 5,
   "metadata": {},
   "outputs": [
    {
     "data": {
      "text/html": [
       "<div>\n",
       "<style scoped>\n",
       "    .dataframe tbody tr th:only-of-type {\n",
       "        vertical-align: middle;\n",
       "    }\n",
       "\n",
       "    .dataframe tbody tr th {\n",
       "        vertical-align: top;\n",
       "    }\n",
       "\n",
       "    .dataframe thead th {\n",
       "        text-align: right;\n",
       "    }\n",
       "</style>\n",
       "<table border=\"1\" class=\"dataframe\">\n",
       "  <thead>\n",
       "    <tr style=\"text-align: right;\">\n",
       "      <th></th>\n",
       "      <th>Gas prices</th>\n",
       "    </tr>\n",
       "    <tr>\n",
       "      <th>date</th>\n",
       "      <th></th>\n",
       "    </tr>\n",
       "  </thead>\n",
       "  <tbody>\n",
       "    <tr>\n",
       "      <th>2004-01-01</th>\n",
       "      <td>5.000000</td>\n",
       "    </tr>\n",
       "    <tr>\n",
       "      <th>2004-01-02</th>\n",
       "      <td>5.032258</td>\n",
       "    </tr>\n",
       "    <tr>\n",
       "      <th>2004-01-03</th>\n",
       "      <td>5.064516</td>\n",
       "    </tr>\n",
       "    <tr>\n",
       "      <th>2004-01-04</th>\n",
       "      <td>5.096774</td>\n",
       "    </tr>\n",
       "    <tr>\n",
       "      <th>2004-01-05</th>\n",
       "      <td>5.129032</td>\n",
       "    </tr>\n",
       "  </tbody>\n",
       "</table>\n",
       "</div>"
      ],
      "text/plain": [
       "            Gas prices\n",
       "date                  \n",
       "2004-01-01    5.000000\n",
       "2004-01-02    5.032258\n",
       "2004-01-03    5.064516\n",
       "2004-01-04    5.096774\n",
       "2004-01-05    5.129032"
      ]
     },
     "execution_count": 5,
     "metadata": {},
     "output_type": "execute_result"
    }
   ],
   "source": [
    "df_interest.head()"
   ]
  },
  {
   "cell_type": "code",
   "execution_count": 6,
   "metadata": {},
   "outputs": [
    {
     "data": {
      "text/html": [
       "<div>\n",
       "<style scoped>\n",
       "    .dataframe tbody tr th:only-of-type {\n",
       "        vertical-align: middle;\n",
       "    }\n",
       "\n",
       "    .dataframe tbody tr th {\n",
       "        vertical-align: top;\n",
       "    }\n",
       "\n",
       "    .dataframe thead th {\n",
       "        text-align: right;\n",
       "    }\n",
       "</style>\n",
       "<table border=\"1\" class=\"dataframe\">\n",
       "  <thead>\n",
       "    <tr style=\"text-align: right;\">\n",
       "      <th></th>\n",
       "      <th>gas_price</th>\n",
       "    </tr>\n",
       "    <tr>\n",
       "      <th>Date</th>\n",
       "      <th></th>\n",
       "    </tr>\n",
       "  </thead>\n",
       "  <tbody>\n",
       "    <tr>\n",
       "      <th>1993-04-05</th>\n",
       "      <td>1.068</td>\n",
       "    </tr>\n",
       "    <tr>\n",
       "      <th>1993-04-12</th>\n",
       "      <td>1.079</td>\n",
       "    </tr>\n",
       "    <tr>\n",
       "      <th>1993-04-19</th>\n",
       "      <td>1.079</td>\n",
       "    </tr>\n",
       "    <tr>\n",
       "      <th>1993-04-26</th>\n",
       "      <td>1.086</td>\n",
       "    </tr>\n",
       "    <tr>\n",
       "      <th>1993-05-03</th>\n",
       "      <td>1.086</td>\n",
       "    </tr>\n",
       "  </tbody>\n",
       "</table>\n",
       "</div>"
      ],
      "text/plain": [
       "            gas_price\n",
       "Date                 \n",
       "1993-04-05      1.068\n",
       "1993-04-12      1.079\n",
       "1993-04-19      1.079\n",
       "1993-04-26      1.086\n",
       "1993-05-03      1.086"
      ]
     },
     "execution_count": 6,
     "metadata": {},
     "output_type": "execute_result"
    }
   ],
   "source": [
    "df_gas.head()"
   ]
  },
  {
   "cell_type": "code",
   "execution_count": 7,
   "metadata": {},
   "outputs": [
    {
     "data": {
      "text/html": [
       "<div>\n",
       "<style scoped>\n",
       "    .dataframe tbody tr th:only-of-type {\n",
       "        vertical-align: middle;\n",
       "    }\n",
       "\n",
       "    .dataframe tbody tr th {\n",
       "        vertical-align: top;\n",
       "    }\n",
       "\n",
       "    .dataframe thead th {\n",
       "        text-align: right;\n",
       "    }\n",
       "</style>\n",
       "<table border=\"1\" class=\"dataframe\">\n",
       "  <thead>\n",
       "    <tr style=\"text-align: right;\">\n",
       "      <th></th>\n",
       "      <th>DJI</th>\n",
       "    </tr>\n",
       "    <tr>\n",
       "      <th>Date</th>\n",
       "      <th></th>\n",
       "    </tr>\n",
       "  </thead>\n",
       "  <tbody>\n",
       "    <tr>\n",
       "      <th>1985-01-29</th>\n",
       "      <td>1292.619995</td>\n",
       "    </tr>\n",
       "    <tr>\n",
       "      <th>1985-01-30</th>\n",
       "      <td>1287.880005</td>\n",
       "    </tr>\n",
       "    <tr>\n",
       "      <th>1985-01-31</th>\n",
       "      <td>1286.770020</td>\n",
       "    </tr>\n",
       "    <tr>\n",
       "      <th>1985-02-01</th>\n",
       "      <td>1277.719971</td>\n",
       "    </tr>\n",
       "    <tr>\n",
       "      <th>1985-02-04</th>\n",
       "      <td>1290.079956</td>\n",
       "    </tr>\n",
       "  </tbody>\n",
       "</table>\n",
       "</div>"
      ],
      "text/plain": [
       "                    DJI\n",
       "Date                   \n",
       "1985-01-29  1292.619995\n",
       "1985-01-30  1287.880005\n",
       "1985-01-31  1286.770020\n",
       "1985-02-01  1277.719971\n",
       "1985-02-04  1290.079956"
      ]
     },
     "execution_count": 7,
     "metadata": {},
     "output_type": "execute_result"
    }
   ],
   "source": [
    "df_dji.head()"
   ]
  },
  {
   "cell_type": "code",
   "execution_count": 8,
   "metadata": {},
   "outputs": [
    {
     "data": {
      "text/html": [
       "<div>\n",
       "<style scoped>\n",
       "    .dataframe tbody tr th:only-of-type {\n",
       "        vertical-align: middle;\n",
       "    }\n",
       "\n",
       "    .dataframe tbody tr th {\n",
       "        vertical-align: top;\n",
       "    }\n",
       "\n",
       "    .dataframe thead th {\n",
       "        text-align: right;\n",
       "    }\n",
       "</style>\n",
       "<table border=\"1\" class=\"dataframe\">\n",
       "  <thead>\n",
       "    <tr style=\"text-align: right;\">\n",
       "      <th></th>\n",
       "      <th>SP500</th>\n",
       "    </tr>\n",
       "    <tr>\n",
       "      <th>Date</th>\n",
       "      <th></th>\n",
       "    </tr>\n",
       "  </thead>\n",
       "  <tbody>\n",
       "    <tr>\n",
       "      <th>1950-01-03</th>\n",
       "      <td>16.66</td>\n",
       "    </tr>\n",
       "    <tr>\n",
       "      <th>1950-01-04</th>\n",
       "      <td>16.85</td>\n",
       "    </tr>\n",
       "    <tr>\n",
       "      <th>1950-01-05</th>\n",
       "      <td>16.93</td>\n",
       "    </tr>\n",
       "    <tr>\n",
       "      <th>1950-01-06</th>\n",
       "      <td>16.98</td>\n",
       "    </tr>\n",
       "    <tr>\n",
       "      <th>1950-01-09</th>\n",
       "      <td>17.08</td>\n",
       "    </tr>\n",
       "  </tbody>\n",
       "</table>\n",
       "</div>"
      ],
      "text/plain": [
       "            SP500\n",
       "Date             \n",
       "1950-01-03  16.66\n",
       "1950-01-04  16.85\n",
       "1950-01-05  16.93\n",
       "1950-01-06  16.98\n",
       "1950-01-09  17.08"
      ]
     },
     "execution_count": 8,
     "metadata": {},
     "output_type": "execute_result"
    }
   ],
   "source": [
    "df_sp500.head()"
   ]
  },
  {
   "cell_type": "code",
   "execution_count": 9,
   "metadata": {},
   "outputs": [
    {
     "data": {
      "text/html": [
       "<div>\n",
       "<style scoped>\n",
       "    .dataframe tbody tr th:only-of-type {\n",
       "        vertical-align: middle;\n",
       "    }\n",
       "\n",
       "    .dataframe tbody tr th {\n",
       "        vertical-align: top;\n",
       "    }\n",
       "\n",
       "    .dataframe thead th {\n",
       "        text-align: right;\n",
       "    }\n",
       "</style>\n",
       "<table border=\"1\" class=\"dataframe\">\n",
       "  <thead>\n",
       "    <tr style=\"text-align: right;\">\n",
       "      <th></th>\n",
       "      <th>NASDAQ</th>\n",
       "    </tr>\n",
       "    <tr>\n",
       "      <th>Date</th>\n",
       "      <th></th>\n",
       "    </tr>\n",
       "  </thead>\n",
       "  <tbody>\n",
       "    <tr>\n",
       "      <th>1971-02-05</th>\n",
       "      <td>100.000000</td>\n",
       "    </tr>\n",
       "    <tr>\n",
       "      <th>1971-02-08</th>\n",
       "      <td>100.839996</td>\n",
       "    </tr>\n",
       "    <tr>\n",
       "      <th>1971-02-09</th>\n",
       "      <td>100.760002</td>\n",
       "    </tr>\n",
       "    <tr>\n",
       "      <th>1971-02-10</th>\n",
       "      <td>100.690002</td>\n",
       "    </tr>\n",
       "    <tr>\n",
       "      <th>1971-02-11</th>\n",
       "      <td>101.449997</td>\n",
       "    </tr>\n",
       "  </tbody>\n",
       "</table>\n",
       "</div>"
      ],
      "text/plain": [
       "                NASDAQ\n",
       "Date                  \n",
       "1971-02-05  100.000000\n",
       "1971-02-08  100.839996\n",
       "1971-02-09  100.760002\n",
       "1971-02-10  100.690002\n",
       "1971-02-11  101.449997"
      ]
     },
     "execution_count": 9,
     "metadata": {},
     "output_type": "execute_result"
    }
   ],
   "source": [
    "df_nas.head()"
   ]
  },
  {
   "cell_type": "markdown",
   "metadata": {},
   "source": [
    "We can now combine these dataframes into one to get how correlated they are. So we want to join the dataframes on their dates so that they line up to do a pairwise comparision. Then we want to drop any null values so that they are do not affect the analysis."
   ]
  },
  {
   "cell_type": "code",
   "execution_count": 10,
   "metadata": {},
   "outputs": [
    {
     "data": {
      "text/html": [
       "<div>\n",
       "<style scoped>\n",
       "    .dataframe tbody tr th:only-of-type {\n",
       "        vertical-align: middle;\n",
       "    }\n",
       "\n",
       "    .dataframe tbody tr th {\n",
       "        vertical-align: top;\n",
       "    }\n",
       "\n",
       "    .dataframe thead th {\n",
       "        text-align: right;\n",
       "    }\n",
       "</style>\n",
       "<table border=\"1\" class=\"dataframe\">\n",
       "  <thead>\n",
       "    <tr style=\"text-align: right;\">\n",
       "      <th></th>\n",
       "      <th>Gas</th>\n",
       "      <th>Dow Jones</th>\n",
       "      <th>S&amp;P 500</th>\n",
       "      <th>NASDAQ</th>\n",
       "    </tr>\n",
       "    <tr>\n",
       "      <th>Date</th>\n",
       "      <th></th>\n",
       "      <th></th>\n",
       "      <th></th>\n",
       "      <th></th>\n",
       "    </tr>\n",
       "  </thead>\n",
       "  <tbody>\n",
       "    <tr>\n",
       "      <th>1993-04-05</th>\n",
       "      <td>1.068</td>\n",
       "      <td>3379.189941</td>\n",
       "      <td>442.290009</td>\n",
       "      <td>670.710022</td>\n",
       "    </tr>\n",
       "    <tr>\n",
       "      <th>1993-04-12</th>\n",
       "      <td>1.079</td>\n",
       "      <td>3428.090088</td>\n",
       "      <td>448.369995</td>\n",
       "      <td>673.119995</td>\n",
       "    </tr>\n",
       "    <tr>\n",
       "      <th>1993-04-19</th>\n",
       "      <td>1.079</td>\n",
       "      <td>3466.989990</td>\n",
       "      <td>447.459991</td>\n",
       "      <td>663.030029</td>\n",
       "    </tr>\n",
       "    <tr>\n",
       "      <th>1993-04-26</th>\n",
       "      <td>1.086</td>\n",
       "      <td>3398.370117</td>\n",
       "      <td>433.540009</td>\n",
       "      <td>645.869995</td>\n",
       "    </tr>\n",
       "    <tr>\n",
       "      <th>1993-05-03</th>\n",
       "      <td>1.086</td>\n",
       "      <td>3446.459961</td>\n",
       "      <td>442.459991</td>\n",
       "      <td>666.710022</td>\n",
       "    </tr>\n",
       "    <tr>\n",
       "      <th>1993-05-10</th>\n",
       "      <td>1.097</td>\n",
       "      <td>3443.280029</td>\n",
       "      <td>442.799988</td>\n",
       "      <td>682.820007</td>\n",
       "    </tr>\n",
       "    <tr>\n",
       "      <th>1993-05-17</th>\n",
       "      <td>1.106</td>\n",
       "      <td>3449.929932</td>\n",
       "      <td>440.369995</td>\n",
       "      <td>677.960022</td>\n",
       "    </tr>\n",
       "    <tr>\n",
       "      <th>1993-05-24</th>\n",
       "      <td>1.106</td>\n",
       "      <td>3507.780029</td>\n",
       "      <td>448.000000</td>\n",
       "      <td>694.690002</td>\n",
       "    </tr>\n",
       "    <tr>\n",
       "      <th>1993-06-07</th>\n",
       "      <td>1.104</td>\n",
       "      <td>3532.129883</td>\n",
       "      <td>447.690002</td>\n",
       "      <td>694.609985</td>\n",
       "    </tr>\n",
       "    <tr>\n",
       "      <th>1993-06-14</th>\n",
       "      <td>1.101</td>\n",
       "      <td>3514.689941</td>\n",
       "      <td>447.709991</td>\n",
       "      <td>696.409973</td>\n",
       "    </tr>\n",
       "  </tbody>\n",
       "</table>\n",
       "</div>"
      ],
      "text/plain": [
       "              Gas    Dow Jones     S&P 500      NASDAQ\n",
       "Date                                                  \n",
       "1993-04-05  1.068  3379.189941  442.290009  670.710022\n",
       "1993-04-12  1.079  3428.090088  448.369995  673.119995\n",
       "1993-04-19  1.079  3466.989990  447.459991  663.030029\n",
       "1993-04-26  1.086  3398.370117  433.540009  645.869995\n",
       "1993-05-03  1.086  3446.459961  442.459991  666.710022\n",
       "1993-05-10  1.097  3443.280029  442.799988  682.820007\n",
       "1993-05-17  1.106  3449.929932  440.369995  677.960022\n",
       "1993-05-24  1.106  3507.780029  448.000000  694.690002\n",
       "1993-06-07  1.104  3532.129883  447.690002  694.609985\n",
       "1993-06-14  1.101  3514.689941  447.709991  696.409973"
      ]
     },
     "execution_count": 10,
     "metadata": {},
     "output_type": "execute_result"
    }
   ],
   "source": [
    "df_corr = pd.concat([df_gas, df_dji, df_sp500, df_nas], axis=1, join_axes=[df_gas.index])\n",
    "df_corr = df_corr.rename(columns={\"gas_price\": \"Gas\", \"DJI\": \"Dow Jones\", \"SP500\": \"S&P 500\"})\n",
    "df_corr.dropna(axis=0, inplace = True)   #Drop null values\n",
    "df_corr.head(10)"
   ]
  },
  {
   "cell_type": "code",
   "execution_count": 11,
   "metadata": {},
   "outputs": [
    {
     "data": {
      "text/plain": [
       "800"
      ]
     },
     "execution_count": 11,
     "metadata": {},
     "output_type": "execute_result"
    }
   ],
   "source": [
    "##This is necessary because the indexes of Google Trends are not similar to that of the stock data, as the data begins in 2004.\n",
    "df_corr_trends = pd.concat([df_gas, df_interest], axis=1, join_axes=[df_gas.index])\n",
    "df_corr_trends = df_corr_trends.rename(columns={\"gas_price\": \"Gas\",\"Gas prices\": \"Google Trends\"})\n",
    "df_corr_trends.dropna(axis=0, inplace = True)   #Drop null values\n",
    "len(df_corr_trends)"
   ]
  },
  {
   "cell_type": "code",
   "execution_count": 12,
   "metadata": {},
   "outputs": [
    {
     "name": "stdout",
     "output_type": "stream",
     "text": [
      "(1235,) (1235,) (1235,) (1235,) (800,) (800,)\n"
     ]
    }
   ],
   "source": [
    "## Create 1D numpy arrays from dataframe columns\n",
    "dji_array = df_corr['Dow Jones'].values\n",
    "SP500_array = df_corr['S&P 500'].values\n",
    "NASDAQ_array = df_corr['NASDAQ'].values\n",
    "gas_array = df_corr['Gas'].values\n",
    "gas_trends_array = df_corr_trends['Gas'].values\n",
    "trends_array = df_corr_trends['Google Trends'].values\n",
    "print(dji_array.shape, SP500_array.shape, NASDAQ_array.shape, gas_array.shape, gas_trends_array.shape, trends_array.shape)"
   ]
  },
  {
   "cell_type": "code",
   "execution_count": 13,
   "metadata": {},
   "outputs": [],
   "source": [
    "rhos_dji = []\n",
    "pvals_dji = []\n",
    "rhos_sp500 = []\n",
    "pvals_sp500 = []\n",
    "rhos_nasdaq = []\n",
    "pvals_nasdaq = []\n",
    "rhos_trends = []\n",
    "pvals_trends = []\n",
    "\n",
    "for lag in range(-20, 20):\n",
    "    rho, pval = sp.stats.spearmanr(dji_array, pd.Series(gas_array).shift(lag).fillna(0))\n",
    "    rhos_dji.append(rho)\n",
    "    pvals_dji.append(pval)\n",
    "    rho, pval = sp.stats.spearmanr(SP500_array, pd.Series(gas_array).shift(lag).fillna(0))\n",
    "    rhos_sp500.append(rho)\n",
    "    pvals_sp500.append(pval)\n",
    "    rho, pval = sp.stats.spearmanr(NASDAQ_array, pd.Series(gas_array).shift(lag).fillna(0))\n",
    "    rhos_nasdaq.append(rho)\n",
    "    pvals_nasdaq.append(pval)\n",
    "    rho, pval = sp.stats.spearmanr(trends_array, pd.Series(gas_trends_array).shift(lag).fillna(0))\n",
    "    rhos_trends.append(rho)\n",
    "    pvals_trends.append(pval)\n"
   ]
  },
  {
   "cell_type": "markdown",
   "metadata": {},
   "source": [
    "## Cross Correlation"
   ]
  },
  {
   "cell_type": "markdown",
   "metadata": {},
   "source": [
    "We plotted the cross-correlation between all stock data and google trends data to gas prices. The cross-correlation is roughly normally distributed."
   ]
  },
  {
   "cell_type": "code",
   "execution_count": 14,
   "metadata": {},
   "outputs": [
    {
     "data": {
      "image/png": "[encoded data removed]",
      "text/plain": [
       "<Figure size 432x288 with 1 Axes>"
      ]
     },
     "metadata": {
      "needs_background": "light"
     },
     "output_type": "display_data"
    }
   ],
   "source": [
    "plt.plot(np.arange(-20, 20), rhos_dji, color = 'r')\n",
    "plt.xlabel(\"Lag\")\n",
    "plt.ylabel(\"Correlation\")\n",
    "plt.title('DJI to Gas')\n",
    "plt.show()"
   ]
  },
  {
   "cell_type": "code",
   "execution_count": 15,
   "metadata": {},
   "outputs": [
    {
     "data": {
      "image/png": "[encoded data removed]",
      "text/plain": [
       "<Figure size 432x288 with 1 Axes>"
      ]
     },
     "metadata": {
      "needs_background": "light"
     },
     "output_type": "display_data"
    }
   ],
   "source": [
    "plt.plot(np.arange(-20, 20), pvals_dji, color = 'r')\n",
    "plt.xlabel(\"Lag\")\n",
    "plt.ylabel(\"p-value\")\n",
    "plt.title('DJI to Gas')\n",
    "plt.show()"
   ]
  },
  {
   "cell_type": "code",
   "execution_count": 16,
   "metadata": {},
   "outputs": [
    {
     "name": "stdout",
     "output_type": "stream",
     "text": [
      "lowest p-val:  2.5891188260250825e-223\n",
      "lag value:  0\n"
     ]
    }
   ],
   "source": [
    "print('lowest p-val: ', min(pvals_dji))\n",
    "print('lag value: ', pvals_dji.index(min(pvals_dji)) - 20)"
   ]
  },
  {
   "cell_type": "code",
   "execution_count": 17,
   "metadata": {},
   "outputs": [
    {
     "data": {
      "text/plain": [
       "0.7497067871211748"
      ]
     },
     "execution_count": 17,
     "metadata": {},
     "output_type": "execute_result"
    }
   ],
   "source": [
    "rhos_dji[pvals_dji.index(min(pvals_dji))]"
   ]
  },
  {
   "cell_type": "markdown",
   "metadata": {},
   "source": [
    "We see that the lowest p-value, which is below 0.05, is at lag 0 with a r value of about 0.750"
   ]
  },
  {
   "cell_type": "code",
   "execution_count": 18,
   "metadata": {},
   "outputs": [
    {
     "data": {
      "image/png": "[encoded data removed]",
      "text/plain": [
       "<Figure size 432x288 with 1 Axes>"
      ]
     },
     "metadata": {
      "needs_background": "light"
     },
     "output_type": "display_data"
    }
   ],
   "source": [
    "plt.plot(np.arange(-20, 20), rhos_nasdaq, color = 'g')\n",
    "plt.xlabel(\"Lag\")\n",
    "plt.ylabel(\"Correlation\")\n",
    "plt.title('NASDAQ to Gas')\n",
    "plt.show()"
   ]
  },
  {
   "cell_type": "code",
   "execution_count": 19,
   "metadata": {},
   "outputs": [
    {
     "data": {
      "image/png": "[encoded data removed]",
      "text/plain": [
       "<Figure size 432x288 with 1 Axes>"
      ]
     },
     "metadata": {
      "needs_background": "light"
     },
     "output_type": "display_data"
    }
   ],
   "source": [
    "plt.plot(np.arange(-20, 20), pvals_nasdaq, color = 'g')\n",
    "plt.xlabel(\"Lag\")\n",
    "plt.ylabel(\"p-values\")\n",
    "plt.title('NASDAQ to Gas')\n",
    "plt.show()"
   ]
  },
  {
   "cell_type": "code",
   "execution_count": 20,
   "metadata": {},
   "outputs": [
    {
     "name": "stdout",
     "output_type": "stream",
     "text": [
      "lowest p-val:  7.724219731446547e-157\n",
      "lag value:  0\n"
     ]
    }
   ],
   "source": [
    "print('lowest p-val: ', min(pvals_nasdaq))\n",
    "print('lag value: ', pvals_nasdaq.index(min(pvals_nasdaq)) - 20)"
   ]
  },
  {
   "cell_type": "code",
   "execution_count": 21,
   "metadata": {},
   "outputs": [
    {
     "data": {
      "text/plain": [
       "0.7497067871211748"
      ]
     },
     "execution_count": 21,
     "metadata": {},
     "output_type": "execute_result"
    }
   ],
   "source": [
    "rhos_dji[pvals_nasdaq.index(min(pvals_nasdaq))]"
   ]
  },
  {
   "cell_type": "markdown",
   "metadata": {},
   "source": [
    "We see that the lowest p-value, which is below 0.05, is at lag 0 with a r value of about 0.750"
   ]
  },
  {
   "cell_type": "code",
   "execution_count": 22,
   "metadata": {},
   "outputs": [
    {
     "data": {
      "image/png": "[encoded data removed]",
      "text/plain": [
       "<Figure size 432x288 with 1 Axes>"
      ]
     },
     "metadata": {
      "needs_background": "light"
     },
     "output_type": "display_data"
    }
   ],
   "source": [
    "plt.plot(np.arange(-20, 20), rhos_sp500)\n",
    "plt.xlabel(\"Lag\")\n",
    "plt.ylabel(\"Correlation\")\n",
    "plt.title('S&P 500 to Gas')\n",
    "plt.show()"
   ]
  },
  {
   "cell_type": "code",
   "execution_count": 23,
   "metadata": {},
   "outputs": [
    {
     "data": {
      "image/png": "[encoded data removed]",
      "text/plain": [
       "<Figure size 432x288 with 1 Axes>"
      ]
     },
     "metadata": {
      "needs_background": "light"
     },
     "output_type": "display_data"
    }
   ],
   "source": [
    "plt.plot(np.arange(-20, 20), pvals_sp500)\n",
    "plt.xlabel(\"Lag\")\n",
    "plt.ylabel(\"p-values\")\n",
    "plt.title('S&P 500 to Gas')\n",
    "plt.show()"
   ]
  },
  {
   "cell_type": "code",
   "execution_count": 24,
   "metadata": {},
   "outputs": [
    {
     "name": "stdout",
     "output_type": "stream",
     "text": [
      "lowest p-val:  6.66048581929013e-145\n",
      "lag value:  0\n"
     ]
    }
   ],
   "source": [
    "print('lowest p-val: ', min(pvals_sp500))\n",
    "print('lag value: ', pvals_sp500.index(min(pvals_sp500)) - 20)"
   ]
  },
  {
   "cell_type": "code",
   "execution_count": 25,
   "metadata": {},
   "outputs": [
    {
     "data": {
      "text/plain": [
       "0.7497067871211748"
      ]
     },
     "execution_count": 25,
     "metadata": {},
     "output_type": "execute_result"
    }
   ],
   "source": [
    "rhos_dji[pvals_sp500.index(min(pvals_sp500))]"
   ]
  },
  {
   "cell_type": "markdown",
   "metadata": {},
   "source": [
    "We see that the lowest p-value, which is below 0.05, is at lag 0 with a r value of about 0.750"
   ]
  },
  {
   "cell_type": "code",
   "execution_count": 26,
   "metadata": {},
   "outputs": [
    {
     "data": {
      "image/png": "[encoded data removed]",
      "text/plain": [
       "<Figure size 432x288 with 1 Axes>"
      ]
     },
     "metadata": {
      "needs_background": "light"
     },
     "output_type": "display_data"
    }
   ],
   "source": [
    "plt.plot(np.arange(-20, 20), rhos_trends)\n",
    "plt.xlabel(\"Lag\")\n",
    "plt.ylabel(\"Correlation\")\n",
    "plt.title('Trends to Gas')\n",
    "plt.show()"
   ]
  },
  {
   "cell_type": "code",
   "execution_count": 27,
   "metadata": {},
   "outputs": [
    {
     "data": {
      "image/png": "[encoded data removed]",
      "text/plain": [
       "<Figure size 432x288 with 1 Axes>"
      ]
     },
     "metadata": {
      "needs_background": "light"
     },
     "output_type": "display_data"
    }
   ],
   "source": [
    "plt.plot(np.arange(-20, 20), pvals_trends)\n",
    "plt.xlabel(\"Lag\")\n",
    "plt.ylabel(\"Correlation\")\n",
    "plt.title('Trends to Gas')\n",
    "plt.show()"
   ]
  },
  {
   "cell_type": "code",
   "execution_count": 28,
   "metadata": {},
   "outputs": [
    {
     "name": "stdout",
     "output_type": "stream",
     "text": [
      "lowest p-val:  7.923430840060157e-29\n",
      "lag value:  0\n"
     ]
    }
   ],
   "source": [
    "print('lowest p-val: ', min(pvals_trends))\n",
    "print('lag value: ', pvals_trends.index(min(pvals_trends)) - 20)"
   ]
  },
  {
   "cell_type": "code",
   "execution_count": 29,
   "metadata": {},
   "outputs": [
    {
     "data": {
      "text/plain": [
       "0.7497067871211748"
      ]
     },
     "execution_count": 29,
     "metadata": {},
     "output_type": "execute_result"
    }
   ],
   "source": [
    "rhos_dji[pvals_trends.index(min(pvals_trends))]"
   ]
  },
  {
   "cell_type": "markdown",
   "metadata": {},
   "source": [
    "We see that the lowest p-value, which is below 0.05, is at lag 0 with a r value of about 0.750"
   ]
  },
  {
   "cell_type": "markdown",
   "metadata": {},
   "source": [
    "# Differencing the Data"
   ]
  },
  {
   "cell_type": "markdown",
   "metadata": {},
   "source": [
    "Now we will difference the data to get our time-series to be stationary. This allows us to make more conclusive statements about the correlation of our data."
   ]
  },
  {
   "cell_type": "code",
   "execution_count": 30,
   "metadata": {},
   "outputs": [],
   "source": [
    "## Difference the data to get a stationary time series\n",
    "dji_array = pd.Series(np.diff(dji_array))\n",
    "SP500_array = pd.Series(np.diff(SP500_array))\n",
    "NASDAQ_array = pd.Series(np.diff(NASDAQ_array))\n",
    "gas_array = pd.Series(np.diff(gas_array))\n",
    "gas_trends_array = pd.Series(np.diff(gas_trends_array))\n",
    "trends_array = pd.Series(np.diff(trends_array))"
   ]
  },
  {
   "cell_type": "code",
   "execution_count": 31,
   "metadata": {},
   "outputs": [
    {
     "data": {
      "text/plain": [
       "(array([  1.,   0.,   0.,   0.,   1.,   1.,   0.,   0.,   0.,   1.,   1.,\n",
       "          1.,   1.,   1.,   1.,   0.,   1.,   4.,   4.,   7.,   7.,  19.,\n",
       "         13.,  35.,  37.,  49.,  78., 121., 199., 186., 146., 102.,  79.,\n",
       "         49.,  30.,  16.,  15.,   8.,   6.,   5.,   0.,   2.,   1.,   2.,\n",
       "          2.,   1.,   0.,   0.,   0.,   1.]),\n",
       " array([-2093.730469  , -2021.15062524, -1948.57078148, -1875.99093772,\n",
       "        -1803.41109396, -1730.8312502 , -1658.25140644, -1585.67156268,\n",
       "        -1513.09171892, -1440.51187516, -1367.9320314 , -1295.35218764,\n",
       "        -1222.77234388, -1150.19250012, -1077.61265636, -1005.0328126 ,\n",
       "         -932.45296884,  -859.87312508,  -787.29328132,  -714.71343756,\n",
       "         -642.1335938 ,  -569.55375004,  -496.97390628,  -424.39406252,\n",
       "         -351.81421876,  -279.234375  ,  -206.65453124,  -134.07468748,\n",
       "          -61.49484372,    11.08500004,    83.6648438 ,   156.24468756,\n",
       "          228.82453132,   301.40437508,   373.98421884,   446.5640626 ,\n",
       "          519.14390636,   591.72375012,   664.30359388,   736.88343764,\n",
       "          809.4632814 ,   882.04312516,   954.62296892,  1027.20281268,\n",
       "         1099.78265644,  1172.3625002 ,  1244.94234396,  1317.52218772,\n",
       "         1390.10203148,  1462.68187524,  1535.261719  ]),\n",
       " <a list of 50 Patch objects>)"
      ]
     },
     "execution_count": 31,
     "metadata": {},
     "output_type": "execute_result"
    },
    {
     "data": {
      "image/png": "[encoded data removed]",
      "text/plain": [
       "<Figure size 432x288 with 1 Axes>"
      ]
     },
     "metadata": {
      "needs_background": "light"
     },
     "output_type": "display_data"
    }
   ],
   "source": [
    "plt.hist(dji_array, 50)"
   ]
  },
  {
   "cell_type": "markdown",
   "metadata": {},
   "source": [
    "From this histogram, we get a sense that our differenced data is normal, so we preform a normal test on all of the data."
   ]
  },
  {
   "cell_type": "code",
   "execution_count": 32,
   "metadata": {},
   "outputs": [
    {
     "data": {
      "text/plain": [
       "NormaltestResult(statistic=272.8158024237274, pvalue=5.738537390124612e-60)"
      ]
     },
     "execution_count": 32,
     "metadata": {},
     "output_type": "execute_result"
    }
   ],
   "source": [
    "sp.stats.normaltest(dji_array)"
   ]
  },
  {
   "cell_type": "code",
   "execution_count": 33,
   "metadata": {},
   "outputs": [
    {
     "data": {
      "text/plain": [
       "NormaltestResult(statistic=260.7581491640872, pvalue=2.3827986938557102e-57)"
      ]
     },
     "execution_count": 33,
     "metadata": {},
     "output_type": "execute_result"
    }
   ],
   "source": [
    "sp.stats.normaltest(SP500_array)"
   ]
  },
  {
   "cell_type": "code",
   "execution_count": 34,
   "metadata": {},
   "outputs": [
    {
     "data": {
      "text/plain": [
       "NormaltestResult(statistic=310.428169105586, pvalue=3.902829374731649e-68)"
      ]
     },
     "execution_count": 34,
     "metadata": {},
     "output_type": "execute_result"
    }
   ],
   "source": [
    "sp.stats.normaltest(NASDAQ_array)"
   ]
  },
  {
   "cell_type": "code",
   "execution_count": 35,
   "metadata": {},
   "outputs": [
    {
     "data": {
      "text/plain": [
       "NormaltestResult(statistic=404.39289330643464, pvalue=1.5388594578611974e-88)"
      ]
     },
     "execution_count": 35,
     "metadata": {},
     "output_type": "execute_result"
    }
   ],
   "source": [
    "sp.stats.normaltest(trends_array)"
   ]
  },
  {
   "cell_type": "code",
   "execution_count": 36,
   "metadata": {},
   "outputs": [
    {
     "data": {
      "text/plain": [
       "NormaltestResult(statistic=184.9640057665356, pvalue=6.848200585299463e-41)"
      ]
     },
     "execution_count": 36,
     "metadata": {},
     "output_type": "execute_result"
    }
   ],
   "source": [
    "sp.stats.normaltest(gas_array)"
   ]
  },
  {
   "cell_type": "markdown",
   "metadata": {},
   "source": [
    "After all the normal tests, all the p-values were below 0.05 which tells us the data is normal and allows us to use a Pearson r test to see how correlated the data is."
   ]
  },
  {
   "cell_type": "code",
   "execution_count": 37,
   "metadata": {},
   "outputs": [
    {
     "data": {
      "text/plain": [
       "(0.06461078087209882, 0.023223308374918452)"
      ]
     },
     "execution_count": 37,
     "metadata": {},
     "output_type": "execute_result"
    }
   ],
   "source": [
    "pearsonr(dji_array, gas_array)"
   ]
  },
  {
   "cell_type": "markdown",
   "metadata": {},
   "source": [
    "With a p-value of 0.023 we can say that there is a significant correlation between Dow Jones and gas prices."
   ]
  },
  {
   "cell_type": "code",
   "execution_count": 38,
   "metadata": {},
   "outputs": [
    {
     "data": {
      "text/plain": [
       "(0.0774887103703707, 0.006461642603914174)"
      ]
     },
     "execution_count": 38,
     "metadata": {},
     "output_type": "execute_result"
    }
   ],
   "source": [
    "pearsonr(NASDAQ_array, gas_array)"
   ]
  },
  {
   "cell_type": "markdown",
   "metadata": {},
   "source": [
    "With a p-value of 0.006 we can say that there is a significant correlation between NASDAQ and gas prices."
   ]
  },
  {
   "cell_type": "code",
   "execution_count": 39,
   "metadata": {},
   "outputs": [
    {
     "data": {
      "text/plain": [
       "(0.08056019206944987, 0.00463040281513926)"
      ]
     },
     "execution_count": 39,
     "metadata": {},
     "output_type": "execute_result"
    }
   ],
   "source": [
    "pearsonr(SP500_array, gas_array)"
   ]
  },
  {
   "cell_type": "markdown",
   "metadata": {},
   "source": [
    "With a p-value of 0.005 we can say that there is a significant correlation between SP500 and gas prices."
   ]
  },
  {
   "cell_type": "code",
   "execution_count": 40,
   "metadata": {},
   "outputs": [
    {
     "data": {
      "text/plain": [
       "(0.1488438623031221, 2.397129293005318e-05)"
      ]
     },
     "execution_count": 40,
     "metadata": {},
     "output_type": "execute_result"
    }
   ],
   "source": [
    "pearsonr(trends_array, gas_trends_array)"
   ]
  },
  {
   "cell_type": "markdown",
   "metadata": {},
   "source": [
    "With a p-value of 0.000 we can say that there is a significant correlation between Google Trends data and gas prices."
   ]
  }
 ],
 "metadata": {
  "kernelspec": {
   "display_name": "Python 3",
   "language": "python",
   "name": "python3"
  },
  "language_info": {
   "codemirror_mode": {
    "name": "ipython",
    "version": 3
   },
   "file_extension": ".py",
   "mimetype": "text/x-python",
   "name": "python",
   "nbconvert_exporter": "python",
   "pygments_lexer": "ipython3",
   "version": "3.7.1"
  }
 },
 "nbformat": 4,
 "nbformat_minor": 2
}
