{
 "cells": [
  {
   "cell_type": "markdown",
   "metadata": {},
   "source": [
    "In order to check the effectiveness of our model, we want to now how correlated our data is to gas. To do that we want a dataframe that holds all the data in a pairwise fasion (this means that the data points line up to one another), then we can check how correlated the data is."
   ]
  },
  {
   "cell_type": "code",
   "execution_count": 1,
   "metadata": {},
   "outputs": [],
   "source": [
    "import pandas as pd\n",
    "import numpy as np\n",
    "import scipy as sp\n",
    "import datetime\n",
    "\n",
    "from pytrends.request import TrendReq\n",
    "\n",
    "from pandas.plotting import autocorrelation_plot\n",
    "from statsmodels.graphics.tsaplots import plot_acf, plot_pacf\n",
    "from statsmodels.tsa.arima_model import ARIMA\n",
    "from statsmodels.tsa.stattools import adfuller\n",
    "\n",
    "import matplotlib.pyplot as plt\n",
    "from graphviz import Digraph\n",
    "from collections import deque\n",
    "from pandas.plotting import register_matplotlib_converters\n",
    "register_matplotlib_converters()"
   ]
  },
  {
   "cell_type": "code",
   "execution_count": 2,
   "metadata": {},
   "outputs": [
    {
     "data": {
      "text/html": [
       "<div>\n",
       "<style scoped>\n",
       "    .dataframe tbody tr th:only-of-type {\n",
       "        vertical-align: middle;\n",
       "    }\n",
       "\n",
       "    .dataframe tbody tr th {\n",
       "        vertical-align: top;\n",
       "    }\n",
       "\n",
       "    .dataframe thead th {\n",
       "        text-align: right;\n",
       "    }\n",
       "</style>\n",
       "<table border=\"1\" class=\"dataframe\">\n",
       "  <thead>\n",
       "    <tr style=\"text-align: right;\">\n",
       "      <th></th>\n",
       "      <th>Gas prices</th>\n",
       "      <th>isPartial</th>\n",
       "    </tr>\n",
       "    <tr>\n",
       "      <th>date</th>\n",
       "      <th></th>\n",
       "      <th></th>\n",
       "    </tr>\n",
       "  </thead>\n",
       "  <tbody>\n",
       "    <tr>\n",
       "      <th>2004-01-01</th>\n",
       "      <td>5</td>\n",
       "      <td>False</td>\n",
       "    </tr>\n",
       "    <tr>\n",
       "      <th>2004-02-01</th>\n",
       "      <td>6</td>\n",
       "      <td>False</td>\n",
       "    </tr>\n",
       "    <tr>\n",
       "      <th>2004-03-01</th>\n",
       "      <td>11</td>\n",
       "      <td>False</td>\n",
       "    </tr>\n",
       "    <tr>\n",
       "      <th>2004-04-01</th>\n",
       "      <td>10</td>\n",
       "      <td>False</td>\n",
       "    </tr>\n",
       "    <tr>\n",
       "      <th>2004-05-01</th>\n",
       "      <td>33</td>\n",
       "      <td>False</td>\n",
       "    </tr>\n",
       "  </tbody>\n",
       "</table>\n",
       "</div>"
      ],
      "text/plain": [
       "            Gas prices isPartial\n",
       "date                            \n",
       "2004-01-01           5     False\n",
       "2004-02-01           6     False\n",
       "2004-03-01          11     False\n",
       "2004-04-01          10     False\n",
       "2004-05-01          33     False"
      ]
     },
     "execution_count": 2,
     "metadata": {},
     "output_type": "execute_result"
    }
   ],
   "source": [
    "pytrends = TrendReq(hl='en-US', tz=360)\n",
    "kw = \"Gas prices\"\n",
    "kw_list = [kw]\n",
    "pytrends.build_payload(kw_list, cat=0, timeframe='all', geo='US', gprop='')\n",
    "\n",
    "# Get the gasoline interest dataframe.\n",
    "interest_df = pytrends.interest_over_time()\n",
    "interest_df.head()\n"
   ]
  },
  {
   "cell_type": "code",
   "execution_count": 3,
   "metadata": {},
   "outputs": [],
   "source": [
    "df_dji = pd.read_csv(\"data/DJI.csv\") ## Reading DJI\n",
    "df_sp500 = pd.read_csv('data/S&P500.csv')\n",
    "file = pd.ExcelFile(\"data/GAS.xls\")   ## Load the gas prices database\n",
    "df_nas = pd.read_csv('data/NASDAQ.csv')\n",
    "\n",
    "#Column selection\n",
    "df_gas= file.parse('Data 1', header=2, ncolumns=2) # Parse the file, saving as our database\n",
    "df_gas = df_gas[['Date', 'Weekly U.S. All Grades All Formulations Retail Gasoline Prices  (Dollars per Gallon)']]\n",
    "df_gas = df_gas.rename(index=str, columns={\"Weekly U.S. All Grades All Formulations Retail Gasoline Prices  (Dollars per Gallon)\": \"gas_price\"})\n",
    "df_nas = df_nas[['Date', 'Close']]\n",
    "df_interest = interest_df[['Gas prices']]\n",
    "#Stocks\n",
    "df_dji = df_dji[['Date', 'Close']]\n",
    "df_sp500 = df_sp500[['Date', 'Close']]\n",
    "\n",
    "#Dropping NaN values\n",
    "df_gas.dropna(axis=0, inplace=True)\n",
    "df_sp500.dropna(axis=0, inplace=True)\n",
    "df_dji.dropna(axis=0, inplace=True)\n",
    "df_nas.dropna(axis=0, inplace=True)\n",
    "\n",
    "#Converting dates from string to datetime\n",
    "df_dji['Date'] = pd.to_datetime(df_dji.Date)\n",
    "df_sp500['Date'] = pd.to_datetime(df_sp500.Date)\n",
    "df_gas['Date'] = pd.to_datetime(df_gas.Date)\n",
    "df_nas['Date'] = pd.to_datetime(df_nas.Date)\n",
    "\n",
    "#Set indexes\n",
    "df_dji.set_index('Date', inplace = True)\n",
    "df_gas.set_index('Date', inplace = True)\n",
    "df_sp500.set_index('Date', inplace = True)\n",
    "df_nas.set_index('Date', inplace = True)\n",
    "\n",
    "#Rename Columns for our Master/Cross-Correlational Dataframe\n",
    "df_dji = df_dji.rename(columns ={'Close': \"DJI\"})\n",
    "df_sp500 = df_sp500.rename(columns ={'Close': \"SP500\"})\n",
    "df_nas = df_nas.rename(columns ={'Close': \"NASDAQ\"})\n",
    "\n",
    "\n"
   ]
  },
  {
   "cell_type": "code",
   "execution_count": 4,
   "metadata": {},
   "outputs": [],
   "source": [
    "#Upsampling Google Trends Data\n",
    "upsample = df_interest.resample('D')\n",
    "interpolated = upsample.interpolate(method='linear')\n",
    "df_interest = interpolated"
   ]
  },
  {
   "cell_type": "code",
   "execution_count": 5,
   "metadata": {},
   "outputs": [
    {
     "data": {
      "text/html": [
       "<div>\n",
       "<style scoped>\n",
       "    .dataframe tbody tr th:only-of-type {\n",
       "        vertical-align: middle;\n",
       "    }\n",
       "\n",
       "    .dataframe tbody tr th {\n",
       "        vertical-align: top;\n",
       "    }\n",
       "\n",
       "    .dataframe thead th {\n",
       "        text-align: right;\n",
       "    }\n",
       "</style>\n",
       "<table border=\"1\" class=\"dataframe\">\n",
       "  <thead>\n",
       "    <tr style=\"text-align: right;\">\n",
       "      <th></th>\n",
       "      <th>Gas prices</th>\n",
       "    </tr>\n",
       "    <tr>\n",
       "      <th>date</th>\n",
       "      <th></th>\n",
       "    </tr>\n",
       "  </thead>\n",
       "  <tbody>\n",
       "    <tr>\n",
       "      <th>2004-01-01</th>\n",
       "      <td>5.000000</td>\n",
       "    </tr>\n",
       "    <tr>\n",
       "      <th>2004-01-02</th>\n",
       "      <td>5.032258</td>\n",
       "    </tr>\n",
       "    <tr>\n",
       "      <th>2004-01-03</th>\n",
       "      <td>5.064516</td>\n",
       "    </tr>\n",
       "    <tr>\n",
       "      <th>2004-01-04</th>\n",
       "      <td>5.096774</td>\n",
       "    </tr>\n",
       "    <tr>\n",
       "      <th>2004-01-05</th>\n",
       "      <td>5.129032</td>\n",
       "    </tr>\n",
       "  </tbody>\n",
       "</table>\n",
       "</div>"
      ],
      "text/plain": [
       "            Gas prices\n",
       "date                  \n",
       "2004-01-01    5.000000\n",
       "2004-01-02    5.032258\n",
       "2004-01-03    5.064516\n",
       "2004-01-04    5.096774\n",
       "2004-01-05    5.129032"
      ]
     },
     "execution_count": 5,
     "metadata": {},
     "output_type": "execute_result"
    }
   ],
   "source": [
    "df_interest.head()"
   ]
  },
  {
   "cell_type": "code",
   "execution_count": 6,
   "metadata": {},
   "outputs": [
    {
     "data": {
      "text/html": [
       "<div>\n",
       "<style scoped>\n",
       "    .dataframe tbody tr th:only-of-type {\n",
       "        vertical-align: middle;\n",
       "    }\n",
       "\n",
       "    .dataframe tbody tr th {\n",
       "        vertical-align: top;\n",
       "    }\n",
       "\n",
       "    .dataframe thead th {\n",
       "        text-align: right;\n",
       "    }\n",
       "</style>\n",
       "<table border=\"1\" class=\"dataframe\">\n",
       "  <thead>\n",
       "    <tr style=\"text-align: right;\">\n",
       "      <th></th>\n",
       "      <th>gas_price</th>\n",
       "    </tr>\n",
       "    <tr>\n",
       "      <th>Date</th>\n",
       "      <th></th>\n",
       "    </tr>\n",
       "  </thead>\n",
       "  <tbody>\n",
       "    <tr>\n",
       "      <th>1993-04-05</th>\n",
       "      <td>1.068</td>\n",
       "    </tr>\n",
       "    <tr>\n",
       "      <th>1993-04-12</th>\n",
       "      <td>1.079</td>\n",
       "    </tr>\n",
       "    <tr>\n",
       "      <th>1993-04-19</th>\n",
       "      <td>1.079</td>\n",
       "    </tr>\n",
       "    <tr>\n",
       "      <th>1993-04-26</th>\n",
       "      <td>1.086</td>\n",
       "    </tr>\n",
       "    <tr>\n",
       "      <th>1993-05-03</th>\n",
       "      <td>1.086</td>\n",
       "    </tr>\n",
       "  </tbody>\n",
       "</table>\n",
       "</div>"
      ],
      "text/plain": [
       "            gas_price\n",
       "Date                 \n",
       "1993-04-05      1.068\n",
       "1993-04-12      1.079\n",
       "1993-04-19      1.079\n",
       "1993-04-26      1.086\n",
       "1993-05-03      1.086"
      ]
     },
     "execution_count": 6,
     "metadata": {},
     "output_type": "execute_result"
    }
   ],
   "source": [
    "df_gas.head()"
   ]
  },
  {
   "cell_type": "code",
   "execution_count": 7,
   "metadata": {},
   "outputs": [
    {
     "data": {
      "text/html": [
       "<div>\n",
       "<style scoped>\n",
       "    .dataframe tbody tr th:only-of-type {\n",
       "        vertical-align: middle;\n",
       "    }\n",
       "\n",
       "    .dataframe tbody tr th {\n",
       "        vertical-align: top;\n",
       "    }\n",
       "\n",
       "    .dataframe thead th {\n",
       "        text-align: right;\n",
       "    }\n",
       "</style>\n",
       "<table border=\"1\" class=\"dataframe\">\n",
       "  <thead>\n",
       "    <tr style=\"text-align: right;\">\n",
       "      <th></th>\n",
       "      <th>DJI</th>\n",
       "    </tr>\n",
       "    <tr>\n",
       "      <th>Date</th>\n",
       "      <th></th>\n",
       "    </tr>\n",
       "  </thead>\n",
       "  <tbody>\n",
       "    <tr>\n",
       "      <th>1985-01-29</th>\n",
       "      <td>1292.619995</td>\n",
       "    </tr>\n",
       "    <tr>\n",
       "      <th>1985-01-30</th>\n",
       "      <td>1287.880005</td>\n",
       "    </tr>\n",
       "    <tr>\n",
       "      <th>1985-01-31</th>\n",
       "      <td>1286.770020</td>\n",
       "    </tr>\n",
       "    <tr>\n",
       "      <th>1985-02-01</th>\n",
       "      <td>1277.719971</td>\n",
       "    </tr>\n",
       "    <tr>\n",
       "      <th>1985-02-04</th>\n",
       "      <td>1290.079956</td>\n",
       "    </tr>\n",
       "  </tbody>\n",
       "</table>\n",
       "</div>"
      ],
      "text/plain": [
       "                    DJI\n",
       "Date                   \n",
       "1985-01-29  1292.619995\n",
       "1985-01-30  1287.880005\n",
       "1985-01-31  1286.770020\n",
       "1985-02-01  1277.719971\n",
       "1985-02-04  1290.079956"
      ]
     },
     "execution_count": 7,
     "metadata": {},
     "output_type": "execute_result"
    }
   ],
   "source": [
    "df_dji.head()"
   ]
  },
  {
   "cell_type": "code",
   "execution_count": 8,
   "metadata": {},
   "outputs": [
    {
     "data": {
      "text/html": [
       "<div>\n",
       "<style scoped>\n",
       "    .dataframe tbody tr th:only-of-type {\n",
       "        vertical-align: middle;\n",
       "    }\n",
       "\n",
       "    .dataframe tbody tr th {\n",
       "        vertical-align: top;\n",
       "    }\n",
       "\n",
       "    .dataframe thead th {\n",
       "        text-align: right;\n",
       "    }\n",
       "</style>\n",
       "<table border=\"1\" class=\"dataframe\">\n",
       "  <thead>\n",
       "    <tr style=\"text-align: right;\">\n",
       "      <th></th>\n",
       "      <th>SP500</th>\n",
       "    </tr>\n",
       "    <tr>\n",
       "      <th>Date</th>\n",
       "      <th></th>\n",
       "    </tr>\n",
       "  </thead>\n",
       "  <tbody>\n",
       "    <tr>\n",
       "      <th>1950-01-03</th>\n",
       "      <td>16.66</td>\n",
       "    </tr>\n",
       "    <tr>\n",
       "      <th>1950-01-04</th>\n",
       "      <td>16.85</td>\n",
       "    </tr>\n",
       "    <tr>\n",
       "      <th>1950-01-05</th>\n",
       "      <td>16.93</td>\n",
       "    </tr>\n",
       "    <tr>\n",
       "      <th>1950-01-06</th>\n",
       "      <td>16.98</td>\n",
       "    </tr>\n",
       "    <tr>\n",
       "      <th>1950-01-09</th>\n",
       "      <td>17.08</td>\n",
       "    </tr>\n",
       "  </tbody>\n",
       "</table>\n",
       "</div>"
      ],
      "text/plain": [
       "            SP500\n",
       "Date             \n",
       "1950-01-03  16.66\n",
       "1950-01-04  16.85\n",
       "1950-01-05  16.93\n",
       "1950-01-06  16.98\n",
       "1950-01-09  17.08"
      ]
     },
     "execution_count": 8,
     "metadata": {},
     "output_type": "execute_result"
    }
   ],
   "source": [
    "df_sp500.head()"
   ]
  },
  {
   "cell_type": "code",
   "execution_count": 9,
   "metadata": {},
   "outputs": [
    {
     "data": {
      "text/html": [
       "<div>\n",
       "<style scoped>\n",
       "    .dataframe tbody tr th:only-of-type {\n",
       "        vertical-align: middle;\n",
       "    }\n",
       "\n",
       "    .dataframe tbody tr th {\n",
       "        vertical-align: top;\n",
       "    }\n",
       "\n",
       "    .dataframe thead th {\n",
       "        text-align: right;\n",
       "    }\n",
       "</style>\n",
       "<table border=\"1\" class=\"dataframe\">\n",
       "  <thead>\n",
       "    <tr style=\"text-align: right;\">\n",
       "      <th></th>\n",
       "      <th>NASDAQ</th>\n",
       "    </tr>\n",
       "    <tr>\n",
       "      <th>Date</th>\n",
       "      <th></th>\n",
       "    </tr>\n",
       "  </thead>\n",
       "  <tbody>\n",
       "    <tr>\n",
       "      <th>1971-02-05</th>\n",
       "      <td>100.000000</td>\n",
       "    </tr>\n",
       "    <tr>\n",
       "      <th>1971-02-08</th>\n",
       "      <td>100.839996</td>\n",
       "    </tr>\n",
       "    <tr>\n",
       "      <th>1971-02-09</th>\n",
       "      <td>100.760002</td>\n",
       "    </tr>\n",
       "    <tr>\n",
       "      <th>1971-02-10</th>\n",
       "      <td>100.690002</td>\n",
       "    </tr>\n",
       "    <tr>\n",
       "      <th>1971-02-11</th>\n",
       "      <td>101.449997</td>\n",
       "    </tr>\n",
       "  </tbody>\n",
       "</table>\n",
       "</div>"
      ],
      "text/plain": [
       "                NASDAQ\n",
       "Date                  \n",
       "1971-02-05  100.000000\n",
       "1971-02-08  100.839996\n",
       "1971-02-09  100.760002\n",
       "1971-02-10  100.690002\n",
       "1971-02-11  101.449997"
      ]
     },
     "execution_count": 9,
     "metadata": {},
     "output_type": "execute_result"
    }
   ],
   "source": [
    "df_nas.head()"
   ]
  },
  {
   "cell_type": "markdown",
   "metadata": {},
   "source": [
    "We can now combine these dataframes into one to get how correlated they are. So we want to join the dataframes on their dates so that they line up to do a pairwise comparision. Then we want to drop any null values so that they are do not affect the analysis."
   ]
  },
  {
   "cell_type": "code",
   "execution_count": 10,
   "metadata": {},
   "outputs": [
    {
     "data": {
      "text/html": [
       "<div>\n",
       "<style scoped>\n",
       "    .dataframe tbody tr th:only-of-type {\n",
       "        vertical-align: middle;\n",
       "    }\n",
       "\n",
       "    .dataframe tbody tr th {\n",
       "        vertical-align: top;\n",
       "    }\n",
       "\n",
       "    .dataframe thead th {\n",
       "        text-align: right;\n",
       "    }\n",
       "</style>\n",
       "<table border=\"1\" class=\"dataframe\">\n",
       "  <thead>\n",
       "    <tr style=\"text-align: right;\">\n",
       "      <th></th>\n",
       "      <th>Gas</th>\n",
       "      <th>Dow Jones</th>\n",
       "      <th>S&amp;P 500</th>\n",
       "      <th>NASDAQ</th>\n",
       "    </tr>\n",
       "    <tr>\n",
       "      <th>Date</th>\n",
       "      <th></th>\n",
       "      <th></th>\n",
       "      <th></th>\n",
       "      <th></th>\n",
       "    </tr>\n",
       "  </thead>\n",
       "  <tbody>\n",
       "    <tr>\n",
       "      <th>1993-04-05</th>\n",
       "      <td>1.068</td>\n",
       "      <td>3379.189941</td>\n",
       "      <td>442.290009</td>\n",
       "      <td>670.710022</td>\n",
       "    </tr>\n",
       "    <tr>\n",
       "      <th>1993-04-12</th>\n",
       "      <td>1.079</td>\n",
       "      <td>3428.090088</td>\n",
       "      <td>448.369995</td>\n",
       "      <td>673.119995</td>\n",
       "    </tr>\n",
       "    <tr>\n",
       "      <th>1993-04-19</th>\n",
       "      <td>1.079</td>\n",
       "      <td>3466.989990</td>\n",
       "      <td>447.459991</td>\n",
       "      <td>663.030029</td>\n",
       "    </tr>\n",
       "    <tr>\n",
       "      <th>1993-04-26</th>\n",
       "      <td>1.086</td>\n",
       "      <td>3398.370117</td>\n",
       "      <td>433.540009</td>\n",
       "      <td>645.869995</td>\n",
       "    </tr>\n",
       "    <tr>\n",
       "      <th>1993-05-03</th>\n",
       "      <td>1.086</td>\n",
       "      <td>3446.459961</td>\n",
       "      <td>442.459991</td>\n",
       "      <td>666.710022</td>\n",
       "    </tr>\n",
       "    <tr>\n",
       "      <th>1993-05-10</th>\n",
       "      <td>1.097</td>\n",
       "      <td>3443.280029</td>\n",
       "      <td>442.799988</td>\n",
       "      <td>682.820007</td>\n",
       "    </tr>\n",
       "    <tr>\n",
       "      <th>1993-05-17</th>\n",
       "      <td>1.106</td>\n",
       "      <td>3449.929932</td>\n",
       "      <td>440.369995</td>\n",
       "      <td>677.960022</td>\n",
       "    </tr>\n",
       "    <tr>\n",
       "      <th>1993-05-24</th>\n",
       "      <td>1.106</td>\n",
       "      <td>3507.780029</td>\n",
       "      <td>448.000000</td>\n",
       "      <td>694.690002</td>\n",
       "    </tr>\n",
       "    <tr>\n",
       "      <th>1993-06-07</th>\n",
       "      <td>1.104</td>\n",
       "      <td>3532.129883</td>\n",
       "      <td>447.690002</td>\n",
       "      <td>694.609985</td>\n",
       "    </tr>\n",
       "    <tr>\n",
       "      <th>1993-06-14</th>\n",
       "      <td>1.101</td>\n",
       "      <td>3514.689941</td>\n",
       "      <td>447.709991</td>\n",
       "      <td>696.409973</td>\n",
       "    </tr>\n",
       "  </tbody>\n",
       "</table>\n",
       "</div>"
      ],
      "text/plain": [
       "              Gas    Dow Jones     S&P 500      NASDAQ\n",
       "Date                                                  \n",
       "1993-04-05  1.068  3379.189941  442.290009  670.710022\n",
       "1993-04-12  1.079  3428.090088  448.369995  673.119995\n",
       "1993-04-19  1.079  3466.989990  447.459991  663.030029\n",
       "1993-04-26  1.086  3398.370117  433.540009  645.869995\n",
       "1993-05-03  1.086  3446.459961  442.459991  666.710022\n",
       "1993-05-10  1.097  3443.280029  442.799988  682.820007\n",
       "1993-05-17  1.106  3449.929932  440.369995  677.960022\n",
       "1993-05-24  1.106  3507.780029  448.000000  694.690002\n",
       "1993-06-07  1.104  3532.129883  447.690002  694.609985\n",
       "1993-06-14  1.101  3514.689941  447.709991  696.409973"
      ]
     },
     "execution_count": 10,
     "metadata": {},
     "output_type": "execute_result"
    }
   ],
   "source": [
    "df_corr = pd.concat([df_gas, df_dji, df_sp500, df_nas], axis=1, join_axes=[df_gas.index])\n",
    "df_corr = df_corr.rename(columns={\"gas_price\": \"Gas\", \"DJI\": \"Dow Jones\", \"SP500\": \"S&P 500\"})\n",
    "df_corr.dropna(axis=0, inplace = True)   #Drop null values\n",
    "df_corr.head(10)\n",
    "\n",
    "\n"
   ]
  },
  {
   "cell_type": "code",
   "execution_count": 43,
   "metadata": {},
   "outputs": [
    {
     "data": {
      "text/plain": [
       "800"
      ]
     },
     "execution_count": 43,
     "metadata": {},
     "output_type": "execute_result"
    }
   ],
   "source": [
    "##This is necessary because the indexes of Google Trends are not similar to that of the stock data, as the data begins in 2004.\n",
    "df_corr_trends = pd.concat([df_gas, df_interest], axis=1, join_axes=[df_gas.index])\n",
    "df_corr_trends = df_corr_trends.rename(columns={\"gas_price\": \"Gas\",\"Gas prices\": \"Google Trends\"})\n",
    "df_corr_trends.dropna(axis=0, inplace = True)   #Drop null values\n",
    "len(df_corr_trends)"
   ]
  },
  {
   "cell_type": "code",
   "execution_count": 44,
   "metadata": {},
   "outputs": [
    {
     "name": "stdout",
     "output_type": "stream",
     "text": [
      "(1235,) (1235,) (1235,) (1235,) (800,)\n"
     ]
    }
   ],
   "source": [
    "## Create 1D numpy arrays from dataframe columns\n",
    "dji_array = df_corr['Dow Jones'].values\n",
    "SP500_array = df_corr['S&P 500'].values\n",
    "NASDAQ_array = df_corr['NASDAQ'].values\n",
    "gas_array = df_corr['Gas'].values\n",
    "trends_array = df_corr_trends['Google Trends'].values\n",
    "print(dji_array.shape, SP500_array.shape, NASDAQ_array.shape, gas_array.shape, trends_array.shape)"
   ]
  },
  {
   "cell_type": "code",
   "execution_count": 45,
   "metadata": {},
   "outputs": [],
   "source": [
    "## Difference the data to get a stationary time series\n",
    "dji_array = np.diff(dji_array)\n",
    "SP500_array = np.diff(SP500_array)\n",
    "NASDAQ_array = np.diff(NASDAQ_array)\n",
    "gas_array = np.diff(gas_array)\n",
    "trends_array = np.diff(trends_array)\n",
    "\n",
    "## Normalize the values by subtracting each value by the minimum and then dividing by the range of the data\n",
    "for i in range(len(dji_array)):\n",
    "    dji_array[i] = (dji_array[i] - dji_array.min()) / (dji_array.max() - dji_array.min())\n",
    "    SP500_array[i] = (SP500_array[i] - SP500_array.min()) / (SP500_array.max() - SP500_array.min())\n",
    "    NASDAQ_array[i] = (NASDAQ_array[i] - NASDAQ_array.min()) / (NASDAQ_array.max() - NASDAQ_array.min())\n",
    "    gas_array[i] = (gas_array[i] - gas_array.min()) / (gas_array.max() - gas_array.min())\n",
    "\n",
    "for i in range(len(trends_array)):\n",
    "    trends_array[i] = (trends_array[i] - trends_array.min()) / (trends_array.max() - trends_array.min())\n",
    "\n",
    "corr_dji = sp.signal.correlate(dji_array, gas_array)\n",
    "corr_NASDAQ = sp.signal.correlate(NASDAQ_array, gas_array)\n",
    "corr_SP500 = sp.signal.correlate(SP500_array, gas_array)\n",
    "corr_trends = sp.signal.correlate(trends_array, gas_array)"
   ]
  },
  {
   "cell_type": "markdown",
   "metadata": {},
   "source": [
    "## Cross Correlation"
   ]
  },
  {
   "cell_type": "markdown",
   "metadata": {},
   "source": [
    "We plotted the cross-correlation between all stock data and google trends data to gas prices. The cross-correlation is roughly normally distributed."
   ]
  },
  {
   "cell_type": "code",
   "execution_count": 46,
   "metadata": {},
   "outputs": [
    {
     "data": {
      "image/png": "[encoded data removed]",
      "text/plain": [
       "<Figure size 432x288 with 1 Axes>"
      ]
     },
     "metadata": {
      "needs_background": "light"
     },
     "output_type": "display_data"
    }
   ],
   "source": [
    "plt.plot(corr_dji, color = 'r'); plt.title('DJI to Gas')\n",
    "plt.show()"
   ]
  },
  {
   "cell_type": "code",
   "execution_count": 47,
   "metadata": {},
   "outputs": [
    {
     "data": {
      "image/png": "[encoded data removed]",
      "text/plain": [
       "<Figure size 432x288 with 1 Axes>"
      ]
     },
     "metadata": {
      "needs_background": "light"
     },
     "output_type": "display_data"
    }
   ],
   "source": [
    "plt.plot(corr_NASDAQ, color = 'g'); plt.title('NASDAQ to Gas')\n",
    "plt.show()"
   ]
  },
  {
   "cell_type": "code",
   "execution_count": 48,
   "metadata": {},
   "outputs": [
    {
     "data": {
      "image/png": "[encoded data removed]",
      "text/plain": [
       "<Figure size 432x288 with 1 Axes>"
      ]
     },
     "metadata": {
      "needs_background": "light"
     },
     "output_type": "display_data"
    }
   ],
   "source": [
    "plt.plot(corr_SP500); plt.title('S&P 500 to Gas')\n",
    "plt.show()"
   ]
  },
  {
   "cell_type": "code",
   "execution_count": 49,
   "metadata": {},
   "outputs": [
    {
     "data": {
      "image/png": "[encoded data removed]",
      "text/plain": [
       "<Figure size 432x288 with 1 Axes>"
      ]
     },
     "metadata": {
      "needs_background": "light"
     },
     "output_type": "display_data"
    }
   ],
   "source": [
    "plt.plot(corr_trends, color = 'purple'); plt.title('Google Trends to Gas')\n",
    "plt.show()"
   ]
  },
  {
   "cell_type": "code",
   "execution_count": null,
   "metadata": {},
   "outputs": [],
   "source": []
  },
  {
   "cell_type": "code",
   "execution_count": null,
   "metadata": {},
   "outputs": [],
   "source": []
  }
 ],
 "metadata": {
  "kernelspec": {
   "display_name": "Python 3",
   "language": "python",
   "name": "python3"
  },
  "language_info": {
   "codemirror_mode": {
    "name": "ipython",
    "version": 3
   },
   "file_extension": ".py",
   "mimetype": "text/x-python",
   "name": "python",
   "nbconvert_exporter": "python",
   "pygments_lexer": "ipython3",
   "version": "3.7.1"
  }
 },
 "nbformat": 4,
 "nbformat_minor": 2
}
