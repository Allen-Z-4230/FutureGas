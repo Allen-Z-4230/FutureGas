{
 "cells": [
  {
   "cell_type": "code",
   "execution_count": 83,
   "metadata": {},
   "outputs": [],
   "source": [
    "import pandas as pd"
   ]
  },
  {
   "cell_type": "code",
   "execution_count": 84,
   "metadata": {},
   "outputs": [],
   "source": [
    "df_dji = pd.read_csv(\"DJI.csv\")  ## Read"
   ]
  },
  {
   "cell_type": "code",
   "execution_count": 80,
   "metadata": {},
   "outputs": [],
   "source": [
    "file = pd.ExcelFile(\"GAS.xls\")   ## Load the gas database\n",
    "## file.sheet_names ##           ##This helped me narrow down the database from the download sheet\n",
    "df_gas= file.parse('Data 1', header=2, ncolumns=2) # Parse the file, saving as our database\n",
    "df_gas.drop(['U.S. All Grades Conventional Retail Gasoline Prices (Dollars per Gallon)',\n",
    "           'U.S. All Grades Reformulated Retail Gasoline Prices (Dollars per Gallon)',\n",
    "           'U.S. Regular All Formulations Retail Gasoline Prices (Dollars per Gallon)',\n",
    "           'U.S. Regular Conventional Retail Gasoline Prices (Dollars per Gallon)',\n",
    "           'U.S. Regular Reformulated Retail Gasoline Prices (Dollars per Gallon)',\n",
    "           'U.S. Midgrade All Formulations Retail Gasoline Prices (Dollars per Gallon)',\n",
    "           'U.S. Midgrade Conventional Retail Gasoline Prices (Dollars per Gallon)',\n",
    "           'U.S. Midgrade Reformulated Retail Gasoline Prices (Dollars per Gallon)',\n",
    "           'U.S. Premium All Formulations Retail Gasoline Prices (Dollars per Gallon)',\n",
    "           'U.S. Premium Conventional Retail Gasoline Prices (Dollars per Gallon)',\n",
    "           'U.S. Premium Reformulated Retail Gasoline Prices (Dollars per Gallon)',\n",
    "           'U.S. No 2 Diesel Retail Prices (Dollars per Gallon)',\n",
    "           'U.S. No 2 Diesel Ultra Low Sulfur (0-15 ppm) Retail Prices (Dollars per Gallon)',\n",
    "           'U.S. No 2 Diesel Low Sulfur (15-500 ppm) Retail Prices (Dollars per Gallon)'],\n",
    "           axis = 1, inplace = True)\n",
    "## I dropped all useless columns"
   ]
  },
  {
   "cell_type": "code",
   "execution_count": 81,
   "metadata": {
    "scrolled": true
   },
   "outputs": [
    {
     "data": {
      "text/plain": [
       "['Contents', 'Data 1']"
      ]
     },
     "execution_count": 81,
     "metadata": {},
     "output_type": "execute_result"
    }
   ],
   "source": [
    "file.sheet_names"
   ]
  }
 ],
 "metadata": {
  "kernelspec": {
   "display_name": "Python 3",
   "language": "python",
   "name": "python3"
  },
  "language_info": {
   "codemirror_mode": {
    "name": "ipython",
    "version": 3
   },
   "file_extension": ".py",
   "mimetype": "text/x-python",
   "name": "python",
   "nbconvert_exporter": "python",
   "pygments_lexer": "ipython3",
   "version": "3.7.1"
  }
 },
 "nbformat": 4,
 "nbformat_minor": 2
}
