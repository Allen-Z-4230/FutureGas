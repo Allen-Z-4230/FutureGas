{
 "cells": [
  {
   "cell_type": "code",
   "execution_count": null,
   "metadata": {},
   "outputs": [],
   "source": [
    "%matplotlib inline\n",
    "import numpy as np\n",
    "import scipy as sp\n",
    "import pandas as pd\n",
    "import datetime\n",
    "\n",
    "\n",
    "from matplotlib import pyplot as plt\n",
    "from statsmodels.tsa.arima_model import ARIMA\n",
    "from statsmodels.tsa.stattools import adfuller\n",
    "from statsmodels.graphics.tsaplots import plot_acf, plot_pacf\n",
    "from pandas.tools.plotting import autocorrelation_plot\n",
    "from pandas.plotting import register_matplotlib_converters\n",
    "\n",
    "df_dji = pd.read_csv(\"data/DJI.csv\") ## Reading DJI\n",
    "df_sp500 = pd.read_csv('data/S&P500.csv')\n",
    "file = pd.ExcelFile(\"data/GAS.xls\")   ## Load the gas prices database\n",
    "df_nas = pd.read_csv('data/NASDAQ.csv')\n",
    "\n",
    "#Column selection\n",
    "df_gas= file.parse('Data 1', header=2, ncolumns=2) # Parse the file, saving as our database\n",
    "df_gas = df_gas[['Date', 'Weekly U.S. All Grades All Formulations Retail Gasoline Prices  (Dollars per Gallon)']]\n",
    "df_gas = df_gas.rename(index=str, columns={\"Weekly U.S. All Grades All Formulations Retail Gasoline Prices  (Dollars per Gallon)\": \"gas_price\"})\n",
    "df_gas_copy = df_gas.copy()  # need to copy gas here before the offsets\n",
    "df_gas['Date'] = df_gas.Date + pd.offsets.MonthBegin(1) #setting date from the 15th to the 1st\n",
    "df_nas = df_nas[['Date', 'Close']]\n",
    "#Stocks\n",
    "df_dji = df_dji[['Date', 'Close']]\n",
    "df_sp500 = df_sp500[['Date', 'Close']]\n",
    "\n",
    "#Dropping NaN values\n",
    "df_gas.dropna(axis=0, inplace=True)\n",
    "df_sp500.dropna(axis=0, inplace=True)\n",
    "df_dji.dropna(axis=0, inplace=True)\n",
    "df_nas.dropna(axis=0, inplace=True)\n",
    "\n",
    "\n",
    "#Converting dates from string to datetime\n",
    "df_dji['Date'] = pd.to_datetime(df_dji.Date)\n",
    "df_sp500['Date'] = pd.to_datetime(df_sp500.Date)\n",
    "df_gas_copy['Date'] = pd.to_datetime(df_gas_copy.Date)\n",
    "df_nas['Date'] = pd.to_datetime(df_nas.Date)\n",
    "\n",
    "#merging\n",
    "#df = df_dji.merge(df_sp500, how='inner', on='Date')\n",
    "#df = df.merge(df_gas, how='inner', on='Date')\n"
   ]
  },
  {
   "cell_type": "code",
   "execution_count": null,
   "metadata": {
    "scrolled": false
   },
   "outputs": [],
   "source": [
    "#Set indexes\n",
    "df_gas.set_index('Date', inplace = True)\n",
    "df_dji.set_index('Date', inplace = True)\n",
    "df_gas_copy.set_index('Date', inplace = True)\n",
    "df_sp500.set_index('Date', inplace = True)\n",
    "df_nas.set_index('Date', inplace = True)\n",
    "#Make copies of the dataframes\n",
    "df_dji_copy = df_dji.copy()\n",
    "df_sp500_copy = df_sp500.copy()\n",
    "df_nas_copy = df_nas.copy()\n",
    "#Rename Columns for our Master/Cross-Correlational Dataframe\n",
    "df_dji_copy = df_dji.rename(columns ={'Close': \"DJI\"})\n",
    "df_sp500_copy = df_sp500.rename(columns ={'Close': \"SP500\"})\n",
    "df_nas_copy = df_nas.rename(columns ={'Close': \"NASDAQ\"})\n"
   ]
  },
  {
   "cell_type": "code",
   "execution_count": null,
   "metadata": {},
   "outputs": [],
   "source": [
    "#Construct Correlation Dataframe relative to gas\n",
    "df_corr_gas = pd.concat([df_gas_copy, df_dji_copy, df_sp500_copy, df_nas_copy], axis=1, join_axes=[df_gas_copy.index])\n",
    "df_corr_gas.dropna(axis=0, inplace = True)   #Drop null values\n",
    "\n",
    "#Construct Correlation Dataframe for stocks\n",
    "df_corr_stocks = pd.concat([df_dji_copy, df_sp500_copy, df_nas_copy], axis=1, join_axes=[df_dji_copy.index])\n",
    "df_corr_gas"
   ]
  },
  {
   "cell_type": "code",
   "execution_count": null,
   "metadata": {},
   "outputs": [],
   "source": [
    "df_gas"
   ]
  },
  {
   "cell_type": "code",
   "execution_count": null,
   "metadata": {},
   "outputs": [],
   "source": [
    "df_dji.plot(figsize = (15, 5))"
   ]
  },
  {
   "cell_type": "code",
   "execution_count": null,
   "metadata": {},
   "outputs": [],
   "source": [
    "df_dji_week = pd.DataFrame(df_dji.resample('W').mean())\n",
    "df_dji_week.head()"
   ]
  },
  {
   "cell_type": "markdown",
   "metadata": {},
   "source": [
    "## Manual Parameter Selection (d)"
   ]
  },
  {
   "cell_type": "code",
   "execution_count": null,
   "metadata": {},
   "outputs": [],
   "source": [
    "fig, axes = plt.subplots(3,2, figsize = (30,15), sharex = True)\n",
    "axes[0,0].plot(df_dji_week.values); axes[0,0].set_title('Original Series')\n",
    "plot_acf(df_dji_week.values, ax=axes[0,1])\n",
    "\n",
    "#First Differencing\n",
    "axes[1,0].plot(np.diff(df_dji_week.values, axis = 0)); axes[1,0].set_title('First Order Differencing')\n",
    "plot_acf(np.diff(df_dji_week.values, axis = 0), ax = axes[1,1])\n",
    "\n",
    "#Second Differencing\n",
    "axes[2,0].plot(np.diff(np.diff(df_dji_week.values, axis = 0), axis = 0)); axes[2,0].set_title('Second Order Differencing')\n",
    "plot_acf(np.diff(np.diff(df_dji_week.values, axis = 0), axis = 0), ax = axes[2,1])\n",
    "\n",
    "plt.show()"
   ]
  },
  {
   "cell_type": "markdown",
   "metadata": {},
   "source": [
    "\n",
    "### First Order Differencing with Ad-Fuller Test"
   ]
  },
  {
   "cell_type": "code",
   "execution_count": null,
   "metadata": {},
   "outputs": [],
   "source": [
    "adf_dji0 = adfuller(df_dji_week['Close'])\n",
    "print('ADF Statistic: %f' % adf_dji0[0], 'p-value: %f' % adf_dji0[1])\n",
    "adf_dji1 = adfuller(np.diff(df_dji_week['Close'], axis = 0))\n",
    "print('ADF Statistic1: %f' % adf_dji1[0], 'p-value: %f' % adf_dji1[1])\n",
    "adf_dji2 = adfuller(np.diff(np.diff(df_dji_week['Close'], axis = 0),axis = 0))\n",
    "print('ADF Statistic2: %f' % adf_dji2[0], 'p-value: %f' % adf_dji2[1])"
   ]
  },
  {
   "cell_type": "code",
   "execution_count": null,
   "metadata": {},
   "outputs": [],
   "source": [
    "plot_pacf(np.diff(df_dji_week['Close'], axis = 0), lags = 40);"
   ]
  },
  {
   "cell_type": "markdown",
   "metadata": {},
   "source": [
    "Note that the PACF plot has a significant spike only at lag 1, meaning that all the higher-order autocorrelations are effectively explained by the lag-1 autocorrelation. "
   ]
  },
  {
   "cell_type": "code",
   "execution_count": null,
   "metadata": {},
   "outputs": [],
   "source": [
    "plot_acf(np.diff(df_dji_week['Close'], axis = 0), lags = 40);"
   ]
  },
  {
   "cell_type": "markdown",
   "metadata": {},
   "source": [
    "## Fitting"
   ]
  },
  {
   "cell_type": "code",
   "execution_count": null,
   "metadata": {},
   "outputs": [],
   "source": [
    "order=np.array([1,1,1])\n",
    "model_dji = ARIMA(df_dji_week, order= order)\n",
    "model_dji_fit = model_dji.fit()\n",
    "print(model_dji_fit.summary())"
   ]
  },
  {
   "cell_type": "code",
   "execution_count": null,
   "metadata": {},
   "outputs": [],
   "source": []
  },
  {
   "cell_type": "code",
   "execution_count": null,
   "metadata": {},
   "outputs": [],
   "source": [
    "residuals = pd.DataFrame(model_dji_fit.resid)\n",
    "plot_acf(residuals, lags = 20)\n",
    "residuals.plot()\n",
    "residuals.plot(kind = 'kde')\n",
    "print(residuals.describe())"
   ]
  },
  {
   "cell_type": "markdown",
   "metadata": {},
   "source": [
    "## Predicting"
   ]
  },
  {
   "cell_type": "code",
   "execution_count": null,
   "metadata": {},
   "outputs": [],
   "source": [
    "### model_dji_fit.plot_predict('2010', '2021', dynamic = False)\n",
    "model_dji_fit.plot_predict(start = '2005', end = '2022',dynamic = False)\n",
    "\n",
    "plt.show()"
   ]
  },
  {
   "cell_type": "markdown",
   "metadata": {},
   "source": [
    "# EDA - DOW JONES INDUSTRIAL AVERAGE\n",
    "\n"
   ]
  },
  {
   "cell_type": "markdown",
   "metadata": {},
   "source": [
    "## Structure: \n",
    "DOW Jones Industrial Average Data came from a CSV. Each observation is in a seperate row. There is daily a data observation for approximately 70% of days in the 34 year span of 1985 to 2019. The data is 70% of days because it is only collected on the weekdays. The data is not spread across multiple tables.\n"
   ]
  },
  {
   "cell_type": "code",
   "execution_count": null,
   "metadata": {},
   "outputs": [],
   "source": [
    "df_dji.head()"
   ]
  },
  {
   "cell_type": "code",
   "execution_count": null,
   "metadata": {},
   "outputs": [],
   "source": [
    "df_dji.dtypes"
   ]
  },
  {
   "cell_type": "markdown",
   "metadata": {},
   "source": [
    "## Granularity: \n",
    "Each row (observation) represents the market value of the Dow Jones at the end of the weekday. The data is not summarized or aggregated, but instead used as a time-series model for its rate of change.\n"
   ]
  },
  {
   "cell_type": "code",
   "execution_count": null,
   "metadata": {},
   "outputs": [],
   "source": [
    "df_dji.shape"
   ]
  },
  {
   "cell_type": "code",
   "execution_count": null,
   "metadata": {},
   "outputs": [],
   "source": [
    "df_dji.describe()"
   ]
  },
  {
   "cell_type": "markdown",
   "metadata": {},
   "source": [
    "## Scope: \n",
    "Data is comprehensive of the last 34 years, with the exception of weekend observations because the stock market is open 9:30am - 4pm Eastern, Monday - Friday."
   ]
  },
  {
   "cell_type": "code",
   "execution_count": null,
   "metadata": {},
   "outputs": [],
   "source": [
    "plt.plot(df_dji['Close'])"
   ]
  },
  {
   "cell_type": "markdown",
   "metadata": {},
   "source": [
    "## Temporality: \n",
    "The date in the dataset represents the market value of the DOW at 4pm on weekdays (closing time). It is represented in YYYY-MM-DD. We plan to use this data as the x axis of our plot."
   ]
  },
  {
   "cell_type": "markdown",
   "metadata": {},
   "source": [
    "## Faithfulness: \n",
    "The data is reasonable and to be expected. The data was measured by a computer and remains consistent across time. There are no obvious signs of falsification or any reason to disbelieve the data."
   ]
  },
  {
   "cell_type": "code",
   "execution_count": null,
   "metadata": {},
   "outputs": [],
   "source": []
  }
 ],
 "metadata": {
  "kernelspec": {
   "display_name": "Python 3",
   "language": "python",
   "name": "python3"
  },
  "language_info": {
   "codemirror_mode": {
    "name": "ipython",
    "version": 3
   },
   "file_extension": ".py",
   "mimetype": "text/x-python",
   "name": "python",
   "nbconvert_exporter": "python",
   "pygments_lexer": "ipython3",
   "version": "3.7.1"
  }
 },
 "nbformat": 4,
 "nbformat_minor": 2
}
